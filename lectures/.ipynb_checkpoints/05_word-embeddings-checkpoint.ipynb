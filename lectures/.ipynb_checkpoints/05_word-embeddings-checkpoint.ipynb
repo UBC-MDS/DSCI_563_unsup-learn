{
 "cells": [
  {
   "cell_type": "markdown",
   "metadata": {
    "slideshow": {
     "slide_type": "slide"
    }
   },
   "source": [
    "![](img/563_banner.png)"
   ]
  },
  {
   "cell_type": "markdown",
   "metadata": {
    "tags": []
   },
   "source": [
    "# Lecture 5: Word Embeddings, word2vec\n",
    "UBC Master of Data Science program, 2022-23\n",
    "\n",
    "Instructor: Varada Kolhatkar"
   ]
  },
  {
   "cell_type": "markdown",
   "metadata": {},
   "source": [
    "## Lecture plan, imports, LOs"
   ]
  },
  {
   "cell_type": "markdown",
   "metadata": {},
   "source": [
    "### Lecture plan \n",
    "\n",
    "- Introduction and motivation (~5 mins)\n",
    "- Summary of pre-watch videos (~20 mins)\n",
    "- Demo of word2vec skipgram (extremely inefficient version) on a toy corpus (~10 mins)\n",
    "- Q&A and T/F questions (~5 mins )\n",
    "- Break (~5 mins)\n",
    "- Training word2vec (~10 mins)\n",
    "- Word analogies, biases and stereotypes in word embeddings (~10 mins)\n",
    "- Q&A and T/F questions (~5 mins )\n",
    "- Final comments, summary, reflection (~5 mins) "
   ]
  },
  {
   "cell_type": "markdown",
   "metadata": {},
   "source": [
    "<br><br><br><br>"
   ]
  },
  {
   "cell_type": "markdown",
   "metadata": {
    "slideshow": {
     "slide_type": "skip"
    }
   },
   "source": [
    "### Imports "
   ]
  },
  {
   "cell_type": "code",
   "execution_count": 1,
   "metadata": {
    "slideshow": {
     "slide_type": "skip"
    }
   },
   "outputs": [],
   "source": [
    "import os\n",
    "import random\n",
    "import sys\n",
    "import time\n",
    "\n",
    "import numpy as np\n",
    "import pandas as pd\n",
    "\n",
    "sys.path.append(\"code/.\")\n",
    "\n",
    "import matplotlib.pyplot as plt\n",
    "from comat import CooccurrenceMatrix\n",
    "from preprocessing import MyPreprocessor\n",
    "from sklearn.decomposition import PCA, TruncatedSVD\n",
    "from sklearn.feature_extraction.text import CountVectorizer\n",
    "# from support_functions import *\n",
    "\n",
    "plt.rcParams[\"font.size\"] = 16\n",
    "import matplotlib.cm as cm\n",
    "\n",
    "%matplotlib inline\n",
    "pd.set_option(\"display.max_colwidth\", 0)"
   ]
  },
  {
   "cell_type": "markdown",
   "metadata": {},
   "source": [
    "<br><br><br><br>"
   ]
  },
  {
   "cell_type": "markdown",
   "metadata": {
    "slideshow": {
     "slide_type": "skip"
    }
   },
   "source": [
    "### Learning outcomes\n",
    "\n",
    "From this lecture, students are expected to be able to:\n",
    "\n",
    "- Explain the general idea of a vector space model.\n",
    "- Explain the difference between different word representations: one-hot encoding, term-term co-occurrence matrix representation, and word2vec representation. \n",
    "- Explain the skip-gram model at a high level.\n",
    "- Load and use pre-trained word embeddings to find word similarities and analogies.  \n",
    "- Train your own word vectors with `Gensim`.\n",
    "- Use word2vec models for word similarity and analogies.\n",
    "- Demonstrate biases in word2vec models and learn to watch out for such biases in pre-trained embeddings.  "
   ]
  },
  {
   "cell_type": "markdown",
   "metadata": {
    "slideshow": {
     "slide_type": "skip"
    }
   },
   "source": [
    "<br><br><br><br>"
   ]
  },
  {
   "cell_type": "markdown",
   "metadata": {
    "slideshow": {
     "slide_type": "slide"
    }
   },
   "source": [
    "## Motivation and context"
   ]
  },
  {
   "cell_type": "code",
   "execution_count": 2,
   "metadata": {},
   "outputs": [],
   "source": [
    "# It'll take a while to run this when you try it out for the first time.\n",
    "import gensim.downloader as api\n",
    "\n",
    "google_news_vectors = api.load(\"word2vec-google-news-300\")"
   ]
  },
  {
   "cell_type": "code",
   "execution_count": 3,
   "metadata": {},
   "outputs": [],
   "source": [
    "def analogy(word1, word2, word3, model=google_news_vectors):\n",
    "    \"\"\"\n",
    "    Returns analogy word using the given model.\n",
    "\n",
    "    Parameters\n",
    "    --------------\n",
    "    word1 : (str)\n",
    "        word1 in the analogy relation\n",
    "    word2 : (str)\n",
    "        word2 in the analogy relation\n",
    "    word3 : (str)\n",
    "        word3 in the analogy relation\n",
    "    model :\n",
    "        word embedding model\n",
    "\n",
    "    Returns\n",
    "    ---------------\n",
    "        pd.dataframe\n",
    "    \"\"\"\n",
    "    print(\"%s : %s :: %s : ?\" % (word1, word2, word3))\n",
    "    sim_words = model.most_similar(positive=[word3, word2], negative=[word1])\n",
    "    return pd.DataFrame(sim_words, columns=[\"Analogy word\", \"Score\"])"
   ]
  },
  {
   "cell_type": "code",
   "execution_count": 4,
   "metadata": {},
   "outputs": [
    {
     "name": "stdout",
     "output_type": "stream",
     "text": [
      "Italy : pizza :: Japan : ?\n"
     ]
    },
    {
     "data": {
      "text/html": [
       "<div>\n",
       "<style scoped>\n",
       "    .dataframe tbody tr th:only-of-type {\n",
       "        vertical-align: middle;\n",
       "    }\n",
       "\n",
       "    .dataframe tbody tr th {\n",
       "        vertical-align: top;\n",
       "    }\n",
       "\n",
       "    .dataframe thead th {\n",
       "        text-align: right;\n",
       "    }\n",
       "</style>\n",
       "<table border=\"1\" class=\"dataframe\">\n",
       "  <thead>\n",
       "    <tr style=\"text-align: right;\">\n",
       "      <th></th>\n",
       "      <th>Analogy word</th>\n",
       "      <th>Score</th>\n",
       "    </tr>\n",
       "  </thead>\n",
       "  <tbody>\n",
       "    <tr>\n",
       "      <th>0</th>\n",
       "      <td>sushi</td>\n",
       "      <td>0.542754</td>\n",
       "    </tr>\n",
       "    <tr>\n",
       "      <th>1</th>\n",
       "      <td>ramen</td>\n",
       "      <td>0.541916</td>\n",
       "    </tr>\n",
       "    <tr>\n",
       "      <th>2</th>\n",
       "      <td>bento</td>\n",
       "      <td>0.539965</td>\n",
       "    </tr>\n",
       "    <tr>\n",
       "      <th>3</th>\n",
       "      <td>teriyaki</td>\n",
       "      <td>0.502705</td>\n",
       "    </tr>\n",
       "    <tr>\n",
       "      <th>4</th>\n",
       "      <td>yakisoba</td>\n",
       "      <td>0.502351</td>\n",
       "    </tr>\n",
       "    <tr>\n",
       "      <th>5</th>\n",
       "      <td>takoyaki</td>\n",
       "      <td>0.501550</td>\n",
       "    </tr>\n",
       "    <tr>\n",
       "      <th>6</th>\n",
       "      <td>onigiri</td>\n",
       "      <td>0.501540</td>\n",
       "    </tr>\n",
       "    <tr>\n",
       "      <th>7</th>\n",
       "      <td>burger</td>\n",
       "      <td>0.495270</td>\n",
       "    </tr>\n",
       "    <tr>\n",
       "      <th>8</th>\n",
       "      <td>ramen_noodle</td>\n",
       "      <td>0.493126</td>\n",
       "    </tr>\n",
       "    <tr>\n",
       "      <th>9</th>\n",
       "      <td>noodle</td>\n",
       "      <td>0.490753</td>\n",
       "    </tr>\n",
       "  </tbody>\n",
       "</table>\n",
       "</div>"
      ],
      "text/plain": [
       "   Analogy word     Score\n",
       "0  sushi         0.542754\n",
       "1  ramen         0.541916\n",
       "2  bento         0.539965\n",
       "3  teriyaki      0.502705\n",
       "4  yakisoba      0.502351\n",
       "5  takoyaki      0.501550\n",
       "6  onigiri       0.501540\n",
       "7  burger        0.495270\n",
       "8  ramen_noodle  0.493126\n",
       "9  noodle        0.490753"
      ]
     },
     "execution_count": 4,
     "metadata": {},
     "output_type": "execute_result"
    }
   ],
   "source": [
    "analogy(\"Italy\", \"pizza\", \"Japan\")"
   ]
  },
  {
   "cell_type": "markdown",
   "metadata": {
    "slideshow": {
     "slide_type": "slide"
    }
   },
   "source": [
    "### Word embeddings \n",
    "\n",
    "- The idea is to create **representations of words** so that distances between words in the feature space indicate relationships between them. \n",
    "\n",
    "![](img/t-SNE_word_embeddings.png)\n",
    "<!-- <center>\n",
    "<img src=\"img/t-SNE_word_embeddings.png\" width=\"850\" height=\"850\">\n",
    "</center>\n",
    " -->\n",
    " \n",
    "(Attribution: [Jurafsky and Martin 3rd edition](https://web.stanford.edu/~jurafsky/slp3/))"
   ]
  },
  {
   "cell_type": "markdown",
   "metadata": {
    "slideshow": {
     "slide_type": "slide"
    }
   },
   "source": [
    "### Why do we care about word representations?\n",
    "\n",
    "- So far we have been talking about sentence or document representations. \n",
    "- Now we are going one step back and talking about word representations. \n",
    "- Word is a basic unit of text and in order to capture meaning of text it is useful to capture word meaning (e.g., in terms of relationships between words).  "
   ]
  },
  {
   "cell_type": "markdown",
   "metadata": {
    "slideshow": {
     "slide_type": "slide"
    }
   },
   "source": [
    "### Word meaning \n",
    "\n",
    "- A favourite topic of philosophers for centuries. \n",
    "- An example from legal domain: [Are hockey gloves \"gloves, mittens, mitts\" or \"articles of plastics\"?](https://www.scc-csc.ca/case-dossier/info/sum-som-eng.aspx?cas=36258)\n",
    "\n",
    "<blockquote>\n",
    "Canada (A.G.) v. Igloo Vikski Inc. was a tariff code case that made its way to the SCC (Supreme Court of Canada). The case disputed the definition of hockey gloves as either \"gloves, mittens, or mitts\" or as \"other articles of plastic.\"\n",
    "</blockquote>\n",
    "\n",
    "![](img/hockey_gloves_case.png)\n",
    "<!-- <center>\n",
    "<img src=\"img/hockey_gloves_case.png\" width=\"500\" height=\"500\">\n",
    "</center>\n",
    " -->"
   ]
  },
  {
   "cell_type": "markdown",
   "metadata": {
    "slideshow": {
     "slide_type": "slide"
    }
   },
   "source": [
    "### Word meaning: ML and Natural Language Processing (NLP) view\n",
    "- Modeling word meaning that allows us to \n",
    "    - draw useful inferences to solve meaning-related problems \n",
    "    - find relationship between words, e.g., which words are similar, which ones have positive or negative connotations\n",
    "    "
   ]
  },
  {
   "cell_type": "markdown",
   "metadata": {
    "slideshow": {
     "slide_type": "slide"
    }
   },
   "source": [
    "### Word similarity   \n",
    "\n",
    "- Suppose you are carrying out sentiment analysis. \n",
    "- Consider the sentences below. \n",
    "\n",
    "> S1: **The movie was awesome!!** \n",
    "\n",
    "> S2: **The movie was amazing!!** \n",
    "\n",
    "- Here we would like to capture similarity between **awesome** and **amazing** in reference to sentiment analysis task. "
   ]
  },
  {
   "cell_type": "markdown",
   "metadata": {
    "slideshow": {
     "slide_type": "slide"
    }
   },
   "source": [
    "### How are word embeddings related to unsupervised learning? \n",
    "\n",
    "- They are closely related to dimensionality reduction and extracting meaningful representations from raw data. \n",
    "- The word2vec algorithm is an unsupervised (or semi-supervised) method; we do not need any labeled data but we use running text as supervision signal.\n",
    "- We can build recommendation systems using word2vec algorithm (you'll explore this in the lab) which is the topic of next week.   "
   ]
  },
  {
   "cell_type": "markdown",
   "metadata": {
    "slideshow": {
     "slide_type": "skip"
    }
   },
   "source": [
    "<br><br><br><br>"
   ]
  },
  {
   "cell_type": "markdown",
   "metadata": {
    "slideshow": {
     "slide_type": "slide"
    }
   },
   "source": [
    "## Word representations"
   ]
  },
  {
   "cell_type": "markdown",
   "metadata": {
    "slideshow": {
     "slide_type": "slide"
    }
   },
   "source": [
    "### Activity 1:  Brainstorm ways to represent words (~2 mins) \n",
    "\n",
    "- Suppose you are building a question answering system and you are given the following question and three candidate answers. \n",
    "- What kind of relationship between words would we like our representation to capture in order to arrive at the correct answer?  \n",
    "    \n",
    "<blockquote>       \n",
    "<p style=\"font-size:30px\"><b>Question:</b> How <b>tall</b> is Machu Picchu?</p>\n",
    "    <p style=\"font-size:30px\"><b>Candidate 1:</b> Machu Picchu is 13.164 degrees south of the equator.</p>    \n",
    "<p style=\"font-size:30px\"><b>Candidate 2:</b> The official height of Machu Picchu is 2,430 m.</p>\n",
    "<p style=\"font-size:30px\"><b>Candidate 3:</b> Machu Picchu is 80 kilometres (50 miles) northwest of Cusco.</p>    \n",
    "</blockquote> \n",
    "    "
   ]
  },
  {
   "cell_type": "markdown",
   "metadata": {
    "slideshow": {
     "slide_type": "slide"
    }
   },
   "source": [
    "- Let's explore different ways to represent words. \n",
    "- First, let's look at two simplistic word representations  \n",
    "    - One-hot representation\n",
    "    - Term-term co-occurrence matrix"
   ]
  },
  {
   "cell_type": "markdown",
   "metadata": {
    "slideshow": {
     "slide_type": "slide"
    }
   },
   "source": [
    "### Simplest representation: One-hot representation of words \n",
    "\n",
    "- Example: Consider the sentence\n",
    "> How tall is Machu_Picchu ?\n",
    "\n",
    "- What is the one-hot representation for the word *tall*?\n",
    "    * Vocabulary size = 5 and index of the word *tall* = 1\n",
    "    * One-hot vector for *tall*: $\\begin{bmatrix} 0 & 1 & 0 & 0 & 0 \\end{bmatrix}$\n",
    "    \n",
    "- Build **vocabulary** containing all unique words in the corpus. \n",
    "- One-hot representation of a word is a vector of length $V$ such that the value at word index is 1 and all other indices is 0.    "
   ]
  },
  {
   "cell_type": "code",
   "execution_count": 5,
   "metadata": {
    "slideshow": {
     "slide_type": "slide"
    }
   },
   "outputs": [],
   "source": [
    "def get_onehot_encoding(word, vocab):\n",
    "    onehot = np.zeros(len(vocab), dtype=\"float64\")\n",
    "    onehot[vocab[word]] = 1\n",
    "    return onehot"
   ]
  },
  {
   "cell_type": "code",
   "execution_count": 6,
   "metadata": {
    "slideshow": {
     "slide_type": "slide"
    }
   },
   "outputs": [],
   "source": [
    "from sklearn.metrics.pairwise import cosine_similarity\n",
    "\n",
    "\n",
    "def print_cosine_similarity(df, word1, word2):\n",
    "    \"\"\"\n",
    "    Returns similarity score between word1 and word2\n",
    "    Arguments\n",
    "    ---------\n",
    "    df    -- (pandas.DataFrame)\n",
    "        Dataframe containing word representations\n",
    "    word1 -- (array)\n",
    "        Representation of word1\n",
    "    word2 -- (array)\n",
    "        Representation of word2\n",
    "\n",
    "    Returns\n",
    "    --------\n",
    "    None. Returns similarity score between word1 and word2 with the given representation\n",
    "    \"\"\"\n",
    "    vec1 = df.loc[word1].to_numpy().reshape(1, -1)\n",
    "    vec2 = df.loc[word2].to_numpy().reshape(1, -1)\n",
    "    sim = cosine_similarity(vec1, vec2)\n",
    "    print(\n",
    "        \"The dot product between %s and %s: %0.2f and cosine similarity is: %0.2f\"\n",
    "        % (word1, word2, np.dot(vec1.flatten(), vec2.flatten()), sim)\n",
    "    )"
   ]
  },
  {
   "cell_type": "markdown",
   "metadata": {
    "slideshow": {
     "slide_type": "slide"
    }
   },
   "source": [
    "### Vocabulary and one-hot encoding"
   ]
  },
  {
   "cell_type": "code",
   "execution_count": 7,
   "metadata": {
    "slideshow": {
     "slide_type": "-"
    }
   },
   "outputs": [
    {
     "name": "stdout",
     "output_type": "stream",
     "text": [
      "Size of the vocabulary: 12\n",
      "{'.': 0, '2,430': 1, '?': 2, 'height': 3, 'how': 4, 'is': 5, 'm': 6, 'machu_picchu': 7, 'of': 8, 'official': 9, 'tall': 10, 'the': 11}\n"
     ]
    }
   ],
   "source": [
    "corpus = (\n",
    "    \"\"\"how tall is machu_picchu ? the official height of machu_picchu is 2,430 m .\"\"\"\n",
    ")\n",
    "unique_words = list(set(corpus.split()))\n",
    "unique_words.sort()\n",
    "vocab = {word: index for index, word in enumerate(unique_words)}\n",
    "print(\"Size of the vocabulary: %d\" % (len(vocab)))\n",
    "print(vocab)"
   ]
  },
  {
   "cell_type": "code",
   "execution_count": 8,
   "metadata": {
    "slideshow": {
     "slide_type": "slide"
    }
   },
   "outputs": [
    {
     "data": {
      "text/html": [
       "<div>\n",
       "<style scoped>\n",
       "    .dataframe tbody tr th:only-of-type {\n",
       "        vertical-align: middle;\n",
       "    }\n",
       "\n",
       "    .dataframe tbody tr th {\n",
       "        vertical-align: top;\n",
       "    }\n",
       "\n",
       "    .dataframe thead th {\n",
       "        text-align: right;\n",
       "    }\n",
       "</style>\n",
       "<table border=\"1\" class=\"dataframe\">\n",
       "  <thead>\n",
       "    <tr style=\"text-align: right;\">\n",
       "      <th></th>\n",
       "      <th>0</th>\n",
       "      <th>1</th>\n",
       "      <th>2</th>\n",
       "      <th>3</th>\n",
       "      <th>4</th>\n",
       "      <th>5</th>\n",
       "      <th>6</th>\n",
       "      <th>7</th>\n",
       "      <th>8</th>\n",
       "      <th>9</th>\n",
       "      <th>10</th>\n",
       "      <th>11</th>\n",
       "    </tr>\n",
       "  </thead>\n",
       "  <tbody>\n",
       "    <tr>\n",
       "      <th>.</th>\n",
       "      <td>1.0</td>\n",
       "      <td>0.0</td>\n",
       "      <td>0.0</td>\n",
       "      <td>0.0</td>\n",
       "      <td>0.0</td>\n",
       "      <td>0.0</td>\n",
       "      <td>0.0</td>\n",
       "      <td>0.0</td>\n",
       "      <td>0.0</td>\n",
       "      <td>0.0</td>\n",
       "      <td>0.0</td>\n",
       "      <td>0.0</td>\n",
       "    </tr>\n",
       "    <tr>\n",
       "      <th>2,430</th>\n",
       "      <td>0.0</td>\n",
       "      <td>1.0</td>\n",
       "      <td>0.0</td>\n",
       "      <td>0.0</td>\n",
       "      <td>0.0</td>\n",
       "      <td>0.0</td>\n",
       "      <td>0.0</td>\n",
       "      <td>0.0</td>\n",
       "      <td>0.0</td>\n",
       "      <td>0.0</td>\n",
       "      <td>0.0</td>\n",
       "      <td>0.0</td>\n",
       "    </tr>\n",
       "    <tr>\n",
       "      <th>?</th>\n",
       "      <td>0.0</td>\n",
       "      <td>0.0</td>\n",
       "      <td>1.0</td>\n",
       "      <td>0.0</td>\n",
       "      <td>0.0</td>\n",
       "      <td>0.0</td>\n",
       "      <td>0.0</td>\n",
       "      <td>0.0</td>\n",
       "      <td>0.0</td>\n",
       "      <td>0.0</td>\n",
       "      <td>0.0</td>\n",
       "      <td>0.0</td>\n",
       "    </tr>\n",
       "    <tr>\n",
       "      <th>height</th>\n",
       "      <td>0.0</td>\n",
       "      <td>0.0</td>\n",
       "      <td>0.0</td>\n",
       "      <td>1.0</td>\n",
       "      <td>0.0</td>\n",
       "      <td>0.0</td>\n",
       "      <td>0.0</td>\n",
       "      <td>0.0</td>\n",
       "      <td>0.0</td>\n",
       "      <td>0.0</td>\n",
       "      <td>0.0</td>\n",
       "      <td>0.0</td>\n",
       "    </tr>\n",
       "    <tr>\n",
       "      <th>how</th>\n",
       "      <td>0.0</td>\n",
       "      <td>0.0</td>\n",
       "      <td>0.0</td>\n",
       "      <td>0.0</td>\n",
       "      <td>1.0</td>\n",
       "      <td>0.0</td>\n",
       "      <td>0.0</td>\n",
       "      <td>0.0</td>\n",
       "      <td>0.0</td>\n",
       "      <td>0.0</td>\n",
       "      <td>0.0</td>\n",
       "      <td>0.0</td>\n",
       "    </tr>\n",
       "    <tr>\n",
       "      <th>is</th>\n",
       "      <td>0.0</td>\n",
       "      <td>0.0</td>\n",
       "      <td>0.0</td>\n",
       "      <td>0.0</td>\n",
       "      <td>0.0</td>\n",
       "      <td>1.0</td>\n",
       "      <td>0.0</td>\n",
       "      <td>0.0</td>\n",
       "      <td>0.0</td>\n",
       "      <td>0.0</td>\n",
       "      <td>0.0</td>\n",
       "      <td>0.0</td>\n",
       "    </tr>\n",
       "    <tr>\n",
       "      <th>m</th>\n",
       "      <td>0.0</td>\n",
       "      <td>0.0</td>\n",
       "      <td>0.0</td>\n",
       "      <td>0.0</td>\n",
       "      <td>0.0</td>\n",
       "      <td>0.0</td>\n",
       "      <td>1.0</td>\n",
       "      <td>0.0</td>\n",
       "      <td>0.0</td>\n",
       "      <td>0.0</td>\n",
       "      <td>0.0</td>\n",
       "      <td>0.0</td>\n",
       "    </tr>\n",
       "    <tr>\n",
       "      <th>machu_picchu</th>\n",
       "      <td>0.0</td>\n",
       "      <td>0.0</td>\n",
       "      <td>0.0</td>\n",
       "      <td>0.0</td>\n",
       "      <td>0.0</td>\n",
       "      <td>0.0</td>\n",
       "      <td>0.0</td>\n",
       "      <td>1.0</td>\n",
       "      <td>0.0</td>\n",
       "      <td>0.0</td>\n",
       "      <td>0.0</td>\n",
       "      <td>0.0</td>\n",
       "    </tr>\n",
       "    <tr>\n",
       "      <th>of</th>\n",
       "      <td>0.0</td>\n",
       "      <td>0.0</td>\n",
       "      <td>0.0</td>\n",
       "      <td>0.0</td>\n",
       "      <td>0.0</td>\n",
       "      <td>0.0</td>\n",
       "      <td>0.0</td>\n",
       "      <td>0.0</td>\n",
       "      <td>1.0</td>\n",
       "      <td>0.0</td>\n",
       "      <td>0.0</td>\n",
       "      <td>0.0</td>\n",
       "    </tr>\n",
       "    <tr>\n",
       "      <th>official</th>\n",
       "      <td>0.0</td>\n",
       "      <td>0.0</td>\n",
       "      <td>0.0</td>\n",
       "      <td>0.0</td>\n",
       "      <td>0.0</td>\n",
       "      <td>0.0</td>\n",
       "      <td>0.0</td>\n",
       "      <td>0.0</td>\n",
       "      <td>0.0</td>\n",
       "      <td>1.0</td>\n",
       "      <td>0.0</td>\n",
       "      <td>0.0</td>\n",
       "    </tr>\n",
       "    <tr>\n",
       "      <th>tall</th>\n",
       "      <td>0.0</td>\n",
       "      <td>0.0</td>\n",
       "      <td>0.0</td>\n",
       "      <td>0.0</td>\n",
       "      <td>0.0</td>\n",
       "      <td>0.0</td>\n",
       "      <td>0.0</td>\n",
       "      <td>0.0</td>\n",
       "      <td>0.0</td>\n",
       "      <td>0.0</td>\n",
       "      <td>1.0</td>\n",
       "      <td>0.0</td>\n",
       "    </tr>\n",
       "    <tr>\n",
       "      <th>the</th>\n",
       "      <td>0.0</td>\n",
       "      <td>0.0</td>\n",
       "      <td>0.0</td>\n",
       "      <td>0.0</td>\n",
       "      <td>0.0</td>\n",
       "      <td>0.0</td>\n",
       "      <td>0.0</td>\n",
       "      <td>0.0</td>\n",
       "      <td>0.0</td>\n",
       "      <td>0.0</td>\n",
       "      <td>0.0</td>\n",
       "      <td>1.0</td>\n",
       "    </tr>\n",
       "  </tbody>\n",
       "</table>\n",
       "</div>"
      ],
      "text/plain": [
       "               0    1    2    3    4    5    6    7    8    9    10   11\n",
       ".             1.0  0.0  0.0  0.0  0.0  0.0  0.0  0.0  0.0  0.0  0.0  0.0\n",
       "2,430         0.0  1.0  0.0  0.0  0.0  0.0  0.0  0.0  0.0  0.0  0.0  0.0\n",
       "?             0.0  0.0  1.0  0.0  0.0  0.0  0.0  0.0  0.0  0.0  0.0  0.0\n",
       "height        0.0  0.0  0.0  1.0  0.0  0.0  0.0  0.0  0.0  0.0  0.0  0.0\n",
       "how           0.0  0.0  0.0  0.0  1.0  0.0  0.0  0.0  0.0  0.0  0.0  0.0\n",
       "is            0.0  0.0  0.0  0.0  0.0  1.0  0.0  0.0  0.0  0.0  0.0  0.0\n",
       "m             0.0  0.0  0.0  0.0  0.0  0.0  1.0  0.0  0.0  0.0  0.0  0.0\n",
       "machu_picchu  0.0  0.0  0.0  0.0  0.0  0.0  0.0  1.0  0.0  0.0  0.0  0.0\n",
       "of            0.0  0.0  0.0  0.0  0.0  0.0  0.0  0.0  1.0  0.0  0.0  0.0\n",
       "official      0.0  0.0  0.0  0.0  0.0  0.0  0.0  0.0  0.0  1.0  0.0  0.0\n",
       "tall          0.0  0.0  0.0  0.0  0.0  0.0  0.0  0.0  0.0  0.0  1.0  0.0\n",
       "the           0.0  0.0  0.0  0.0  0.0  0.0  0.0  0.0  0.0  0.0  0.0  1.0"
      ]
     },
     "execution_count": 8,
     "metadata": {},
     "output_type": "execute_result"
    }
   ],
   "source": [
    "data = {}\n",
    "for word in vocab:\n",
    "    data[word] = get_onehot_encoding(word, vocab)\n",
    "ohe_df = pd.DataFrame(data).T\n",
    "ohe_df"
   ]
  },
  {
   "cell_type": "code",
   "execution_count": 9,
   "metadata": {},
   "outputs": [
    {
     "name": "stdout",
     "output_type": "stream",
     "text": [
      "The dot product between tall and height: 0.00 and cosine similarity is: 0.00\n",
      "The dot product between tall and official: 0.00 and cosine similarity is: 0.00\n"
     ]
    }
   ],
   "source": [
    "print_cosine_similarity(ohe_df, \"tall\", \"height\")\n",
    "print_cosine_similarity(ohe_df, \"tall\", \"official\")"
   ]
  },
  {
   "cell_type": "markdown",
   "metadata": {
    "slideshow": {
     "slide_type": "slide"
    }
   },
   "source": [
    "### Problem with one-hot encoding\n",
    "\n",
    "- We would like the word representation to capture the similarity between _tall_ and _height_ and so we would like them to have bigger dot product or bigger cosine similarity (normalized dot product). \n",
    "- The problem with one-hot representation of words is that there is no inherent notion of relationship between words and the dot product between similar and non-similar words is zero.\n",
    "\n",
    "$$ \n",
    "\\vec{tall}\\cdot\\vec{height} = 0\\\\ \n",
    "$$"
   ]
  },
  {
   "cell_type": "markdown",
   "metadata": {
    "slideshow": {
     "slide_type": "slide"
    }
   },
   "source": [
    "### Need a representation that captures relationships between words.\n",
    "\n",
    "- We will be looking at two such representations.  \n",
    "    1. Sparse representation with **term-term co-occurrence matrix**\n",
    "    2. Dense representation with **word2vec skip-gram model**\n",
    "- Both are based on two ideas: **distributional hypothesis** and **vector space model**."
   ]
  },
  {
   "cell_type": "markdown",
   "metadata": {
    "slideshow": {
     "slide_type": "slide"
    }
   },
   "source": [
    "### Distributional hypothesis\n",
    "\n",
    "<blockquote> \n",
    "    <p>You shall know a word by the company it keeps.</p>\n",
    "    <footer>Firth, 1957</footer>        \n",
    "</blockquote>\n",
    "\n",
    "<blockquote> \n",
    "If A and B have almost identical environments we say that they are synonyms.\n",
    "<footer>Harris, 1954</footer>    \n",
    "</blockquote>    \n",
    "\n",
    "Example: \n",
    "\n",
    "- Her **child** loves to play in the playground. \n",
    "- Her **kid** loves to play in the playground. \n",
    "\n"
   ]
  },
  {
   "cell_type": "markdown",
   "metadata": {
    "slideshow": {
     "slide_type": "slide"
    }
   },
   "source": [
    "### Vector space model\n",
    "\n",
    "- Model the meaning of a word by placing it into a vector space.  \n",
    "- A standard way to represent meaning in NLP\n",
    "- Distances among words in the vector space indicate the relationship between them. \n",
    "\n",
    "![](img/t-SNE_word_embeddings.png)\n",
    "<!-- <center>\n",
    "<img src=\"img/t-SNE_word_embeddings.png\" width=\"900\" height=\"900\">\n",
    "</center>\n",
    "     -->\n",
    "(Attribution: Jurafsky and Martin 3rd edition)"
   ]
  },
  {
   "cell_type": "markdown",
   "metadata": {
    "slideshow": {
     "slide_type": "slide"
    }
   },
   "source": [
    "### Term-term co-occurrence matrix\n",
    "\n",
    "- So far we have been talking about documents and we created document-term co-occurrence matrix (e.g., bag-of-words representation of text). \n",
    "- We can also do this with words. The idea is to go through a corpus of text, keeping a count of all of the words that appear in context of each word (within a window).\n",
    "\n",
    "- An example: \n",
    "\n",
    "<!-- <center>\n",
    "<img src=\"img/term-term_comat.png\" width=\"600\" height=\"600\">\n",
    "</center>\n",
    "     -->\n",
    "(Credit: Jurafsky and Martin 3rd edition)\n"
   ]
  },
  {
   "cell_type": "markdown",
   "metadata": {
    "slideshow": {
     "slide_type": "skip"
    }
   },
   "source": [
    "### Visualizing word vectors and similarity \n",
    "\n",
    "![](img/word_vectors_and_angles.png)\n",
    "<!-- <center>\n",
    "<img src=\"img/word_vectors_and_angles.png\" width=\"800\" height=\"800\">\n",
    "</center>\n",
    "     -->\n",
    "(Credit: Jurafsky and Martin 3rd edition)\n",
    "\n",
    "- The similarity is calculated using dot products between word vectors.\n",
    "    - Example: $\\vec{\\text{digital}}.\\vec{\\text{information}} = 0 \\times 1 + 1\\times 6 = 6$\n",
    "    - Higher the dot product more similar the words."
   ]
  },
  {
   "cell_type": "markdown",
   "metadata": {
    "slideshow": {
     "slide_type": "skip"
    }
   },
   "source": [
    "### Visualizing word vectors and similarity\n",
    "\n",
    "![](img/word_vectors_and_angles.png)\n",
    "<!-- <img src=\"img/word_vectors_and_angles.png\" width=\"600\" height=\"600\"> -->\n",
    "\n",
    "(Credit: Jurafsky and Martin 3rd edition)\n",
    "\n",
    "- The similarity is calculated using dot products between word vectors.\n",
    "    - Example: $\\vec{\\text{digital}}.\\vec{\\text{information}} = 0 \\times 1 + 1\\times 6 = 6$\n",
    "    - Higher the dot product more similar the words.\n",
    "\n",
    "- We can also calculate a normalized version of dot products. \n",
    "    $$similarity_{cosine}(w_1,w_2) = \\frac{w_1.w_2}{\\left\\lVert w_1\\right\\rVert_2 \\left\\lVert w_2\\right\\rVert_2}$$\n"
   ]
  },
  {
   "cell_type": "code",
   "execution_count": 10,
   "metadata": {
    "slideshow": {
     "slide_type": "slide"
    }
   },
   "outputs": [],
   "source": [
    "corpus = [\n",
    "    \"How tall is Machu Picchu?\",\n",
    "    \"Machu Picchu is 13.164 degrees south of the equator.\",\n",
    "    \"The official height of Machu Picchu is 2,430 m.\",\n",
    "    \"Machu Picchu is 80 kilometres (50 miles) northwest of Cusco.\",\n",
    "    \"It is 80 kilometres (50 miles) northwest of Cusco, on the crest of the mountain Machu Picchu, located about 2,430 metres (7,970 feet) above mean sea level, over 1,000 metres (3,300 ft) lower than Cusco, which has an elevation of 3,400 metres (11,200 ft).\",\n",
    "]\n",
    "sents = MyPreprocessor(corpus)"
   ]
  },
  {
   "cell_type": "code",
   "execution_count": 11,
   "metadata": {
    "slideshow": {
     "slide_type": "slide"
    }
   },
   "outputs": [
    {
     "data": {
      "text/html": [
       "<div>\n",
       "<style scoped>\n",
       "    .dataframe tbody tr th:only-of-type {\n",
       "        vertical-align: middle;\n",
       "    }\n",
       "\n",
       "    .dataframe tbody tr th {\n",
       "        vertical-align: top;\n",
       "    }\n",
       "\n",
       "    .dataframe thead th {\n",
       "        text-align: right;\n",
       "    }\n",
       "</style>\n",
       "<table border=\"1\" class=\"dataframe\">\n",
       "  <thead>\n",
       "    <tr style=\"text-align: right;\">\n",
       "      <th></th>\n",
       "      <th>tall</th>\n",
       "      <th>machu</th>\n",
       "      <th>picchu</th>\n",
       "      <th>13.164</th>\n",
       "      <th>degrees</th>\n",
       "      <th>south</th>\n",
       "      <th>equator</th>\n",
       "      <th>official</th>\n",
       "      <th>height</th>\n",
       "      <th>2,430</th>\n",
       "      <th>...</th>\n",
       "      <th>mean</th>\n",
       "      <th>sea</th>\n",
       "      <th>level</th>\n",
       "      <th>1,000</th>\n",
       "      <th>3,300</th>\n",
       "      <th>ft</th>\n",
       "      <th>lower</th>\n",
       "      <th>elevation</th>\n",
       "      <th>3,400</th>\n",
       "      <th>11,200</th>\n",
       "    </tr>\n",
       "  </thead>\n",
       "  <tbody>\n",
       "    <tr>\n",
       "      <th>tall</th>\n",
       "      <td>0</td>\n",
       "      <td>1</td>\n",
       "      <td>1</td>\n",
       "      <td>0</td>\n",
       "      <td>0</td>\n",
       "      <td>0</td>\n",
       "      <td>0</td>\n",
       "      <td>0</td>\n",
       "      <td>0</td>\n",
       "      <td>0</td>\n",
       "      <td>...</td>\n",
       "      <td>0</td>\n",
       "      <td>0</td>\n",
       "      <td>0</td>\n",
       "      <td>0</td>\n",
       "      <td>0</td>\n",
       "      <td>0</td>\n",
       "      <td>0</td>\n",
       "      <td>0</td>\n",
       "      <td>0</td>\n",
       "      <td>0</td>\n",
       "    </tr>\n",
       "    <tr>\n",
       "      <th>machu</th>\n",
       "      <td>1</td>\n",
       "      <td>0</td>\n",
       "      <td>5</td>\n",
       "      <td>1</td>\n",
       "      <td>0</td>\n",
       "      <td>0</td>\n",
       "      <td>0</td>\n",
       "      <td>1</td>\n",
       "      <td>1</td>\n",
       "      <td>1</td>\n",
       "      <td>...</td>\n",
       "      <td>0</td>\n",
       "      <td>0</td>\n",
       "      <td>0</td>\n",
       "      <td>0</td>\n",
       "      <td>0</td>\n",
       "      <td>0</td>\n",
       "      <td>0</td>\n",
       "      <td>0</td>\n",
       "      <td>0</td>\n",
       "      <td>0</td>\n",
       "    </tr>\n",
       "    <tr>\n",
       "      <th>picchu</th>\n",
       "      <td>1</td>\n",
       "      <td>5</td>\n",
       "      <td>0</td>\n",
       "      <td>1</td>\n",
       "      <td>1</td>\n",
       "      <td>0</td>\n",
       "      <td>0</td>\n",
       "      <td>0</td>\n",
       "      <td>1</td>\n",
       "      <td>2</td>\n",
       "      <td>...</td>\n",
       "      <td>0</td>\n",
       "      <td>0</td>\n",
       "      <td>0</td>\n",
       "      <td>0</td>\n",
       "      <td>0</td>\n",
       "      <td>0</td>\n",
       "      <td>0</td>\n",
       "      <td>0</td>\n",
       "      <td>0</td>\n",
       "      <td>0</td>\n",
       "    </tr>\n",
       "    <tr>\n",
       "      <th>13.164</th>\n",
       "      <td>0</td>\n",
       "      <td>1</td>\n",
       "      <td>1</td>\n",
       "      <td>0</td>\n",
       "      <td>1</td>\n",
       "      <td>1</td>\n",
       "      <td>0</td>\n",
       "      <td>0</td>\n",
       "      <td>0</td>\n",
       "      <td>0</td>\n",
       "      <td>...</td>\n",
       "      <td>0</td>\n",
       "      <td>0</td>\n",
       "      <td>0</td>\n",
       "      <td>0</td>\n",
       "      <td>0</td>\n",
       "      <td>0</td>\n",
       "      <td>0</td>\n",
       "      <td>0</td>\n",
       "      <td>0</td>\n",
       "      <td>0</td>\n",
       "    </tr>\n",
       "    <tr>\n",
       "      <th>degrees</th>\n",
       "      <td>0</td>\n",
       "      <td>0</td>\n",
       "      <td>1</td>\n",
       "      <td>1</td>\n",
       "      <td>0</td>\n",
       "      <td>1</td>\n",
       "      <td>1</td>\n",
       "      <td>0</td>\n",
       "      <td>0</td>\n",
       "      <td>0</td>\n",
       "      <td>...</td>\n",
       "      <td>0</td>\n",
       "      <td>0</td>\n",
       "      <td>0</td>\n",
       "      <td>0</td>\n",
       "      <td>0</td>\n",
       "      <td>0</td>\n",
       "      <td>0</td>\n",
       "      <td>0</td>\n",
       "      <td>0</td>\n",
       "      <td>0</td>\n",
       "    </tr>\n",
       "  </tbody>\n",
       "</table>\n",
       "<p>5 rows × 32 columns</p>\n",
       "</div>"
      ],
      "text/plain": [
       "         tall  machu  picchu  13.164  degrees  south  equator  official  \\\n",
       "tall     0     1      1       0       0        0      0        0          \n",
       "machu    1     0      5       1       0        0      0        1          \n",
       "picchu   1     5      0       1       1        0      0        0          \n",
       "13.164   0     1      1       0       1        1      0        0          \n",
       "degrees  0     0      1       1       0        1      1        0          \n",
       "\n",
       "         height  2,430  ...  mean  sea  level  1,000  3,300  ft  lower  \\\n",
       "tall     0       0      ...  0     0    0      0      0      0   0       \n",
       "machu    1       1      ...  0     0    0      0      0      0   0       \n",
       "picchu   1       2      ...  0     0    0      0      0      0   0       \n",
       "13.164   0       0      ...  0     0    0      0      0      0   0       \n",
       "degrees  0       0      ...  0     0    0      0      0      0   0       \n",
       "\n",
       "         elevation  3,400  11,200  \n",
       "tall     0          0      0       \n",
       "machu    0          0      0       \n",
       "picchu   0          0      0       \n",
       "13.164   0          0      0       \n",
       "degrees  0          0      0       \n",
       "\n",
       "[5 rows x 32 columns]"
      ]
     },
     "execution_count": 11,
     "metadata": {},
     "output_type": "execute_result"
    }
   ],
   "source": [
    "cm = CooccurrenceMatrix(\n",
    "    sents, window_size=2\n",
    ")  # Let's build term-term co-occurrence matrix for our text.\n",
    "comat = cm.fit_transform()\n",
    "vocab = cm.get_feature_names()\n",
    "df = pd.DataFrame(comat.todense(), columns=vocab, index=vocab, dtype=np.int8)\n",
    "df.head()"
   ]
  },
  {
   "cell_type": "code",
   "execution_count": 12,
   "metadata": {},
   "outputs": [
    {
     "name": "stdout",
     "output_type": "stream",
     "text": [
      "The dot product between tall and height: 2.00 and cosine similarity is: 0.82\n",
      "The dot product between tall and official: 1.00 and cosine similarity is: 0.50\n"
     ]
    }
   ],
   "source": [
    "print_cosine_similarity(df, \"tall\", \"height\")\n",
    "print_cosine_similarity(df, \"tall\", \"official\")"
   ]
  },
  {
   "cell_type": "markdown",
   "metadata": {
    "slideshow": {
     "slide_type": "slide"
    }
   },
   "source": [
    "- We are getting non-zero cosine similarity now and we are able to capture some similarities between words now. \n",
    "- That said similarities do not make much sense in the toy example above because we're using a tiny corpus. \n",
    "- To find meaningful patterns of similarities between words, we need a large corpus. \n",
    "- Let's try a bit larger corpus and check whether the similarities make sense. "
   ]
  },
  {
   "cell_type": "code",
   "execution_count": 13,
   "metadata": {
    "slideshow": {
     "slide_type": "slide"
    }
   },
   "outputs": [
    {
     "name": "stdout",
     "output_type": "stream",
     "text": [
      "Number of sentences in the corpus:  704\n"
     ]
    }
   ],
   "source": [
    "import wikipedia\n",
    "from nltk.tokenize import sent_tokenize, word_tokenize\n",
    "\n",
    "corpus = []\n",
    "\n",
    "queries = [\n",
    "    \"Machu Picchu\",\n",
    "  # \"Everest\",\n",
    "    \"Sequoia sempervirens\",\n",
    "    \"President (country)\",\n",
    "    \"Politics Canada\",\n",
    "]\n",
    "\n",
    "for i in range(len(queries)):\n",
    "    sents = sent_tokenize(wikipedia.page(queries[i]).content)\n",
    "    corpus.extend(sents)\n",
    "print(\"Number of sentences in the corpus: \", len(corpus))"
   ]
  },
  {
   "cell_type": "code",
   "execution_count": 14,
   "metadata": {
    "slideshow": {
     "slide_type": "slide"
    }
   },
   "outputs": [
    {
     "data": {
      "text/html": [
       "<div>\n",
       "<style scoped>\n",
       "    .dataframe tbody tr th:only-of-type {\n",
       "        vertical-align: middle;\n",
       "    }\n",
       "\n",
       "    .dataframe tbody tr th {\n",
       "        vertical-align: top;\n",
       "    }\n",
       "\n",
       "    .dataframe thead th {\n",
       "        text-align: right;\n",
       "    }\n",
       "</style>\n",
       "<table border=\"1\" class=\"dataframe\">\n",
       "  <thead>\n",
       "    <tr style=\"text-align: right;\">\n",
       "      <th></th>\n",
       "      <th>machu</th>\n",
       "      <th>picchu</th>\n",
       "      <th>15th-century</th>\n",
       "      <th>inca</th>\n",
       "      <th>citadel</th>\n",
       "      <th>located</th>\n",
       "      <th>eastern</th>\n",
       "      <th>cordillera</th>\n",
       "      <th>southern</th>\n",
       "      <th>peru</th>\n",
       "      <th>...</th>\n",
       "      <th>comprehensive</th>\n",
       "      <th>overview</th>\n",
       "      <th>cbc</th>\n",
       "      <th>digital</th>\n",
       "      <th>archives</th>\n",
       "      <th>boondoggles</th>\n",
       "      <th>elephants</th>\n",
       "      <th>campaigning</th>\n",
       "      <th>compared</th>\n",
       "      <th>textbook</th>\n",
       "    </tr>\n",
       "  </thead>\n",
       "  <tbody>\n",
       "    <tr>\n",
       "      <th>machu</th>\n",
       "      <td>0</td>\n",
       "      <td>81</td>\n",
       "      <td>1</td>\n",
       "      <td>5</td>\n",
       "      <td>1</td>\n",
       "      <td>2</td>\n",
       "      <td>1</td>\n",
       "      <td>0</td>\n",
       "      <td>1</td>\n",
       "      <td>2</td>\n",
       "      <td>...</td>\n",
       "      <td>0</td>\n",
       "      <td>0</td>\n",
       "      <td>0</td>\n",
       "      <td>0</td>\n",
       "      <td>0</td>\n",
       "      <td>0</td>\n",
       "      <td>0</td>\n",
       "      <td>0</td>\n",
       "      <td>0</td>\n",
       "      <td>0</td>\n",
       "    </tr>\n",
       "    <tr>\n",
       "      <th>picchu</th>\n",
       "      <td>81</td>\n",
       "      <td>0</td>\n",
       "      <td>1</td>\n",
       "      <td>6</td>\n",
       "      <td>3</td>\n",
       "      <td>1</td>\n",
       "      <td>1</td>\n",
       "      <td>0</td>\n",
       "      <td>1</td>\n",
       "      <td>1</td>\n",
       "      <td>...</td>\n",
       "      <td>0</td>\n",
       "      <td>0</td>\n",
       "      <td>0</td>\n",
       "      <td>0</td>\n",
       "      <td>0</td>\n",
       "      <td>0</td>\n",
       "      <td>0</td>\n",
       "      <td>0</td>\n",
       "      <td>0</td>\n",
       "      <td>0</td>\n",
       "    </tr>\n",
       "    <tr>\n",
       "      <th>15th-century</th>\n",
       "      <td>1</td>\n",
       "      <td>1</td>\n",
       "      <td>0</td>\n",
       "      <td>1</td>\n",
       "      <td>1</td>\n",
       "      <td>1</td>\n",
       "      <td>0</td>\n",
       "      <td>0</td>\n",
       "      <td>0</td>\n",
       "      <td>0</td>\n",
       "      <td>...</td>\n",
       "      <td>0</td>\n",
       "      <td>0</td>\n",
       "      <td>0</td>\n",
       "      <td>0</td>\n",
       "      <td>0</td>\n",
       "      <td>0</td>\n",
       "      <td>0</td>\n",
       "      <td>0</td>\n",
       "      <td>0</td>\n",
       "      <td>0</td>\n",
       "    </tr>\n",
       "    <tr>\n",
       "      <th>inca</th>\n",
       "      <td>5</td>\n",
       "      <td>6</td>\n",
       "      <td>1</td>\n",
       "      <td>0</td>\n",
       "      <td>1</td>\n",
       "      <td>1</td>\n",
       "      <td>1</td>\n",
       "      <td>0</td>\n",
       "      <td>0</td>\n",
       "      <td>1</td>\n",
       "      <td>...</td>\n",
       "      <td>0</td>\n",
       "      <td>0</td>\n",
       "      <td>0</td>\n",
       "      <td>0</td>\n",
       "      <td>0</td>\n",
       "      <td>0</td>\n",
       "      <td>0</td>\n",
       "      <td>0</td>\n",
       "      <td>0</td>\n",
       "      <td>0</td>\n",
       "    </tr>\n",
       "    <tr>\n",
       "      <th>citadel</th>\n",
       "      <td>1</td>\n",
       "      <td>3</td>\n",
       "      <td>1</td>\n",
       "      <td>1</td>\n",
       "      <td>0</td>\n",
       "      <td>1</td>\n",
       "      <td>1</td>\n",
       "      <td>1</td>\n",
       "      <td>0</td>\n",
       "      <td>0</td>\n",
       "      <td>...</td>\n",
       "      <td>0</td>\n",
       "      <td>0</td>\n",
       "      <td>0</td>\n",
       "      <td>0</td>\n",
       "      <td>0</td>\n",
       "      <td>0</td>\n",
       "      <td>0</td>\n",
       "      <td>0</td>\n",
       "      <td>0</td>\n",
       "      <td>0</td>\n",
       "    </tr>\n",
       "    <tr>\n",
       "      <th>...</th>\n",
       "      <td>...</td>\n",
       "      <td>...</td>\n",
       "      <td>...</td>\n",
       "      <td>...</td>\n",
       "      <td>...</td>\n",
       "      <td>...</td>\n",
       "      <td>...</td>\n",
       "      <td>...</td>\n",
       "      <td>...</td>\n",
       "      <td>...</td>\n",
       "      <td>...</td>\n",
       "      <td>...</td>\n",
       "      <td>...</td>\n",
       "      <td>...</td>\n",
       "      <td>...</td>\n",
       "      <td>...</td>\n",
       "      <td>...</td>\n",
       "      <td>...</td>\n",
       "      <td>...</td>\n",
       "      <td>...</td>\n",
       "      <td>...</td>\n",
       "    </tr>\n",
       "    <tr>\n",
       "      <th>boondoggles</th>\n",
       "      <td>0</td>\n",
       "      <td>0</td>\n",
       "      <td>0</td>\n",
       "      <td>0</td>\n",
       "      <td>0</td>\n",
       "      <td>0</td>\n",
       "      <td>0</td>\n",
       "      <td>0</td>\n",
       "      <td>0</td>\n",
       "      <td>0</td>\n",
       "      <td>...</td>\n",
       "      <td>0</td>\n",
       "      <td>0</td>\n",
       "      <td>1</td>\n",
       "      <td>0</td>\n",
       "      <td>1</td>\n",
       "      <td>0</td>\n",
       "      <td>1</td>\n",
       "      <td>0</td>\n",
       "      <td>0</td>\n",
       "      <td>0</td>\n",
       "    </tr>\n",
       "    <tr>\n",
       "      <th>elephants</th>\n",
       "      <td>0</td>\n",
       "      <td>0</td>\n",
       "      <td>0</td>\n",
       "      <td>0</td>\n",
       "      <td>0</td>\n",
       "      <td>0</td>\n",
       "      <td>0</td>\n",
       "      <td>0</td>\n",
       "      <td>0</td>\n",
       "      <td>0</td>\n",
       "      <td>...</td>\n",
       "      <td>0</td>\n",
       "      <td>0</td>\n",
       "      <td>1</td>\n",
       "      <td>1</td>\n",
       "      <td>1</td>\n",
       "      <td>1</td>\n",
       "      <td>0</td>\n",
       "      <td>0</td>\n",
       "      <td>0</td>\n",
       "      <td>0</td>\n",
       "    </tr>\n",
       "    <tr>\n",
       "      <th>campaigning</th>\n",
       "      <td>0</td>\n",
       "      <td>0</td>\n",
       "      <td>0</td>\n",
       "      <td>0</td>\n",
       "      <td>0</td>\n",
       "      <td>0</td>\n",
       "      <td>0</td>\n",
       "      <td>0</td>\n",
       "      <td>0</td>\n",
       "      <td>0</td>\n",
       "      <td>...</td>\n",
       "      <td>0</td>\n",
       "      <td>0</td>\n",
       "      <td>0</td>\n",
       "      <td>1</td>\n",
       "      <td>1</td>\n",
       "      <td>0</td>\n",
       "      <td>0</td>\n",
       "      <td>0</td>\n",
       "      <td>0</td>\n",
       "      <td>0</td>\n",
       "    </tr>\n",
       "    <tr>\n",
       "      <th>compared</th>\n",
       "      <td>0</td>\n",
       "      <td>0</td>\n",
       "      <td>0</td>\n",
       "      <td>0</td>\n",
       "      <td>0</td>\n",
       "      <td>0</td>\n",
       "      <td>0</td>\n",
       "      <td>0</td>\n",
       "      <td>0</td>\n",
       "      <td>0</td>\n",
       "      <td>...</td>\n",
       "      <td>0</td>\n",
       "      <td>0</td>\n",
       "      <td>0</td>\n",
       "      <td>0</td>\n",
       "      <td>0</td>\n",
       "      <td>0</td>\n",
       "      <td>0</td>\n",
       "      <td>0</td>\n",
       "      <td>0</td>\n",
       "      <td>0</td>\n",
       "    </tr>\n",
       "    <tr>\n",
       "      <th>textbook</th>\n",
       "      <td>0</td>\n",
       "      <td>0</td>\n",
       "      <td>0</td>\n",
       "      <td>0</td>\n",
       "      <td>0</td>\n",
       "      <td>0</td>\n",
       "      <td>0</td>\n",
       "      <td>0</td>\n",
       "      <td>0</td>\n",
       "      <td>0</td>\n",
       "      <td>...</td>\n",
       "      <td>0</td>\n",
       "      <td>0</td>\n",
       "      <td>0</td>\n",
       "      <td>1</td>\n",
       "      <td>0</td>\n",
       "      <td>0</td>\n",
       "      <td>0</td>\n",
       "      <td>0</td>\n",
       "      <td>0</td>\n",
       "      <td>0</td>\n",
       "    </tr>\n",
       "  </tbody>\n",
       "</table>\n",
       "<p>4014 rows × 4014 columns</p>\n",
       "</div>"
      ],
      "text/plain": [
       "              machu  picchu  15th-century  inca  citadel  located  eastern  \\\n",
       "machu         0      81      1             5     1        2        1         \n",
       "picchu        81     0       1             6     3        1        1         \n",
       "15th-century  1      1       0             1     1        1        0         \n",
       "inca          5      6       1             0     1        1        1         \n",
       "citadel       1      3       1             1     0        1        1         \n",
       "...          ..     ..      ..            ..    ..       ..       ..         \n",
       "boondoggles   0      0       0             0     0        0        0         \n",
       "elephants     0      0       0             0     0        0        0         \n",
       "campaigning   0      0       0             0     0        0        0         \n",
       "compared      0      0       0             0     0        0        0         \n",
       "textbook      0      0       0             0     0        0        0         \n",
       "\n",
       "              cordillera  southern  peru  ...  comprehensive  overview  cbc  \\\n",
       "machu         0           1         2     ...  0              0         0     \n",
       "picchu        0           1         1     ...  0              0         0     \n",
       "15th-century  0           0         0     ...  0              0         0     \n",
       "inca          0           0         1     ...  0              0         0     \n",
       "citadel       1           0         0     ...  0              0         0     \n",
       "...          ..          ..        ..     ... ..             ..        ..     \n",
       "boondoggles   0           0         0     ...  0              0         1     \n",
       "elephants     0           0         0     ...  0              0         1     \n",
       "campaigning   0           0         0     ...  0              0         0     \n",
       "compared      0           0         0     ...  0              0         0     \n",
       "textbook      0           0         0     ...  0              0         0     \n",
       "\n",
       "              digital  archives  boondoggles  elephants  campaigning  \\\n",
       "machu         0        0         0            0          0             \n",
       "picchu        0        0         0            0          0             \n",
       "15th-century  0        0         0            0          0             \n",
       "inca          0        0         0            0          0             \n",
       "citadel       0        0         0            0          0             \n",
       "...          ..       ..        ..           ..         ..             \n",
       "boondoggles   0        1         0            1          0             \n",
       "elephants     1        1         1            0          0             \n",
       "campaigning   1        1         0            0          0             \n",
       "compared      0        0         0            0          0             \n",
       "textbook      1        0         0            0          0             \n",
       "\n",
       "              compared  textbook  \n",
       "machu         0         0         \n",
       "picchu        0         0         \n",
       "15th-century  0         0         \n",
       "inca          0         0         \n",
       "citadel       0         0         \n",
       "...          ..        ..         \n",
       "boondoggles   0         0         \n",
       "elephants     0         0         \n",
       "campaigning   0         0         \n",
       "compared      0         0         \n",
       "textbook      0         0         \n",
       "\n",
       "[4014 rows x 4014 columns]"
      ]
     },
     "execution_count": 14,
     "metadata": {},
     "output_type": "execute_result"
    }
   ],
   "source": [
    "sents = MyPreprocessor(corpus)\n",
    "cm = CooccurrenceMatrix(sents)\n",
    "comat = cm.fit_transform()\n",
    "vocab = cm.get_feature_names()\n",
    "df = pd.DataFrame(comat.todense(), columns=vocab, index=vocab, dtype=np.int8)\n",
    "df"
   ]
  },
  {
   "cell_type": "code",
   "execution_count": 15,
   "metadata": {},
   "outputs": [
    {
     "name": "stdout",
     "output_type": "stream",
     "text": [
      "The dot product between tall and height: 19.00 and cosine similarity is: 0.34\n",
      "The dot product between tall and official: 0.00 and cosine similarity is: 0.00\n"
     ]
    }
   ],
   "source": [
    "print_cosine_similarity(df, \"tall\", \"height\")\n",
    "print_cosine_similarity(df, \"tall\", \"official\")"
   ]
  },
  {
   "cell_type": "markdown",
   "metadata": {
    "slideshow": {
     "slide_type": "skip"
    }
   },
   "source": [
    "<br><br><br><br>"
   ]
  },
  {
   "cell_type": "markdown",
   "metadata": {
    "slideshow": {
     "slide_type": "slide"
    }
   },
   "source": [
    "## Dense representations "
   ]
  },
  {
   "cell_type": "markdown",
   "metadata": {},
   "source": [
    "- The goal is to learn general purpose embeddings that are useful for common tasks involving text data. "
   ]
  },
  {
   "cell_type": "markdown",
   "metadata": {
    "slideshow": {
     "slide_type": "slide"
    }
   },
   "source": [
    "### Sparse vs. dense word vectors\n",
    "- Term-term co-occurrence matrix representation is long and sparse. \n",
    "    - length |V| is usually large (e.g., > 50,000) \n",
    "    - most elements are zero\n",
    "- OK because there are efficient ways to deal with sparse matrices."
   ]
  },
  {
   "cell_type": "markdown",
   "metadata": {
    "slideshow": {
     "slide_type": "slide"
    }
   },
   "source": [
    "### Alternative \n",
    "\n",
    "- Learn short (~100 to 1000 dimensions) and dense vectors.  \n",
    "- Short vectors are usually easier to train with ML models (less weights to train).\n",
    "- They may generalize better.\n",
    "- In practice they work much better! "
   ]
  },
  {
   "cell_type": "markdown",
   "metadata": {
    "slideshow": {
     "slide_type": "slide"
    }
   },
   "source": [
    "### Dense word representations\n",
    "\n",
    "- Before looking at how to create dense word representations let's see how they look like and \n",
    "what can we do with them. \n",
    "- Below I am loading word vectors trained on Google News corpus. "
   ]
  },
  {
   "cell_type": "code",
   "execution_count": 16,
   "metadata": {},
   "outputs": [],
   "source": [
    "# It'll take a while to run this when you try it out for the first time.\n",
    "import gensim.downloader as api\n",
    "\n",
    "google_news_vectors = api.load(\"word2vec-google-news-300\")"
   ]
  },
  {
   "cell_type": "code",
   "execution_count": 17,
   "metadata": {},
   "outputs": [
    {
     "name": "stdout",
     "output_type": "stream",
     "text": [
      "Size of vocabulary:  3000000\n"
     ]
    }
   ],
   "source": [
    "print(\"Size of vocabulary: \", len(google_news_vectors))"
   ]
  },
  {
   "cell_type": "markdown",
   "metadata": {
    "slideshow": {
     "slide_type": "-"
    }
   },
   "source": [
    "- `google_news_vectors` above has 300 dimensional word vectors for 3,000,000 unique words from Google news. "
   ]
  },
  {
   "cell_type": "markdown",
   "metadata": {
    "slideshow": {
     "slide_type": "slide"
    }
   },
   "source": [
    "### What can we do with these word vectors?\n",
    "\n",
    "- Let's examine word vector for the word UBC. "
   ]
  },
  {
   "cell_type": "code",
   "execution_count": 18,
   "metadata": {
    "slideshow": {
     "slide_type": "-"
    }
   },
   "outputs": [
    {
     "data": {
      "text/plain": [
       "array([-0.3828125 , -0.18066406,  0.10644531,  0.4296875 ,  0.21582031,\n",
       "       -0.10693359,  0.13476562, -0.08740234, -0.14648438, -0.09619141,\n",
       "        0.02807617,  0.01409912, -0.12890625, -0.21972656, -0.41210938,\n",
       "       -0.1875    , -0.11914062, -0.22851562,  0.19433594, -0.08642578],\n",
       "      dtype=float32)"
      ]
     },
     "execution_count": 18,
     "metadata": {},
     "output_type": "execute_result"
    }
   ],
   "source": [
    "google_news_vectors[\"UBC\"][:20]  # Representation of the word UBC"
   ]
  },
  {
   "cell_type": "code",
   "execution_count": 19,
   "metadata": {
    "slideshow": {
     "slide_type": "-"
    }
   },
   "outputs": [
    {
     "data": {
      "text/plain": [
       "(300,)"
      ]
     },
     "execution_count": 19,
     "metadata": {},
     "output_type": "execute_result"
    }
   ],
   "source": [
    "google_news_vectors[\"UBC\"].shape"
   ]
  },
  {
   "cell_type": "markdown",
   "metadata": {},
   "source": [
    "Indeed it is a short and a dense vector! "
   ]
  },
  {
   "cell_type": "markdown",
   "metadata": {
    "slideshow": {
     "slide_type": "slide"
    }
   },
   "source": [
    "### Finding similar words \n",
    "\n",
    "- Given word $w$, search in the vector space for the word closest to $w$ as measured by cosine distance. "
   ]
  },
  {
   "cell_type": "code",
   "execution_count": 20,
   "metadata": {},
   "outputs": [
    {
     "data": {
      "text/plain": [
       "[('UVic', 0.788647472858429),\n",
       " ('SFU', 0.7588527798652649),\n",
       " ('Simon_Fraser', 0.7356575131416321),\n",
       " ('UFV', 0.688043475151062),\n",
       " ('VIU', 0.6778583526611328),\n",
       " ('Kwantlen', 0.6771429181098938),\n",
       " ('UBCO', 0.6734487414360046),\n",
       " ('UPEI', 0.6731126308441162),\n",
       " ('UBC_Okanagan', 0.6709133982658386),\n",
       " ('Lakehead_University', 0.6622507572174072)]"
      ]
     },
     "execution_count": 20,
     "metadata": {},
     "output_type": "execute_result"
    }
   ],
   "source": [
    "google_news_vectors.most_similar(\"UBC\")"
   ]
  },
  {
   "cell_type": "code",
   "execution_count": 21,
   "metadata": {
    "slideshow": {
     "slide_type": "slide"
    }
   },
   "outputs": [
    {
     "data": {
      "text/plain": [
       "[('info', 0.7363681793212891),\n",
       " ('infomation', 0.6800296306610107),\n",
       " ('infor_mation', 0.6733849048614502),\n",
       " ('informaiton', 0.6639009118080139),\n",
       " ('informa_tion', 0.6601256728172302),\n",
       " ('informationon', 0.633933424949646),\n",
       " ('informationabout', 0.6320979595184326),\n",
       " ('Information', 0.6186580061912537),\n",
       " ('informaion', 0.6093292236328125),\n",
       " ('details', 0.6063088774681091)]"
      ]
     },
     "execution_count": 21,
     "metadata": {},
     "output_type": "execute_result"
    }
   ],
   "source": [
    "google_news_vectors.most_similar(\"information\")"
   ]
  },
  {
   "cell_type": "markdown",
   "metadata": {},
   "source": [
    "If you want to extract all documents containing words similar to **information**, you could use this information.  "
   ]
  },
  {
   "cell_type": "markdown",
   "metadata": {
    "slideshow": {
     "slide_type": "skip"
    }
   },
   "source": [
    "Google News embeddings also support multi-word phrases. "
   ]
  },
  {
   "cell_type": "code",
   "execution_count": 22,
   "metadata": {
    "slideshow": {
     "slide_type": "skip"
    }
   },
   "outputs": [
    {
     "data": {
      "text/plain": [
       "[('BC', 0.7640387415885925),\n",
       " ('Alberta', 0.7285022735595703),\n",
       " ('Ontario', 0.7031312584877014),\n",
       " ('Vancouver', 0.6976040005683899),\n",
       " ('Lower_Mainland', 0.6730170249938965),\n",
       " ('Saskatchewan', 0.6690970063209534),\n",
       " ('Manitoba', 0.6569437980651855),\n",
       " ('Canada', 0.6478375792503357),\n",
       " ('Kamloops', 0.6449972987174988),\n",
       " ('Nanaimo_BC', 0.6426822543144226)]"
      ]
     },
     "execution_count": 22,
     "metadata": {},
     "output_type": "execute_result"
    }
   ],
   "source": [
    "google_news_vectors.most_similar(\"British_Columbia\")"
   ]
  },
  {
   "cell_type": "markdown",
   "metadata": {
    "slideshow": {
     "slide_type": "slide"
    }
   },
   "source": [
    "### Finding similarity scores between words"
   ]
  },
  {
   "cell_type": "code",
   "execution_count": 23,
   "metadata": {},
   "outputs": [
    {
     "data": {
      "text/plain": [
       "0.27610135"
      ]
     },
     "execution_count": 23,
     "metadata": {},
     "output_type": "execute_result"
    }
   ],
   "source": [
    "google_news_vectors.similarity(\"Canada\", \"hockey\")"
   ]
  },
  {
   "cell_type": "code",
   "execution_count": 24,
   "metadata": {},
   "outputs": [
    {
     "data": {
      "text/plain": [
       "0.0019627889"
      ]
     },
     "execution_count": 24,
     "metadata": {},
     "output_type": "execute_result"
    }
   ],
   "source": [
    "google_news_vectors.similarity(\"Japan\", \"hockey\")"
   ]
  },
  {
   "cell_type": "code",
   "execution_count": 25,
   "metadata": {
    "slideshow": {
     "slide_type": "slide"
    }
   },
   "outputs": [
    {
     "name": "stdout",
     "output_type": "stream",
     "text": [
      "The similarity between height and tall is 0.473\n",
      "The similarity between height and official is 0.002\n",
      "The similarity between pineapple and mango is 0.668\n",
      "The similarity between pineapple and juice is 0.418\n",
      "The similarity between sun and robot is 0.029\n",
      "The similarity between GPU and hummus is 0.094\n"
     ]
    }
   ],
   "source": [
    "word_pairs = [\n",
    "    (\"height\", \"tall\"),\n",
    "    (\"height\", \"official\"),\n",
    "    (\"pineapple\", \"mango\"),\n",
    "    (\"pineapple\", \"juice\"),\n",
    "    (\"sun\", \"robot\"),\n",
    "    (\"GPU\", \"hummus\"),\n",
    "]\n",
    "for pair in word_pairs:\n",
    "    print(\n",
    "        \"The similarity between %s and %s is %0.3f\"\n",
    "        % (pair[0], pair[1], google_news_vectors.similarity(pair[0], pair[1]))\n",
    "    )"
   ]
  },
  {
   "cell_type": "markdown",
   "metadata": {},
   "source": [
    "We are getting reasonable word similarity scores!! "
   ]
  },
  {
   "cell_type": "markdown",
   "metadata": {
    "slideshow": {
     "slide_type": "slide"
    }
   },
   "source": [
    "### Short and dense word embeddings \n",
    "\n",
    "![](img/word2vec.png)\n",
    "<!-- <center>\n",
    "<img src=\"img/word2vec.png\" width=\"600\" height=\"600\">\n",
    "</center>     -->"
   ]
  },
  {
   "cell_type": "markdown",
   "metadata": {
    "slideshow": {
     "slide_type": "slide"
    }
   },
   "source": [
    "### Creating dense representations\n",
    "\n",
    "There are two classes of approaches. \n",
    "\n",
    "- LSA (also referred to as count-based approaches)\n",
    "- word2vec (prediction-based approaches)"
   ]
  },
  {
   "cell_type": "markdown",
   "metadata": {
    "slideshow": {
     "slide_type": "skip"
    }
   },
   "source": [
    "\n",
    "### (Optional) Dense embeddings with LSA\n",
    "\n",
    "- How can we get such dense word embeddings? \n",
    "- Can we use LSA to get such short and dense representations? "
   ]
  },
  {
   "cell_type": "code",
   "execution_count": 26,
   "metadata": {
    "slideshow": {
     "slide_type": "skip"
    }
   },
   "outputs": [],
   "source": [
    "import nltk\n",
    "from sklearn.decomposition import TruncatedSVD"
   ]
  },
  {
   "cell_type": "code",
   "execution_count": 27,
   "metadata": {
    "slideshow": {
     "slide_type": "skip"
    }
   },
   "outputs": [],
   "source": [
    "cm = CooccurrenceMatrix(sents)\n",
    "comat = cm.fit_transform()\n",
    "vocab = cm.get_feature_names()"
   ]
  },
  {
   "cell_type": "code",
   "execution_count": 28,
   "metadata": {
    "slideshow": {
     "slide_type": "skip"
    }
   },
   "outputs": [],
   "source": [
    "lsa = TruncatedSVD(n_components=10, n_iter=7, random_state=42)\n",
    "lsa.fit(comat)\n",
    "embedding_matrix = lsa.transform(comat)\n",
    "lsa_rep_df = pd.DataFrame(embedding_matrix, index=vocab)"
   ]
  },
  {
   "cell_type": "code",
   "execution_count": 29,
   "metadata": {
    "slideshow": {
     "slide_type": "skip"
    }
   },
   "outputs": [
    {
     "data": {
      "text/html": [
       "<div>\n",
       "<style scoped>\n",
       "    .dataframe tbody tr th:only-of-type {\n",
       "        vertical-align: middle;\n",
       "    }\n",
       "\n",
       "    .dataframe tbody tr th {\n",
       "        vertical-align: top;\n",
       "    }\n",
       "\n",
       "    .dataframe thead th {\n",
       "        text-align: right;\n",
       "    }\n",
       "</style>\n",
       "<table border=\"1\" class=\"dataframe\">\n",
       "  <thead>\n",
       "    <tr style=\"text-align: right;\">\n",
       "      <th></th>\n",
       "      <th>0</th>\n",
       "      <th>1</th>\n",
       "      <th>2</th>\n",
       "      <th>3</th>\n",
       "      <th>4</th>\n",
       "      <th>5</th>\n",
       "      <th>6</th>\n",
       "      <th>7</th>\n",
       "      <th>8</th>\n",
       "      <th>9</th>\n",
       "    </tr>\n",
       "  </thead>\n",
       "  <tbody>\n",
       "    <tr>\n",
       "      <th>machu</th>\n",
       "      <td>61.366118</td>\n",
       "      <td>-57.456802</td>\n",
       "      <td>-7.003369</td>\n",
       "      <td>-2.290308</td>\n",
       "      <td>0.671540</td>\n",
       "      <td>0.009694</td>\n",
       "      <td>0.025287</td>\n",
       "      <td>0.138311</td>\n",
       "      <td>-0.253249</td>\n",
       "      <td>0.134344</td>\n",
       "    </tr>\n",
       "    <tr>\n",
       "      <th>picchu</th>\n",
       "      <td>62.785202</td>\n",
       "      <td>58.783534</td>\n",
       "      <td>-7.535283</td>\n",
       "      <td>-2.550941</td>\n",
       "      <td>0.404999</td>\n",
       "      <td>-1.396848</td>\n",
       "      <td>-0.423759</td>\n",
       "      <td>0.594469</td>\n",
       "      <td>-0.031253</td>\n",
       "      <td>0.307465</td>\n",
       "    </tr>\n",
       "    <tr>\n",
       "      <th>15th-century</th>\n",
       "      <td>1.438917</td>\n",
       "      <td>-0.004973</td>\n",
       "      <td>-0.205302</td>\n",
       "      <td>-0.079701</td>\n",
       "      <td>-0.007208</td>\n",
       "      <td>0.014104</td>\n",
       "      <td>-0.054779</td>\n",
       "      <td>-0.012399</td>\n",
       "      <td>0.061893</td>\n",
       "      <td>-0.033931</td>\n",
       "    </tr>\n",
       "    <tr>\n",
       "      <th>inca</th>\n",
       "      <td>9.561670</td>\n",
       "      <td>-0.480417</td>\n",
       "      <td>-0.607111</td>\n",
       "      <td>-0.192410</td>\n",
       "      <td>-0.464315</td>\n",
       "      <td>0.380473</td>\n",
       "      <td>-0.297651</td>\n",
       "      <td>-0.197764</td>\n",
       "      <td>0.832012</td>\n",
       "      <td>-0.022476</td>\n",
       "    </tr>\n",
       "    <tr>\n",
       "      <th>citadel</th>\n",
       "      <td>3.035068</td>\n",
       "      <td>-1.305038</td>\n",
       "      <td>-0.323720</td>\n",
       "      <td>-0.251208</td>\n",
       "      <td>-0.101818</td>\n",
       "      <td>0.135826</td>\n",
       "      <td>-0.278813</td>\n",
       "      <td>0.132295</td>\n",
       "      <td>0.033892</td>\n",
       "      <td>0.108989</td>\n",
       "    </tr>\n",
       "    <tr>\n",
       "      <th>...</th>\n",
       "      <td>...</td>\n",
       "      <td>...</td>\n",
       "      <td>...</td>\n",
       "      <td>...</td>\n",
       "      <td>...</td>\n",
       "      <td>...</td>\n",
       "      <td>...</td>\n",
       "      <td>...</td>\n",
       "      <td>...</td>\n",
       "      <td>...</td>\n",
       "    </tr>\n",
       "    <tr>\n",
       "      <th>boondoggles</th>\n",
       "      <td>0.020606</td>\n",
       "      <td>-0.000040</td>\n",
       "      <td>0.034892</td>\n",
       "      <td>-0.023990</td>\n",
       "      <td>-0.012794</td>\n",
       "      <td>-0.033034</td>\n",
       "      <td>0.065079</td>\n",
       "      <td>-0.004922</td>\n",
       "      <td>0.016420</td>\n",
       "      <td>0.005638</td>\n",
       "    </tr>\n",
       "    <tr>\n",
       "      <th>elephants</th>\n",
       "      <td>0.005771</td>\n",
       "      <td>-0.000344</td>\n",
       "      <td>0.037876</td>\n",
       "      <td>-0.025889</td>\n",
       "      <td>-0.010809</td>\n",
       "      <td>-0.029315</td>\n",
       "      <td>0.069195</td>\n",
       "      <td>-0.005221</td>\n",
       "      <td>0.016855</td>\n",
       "      <td>0.005606</td>\n",
       "    </tr>\n",
       "    <tr>\n",
       "      <th>campaigning</th>\n",
       "      <td>0.066983</td>\n",
       "      <td>0.004977</td>\n",
       "      <td>0.459355</td>\n",
       "      <td>-0.229601</td>\n",
       "      <td>-0.054824</td>\n",
       "      <td>0.297407</td>\n",
       "      <td>0.429382</td>\n",
       "      <td>0.010835</td>\n",
       "      <td>0.149027</td>\n",
       "      <td>-0.016135</td>\n",
       "    </tr>\n",
       "    <tr>\n",
       "      <th>compared</th>\n",
       "      <td>0.078699</td>\n",
       "      <td>0.004832</td>\n",
       "      <td>0.566695</td>\n",
       "      <td>-0.285036</td>\n",
       "      <td>-0.082511</td>\n",
       "      <td>0.303354</td>\n",
       "      <td>0.555648</td>\n",
       "      <td>-0.001606</td>\n",
       "      <td>0.297681</td>\n",
       "      <td>-0.017507</td>\n",
       "    </tr>\n",
       "    <tr>\n",
       "      <th>textbook</th>\n",
       "      <td>0.020454</td>\n",
       "      <td>-0.000402</td>\n",
       "      <td>0.052851</td>\n",
       "      <td>-0.037458</td>\n",
       "      <td>-0.023270</td>\n",
       "      <td>-0.031298</td>\n",
       "      <td>0.086086</td>\n",
       "      <td>-0.016434</td>\n",
       "      <td>0.063939</td>\n",
       "      <td>-0.011434</td>\n",
       "    </tr>\n",
       "  </tbody>\n",
       "</table>\n",
       "<p>4014 rows × 10 columns</p>\n",
       "</div>"
      ],
      "text/plain": [
       "                      0          1         2         3         4         5  \\\n",
       "machu         61.366118 -57.456802 -7.003369 -2.290308  0.671540  0.009694   \n",
       "picchu        62.785202  58.783534 -7.535283 -2.550941  0.404999 -1.396848   \n",
       "15th-century  1.438917  -0.004973  -0.205302 -0.079701 -0.007208  0.014104   \n",
       "inca          9.561670  -0.480417  -0.607111 -0.192410 -0.464315  0.380473   \n",
       "citadel       3.035068  -1.305038  -0.323720 -0.251208 -0.101818  0.135826   \n",
       "...                ...        ...        ...       ...       ...       ...   \n",
       "boondoggles   0.020606  -0.000040   0.034892 -0.023990 -0.012794 -0.033034   \n",
       "elephants     0.005771  -0.000344   0.037876 -0.025889 -0.010809 -0.029315   \n",
       "campaigning   0.066983   0.004977   0.459355 -0.229601 -0.054824  0.297407   \n",
       "compared      0.078699   0.004832   0.566695 -0.285036 -0.082511  0.303354   \n",
       "textbook      0.020454  -0.000402   0.052851 -0.037458 -0.023270 -0.031298   \n",
       "\n",
       "                     6         7         8         9  \n",
       "machu         0.025287  0.138311 -0.253249  0.134344  \n",
       "picchu       -0.423759  0.594469 -0.031253  0.307465  \n",
       "15th-century -0.054779 -0.012399  0.061893 -0.033931  \n",
       "inca         -0.297651 -0.197764  0.832012 -0.022476  \n",
       "citadel      -0.278813  0.132295  0.033892  0.108989  \n",
       "...                ...       ...       ...       ...  \n",
       "boondoggles   0.065079 -0.004922  0.016420  0.005638  \n",
       "elephants     0.069195 -0.005221  0.016855  0.005606  \n",
       "campaigning   0.429382  0.010835  0.149027 -0.016135  \n",
       "compared      0.555648 -0.001606  0.297681 -0.017507  \n",
       "textbook      0.086086 -0.016434  0.063939 -0.011434  \n",
       "\n",
       "[4014 rows x 10 columns]"
      ]
     },
     "execution_count": 29,
     "metadata": {},
     "output_type": "execute_result"
    }
   ],
   "source": [
    "lsa_rep_df  # word representations learned with LSA"
   ]
  },
  {
   "cell_type": "code",
   "execution_count": 30,
   "metadata": {
    "slideshow": {
     "slide_type": "skip"
    }
   },
   "outputs": [
    {
     "name": "stdout",
     "output_type": "stream",
     "text": [
      "The dot product between tall and height: 6.06 and cosine similarity is: 0.99\n",
      "The dot product between tall and official: 0.11 and cosine similarity is: 0.01\n"
     ]
    }
   ],
   "source": [
    "print_cosine_similarity(lsa_rep_df, \"tall\", \"height\")\n",
    "print_cosine_similarity(lsa_rep_df, \"tall\", \"official\")"
   ]
  },
  {
   "cell_type": "markdown",
   "metadata": {
    "slideshow": {
     "slide_type": "skip"
    }
   },
   "source": [
    "### word2vec \n",
    "\n",
    "- We can use LSA to get dense word embeddings.\n",
    "- In general, if we have a small dataset, embeddings extracted using LSA work better. \n",
    "- But an alternative and a more popular way to extract dense and short embeddings is using word2vec.  \n",
    "- word2vec is a family of algorithms to create dense word embeddings using neural networks."
   ]
  },
  {
   "cell_type": "markdown",
   "metadata": {
    "slideshow": {
     "slide_type": "slide"
    }
   },
   "source": [
    "### How does word2vec learn meaningful word representations? \n",
    "\n",
    "Remember fill in the blank puzzles in your highschool tests? \n",
    "\n",
    "> Add freshly squeezed ___ juice to your smoothie. \n",
    "1. pineapple \n",
    "2. scarf\n",
    "3. PCA\n",
    "4. earthquake \n",
    "\n",
    "Another slightly non-intuitive way to think about this is what would be the context words given the target word **pineapple**?    \n",
    "\n",
    "> Add freshly ___ **pineapple** ___ to your smoothie. \n",
    "\n",
    "word2vec learns meaningful word representations by learning to solve large number of such fill in the blank puzzles.  "
   ]
  },
  {
   "cell_type": "markdown",
   "metadata": {},
   "source": [
    "- Based on this intuition, there are two primary algorithms \n",
    "    - Continuous bag of words (CBOW)\n",
    "    - **Skip-gram**\n",
    "- Two moderately efficient training methods \n",
    "    - Hierarchical softmax\n",
    "    - Negative sampling "
   ]
  },
  {
   "cell_type": "markdown",
   "metadata": {
    "slideshow": {
     "slide_type": "slide"
    }
   },
   "source": [
    "### word2vec: Skip-gram model\n",
    "\n",
    "- We are going to talk about the inefficient Skip-gram model, as it's enough to get an intuition. \n",
    "- A neural network model to obtain short and dense representations of words. \n",
    "- A simple architecture with \n",
    "    - an input layer\n",
    "    - a linear hidden layer (without any activation function)\n",
    "    - an output layer with softmax "
   ]
  },
  {
   "cell_type": "markdown",
   "metadata": {
    "slideshow": {
     "slide_type": "slide"
    }
   },
   "source": [
    "- In skip-gram we work on an \"auxiliary\" supervised machine learning word prediction task of prediction context words given the target word.   \n",
    "- We train a neural network for this task and the learned weights are our word vectors. \n",
    "- So we are not actually interested in making prediction about the context words. \n",
    "- Our goal is to learn meaningful weights (meaningful representation of the input) in the process. \n",
    "\n",
    "<blockquote>\n",
    "    Add freshly squeezed$_{context}$ pineapple$_{target}$ juice$_{context}$ to your smoothie. \n",
    "</blockquote> \n",
    "\n",
    "![](img/target-context.png)\n",
    "\n",
    "<!-- <center>\n",
    "<img src=\"img/target-context.png\" width=\"300\" height=\"300\">\n",
    "</center>\n",
    " -->\n",
    "- So in the example above given the target word **pineapple**\n",
    "    - what's the probability that a randomly picked context word is **juice**. \n",
    "    - what's the probability that a randomly picked context word is **squeezed**. \n",
    "\n",
    "- Given a **target word** (i.e., center word) word, predict **context words** (i.e., surrounding words). \n",
    "- Note that we are using \"target\" in a different sense here compared to how we use it in supervised machine learning.  "
   ]
  },
  {
   "cell_type": "markdown",
   "metadata": {
    "slideshow": {
     "slide_type": "slide"
    }
   },
   "source": [
    "### A simple neural network architecture ([Source](http://mccormickml.com/2016/04/19/word2vec-tutorial-the-skip-gram-model/))\n",
    "\n",
    "- an input layer\n",
    "- a linear hidden layer (without any activation function)\n",
    "- an output layer with softmax\n",
    "\n",
    "![](img/word2vec-architecture.png)\n",
    "\n",
    "<!-- <img src=\"img/word2vec-architecture.png\" width=\"800\" height=\"500\"> -->\n",
    "\n",
    "<!-- <center>\n",
    "<img src=\"img/word2vec_skipgram.png\" width=\"500\" height=\"500\">\n",
    "</center>    \n",
    " -->\n"
   ]
  },
  {
   "cell_type": "markdown",
   "metadata": {
    "slideshow": {
     "slide_type": "slide"
    }
   },
   "source": [
    "<!-- <img src=\"img/skipgram-juice.png\" width=\"1000\" height=\"1000\"> -->\n",
    "\n",
    "![](img/skipgram-juice.png)"
   ]
  },
  {
   "cell_type": "markdown",
   "metadata": {},
   "source": [
    "<br><br>"
   ]
  },
  {
   "cell_type": "markdown",
   "metadata": {
    "slideshow": {
     "slide_type": "slide"
    }
   },
   "source": [
    "![](img/skipgram-squeezed.png)"
   ]
  },
  {
   "cell_type": "markdown",
   "metadata": {
    "slideshow": {
     "slide_type": "slide"
    }
   },
   "source": [
    "### Skip-gram objective\n",
    "- Consider the conditional probabilities $p(w_c|w_t)$ and set the parameters $\\theta$ of $p(w_c|w_t; \\theta)$ so as to maximize the corpus probability. \n",
    "\n",
    "$$\\arg \\max\\limits_\\theta \\prod\\limits_{(w_c,w_t) \\in D} p(w_c|w_t;\\theta)$$\n",
    "\n",
    "\n",
    "- $w_t$ &rarr; target word\n",
    "- $w_c$ &rarr; context word\n",
    "- $D$ &rarr; the set of all target and context pairs from the text \n",
    "- $V$ &rarr; vocabulary"
   ]
  },
  {
   "cell_type": "markdown",
   "metadata": {
    "slideshow": {
     "slide_type": "slide"
    }
   },
   "source": [
    "- Model the conditional probability using softmax of the dot product.\n",
    "    * Higher the dot product higher the probability and vice-versa.     \n",
    "    \n",
    "\n",
    "$$P(w_c|w_t;\\theta) = \\frac{e^{w_c.w_t}}{\\sum\\limits_{\\substack{c' \\in V}} e^{w_{c'}.w_t}}$$\n",
    "\n",
    "- Substituting the conditional probability with the softmax of dot product: \n",
    "$$ \\arg \\max\\limits_\\theta \\prod\\limits_{(w_c,w_t) \\in D} P(w_c|w_t;\\theta) \\approx \\prod\\limits_{(w_c,w_t) \\in D} \\frac{e^{w_c.w_t}}{\\sum\\limits_{\\substack{c' \\in V}} e^{w_{c'}.w_t}}$$\n",
    "- Assumption: Maximizing this objective on a large corpus will result in meaningful embeddings for all words in the vocabulary. "
   ]
  },
  {
   "cell_type": "markdown",
   "metadata": {
    "slideshow": {
     "slide_type": "slide"
    }
   },
   "source": [
    "### Main hyperparameters of the model\n",
    "\n",
    "- Dimensionality of the word vectors \n",
    "- Window size\n",
    "    * shorter window: more syntactic representation\n",
    "    * longer window: more semantic representation \n",
    "    * Mikolov et al. (2015) suggest setting this parameter in the range 5 to 20 for small training datasets and in the range 2 to 5 for large training datasets.    "
   ]
  },
  {
   "cell_type": "markdown",
   "metadata": {
    "slideshow": {
     "slide_type": "slide"
    }
   },
   "source": [
    "### (Optional) Parameters to learn\n",
    "\n",
    "- Given a corpus with vocabulary of size $V$, where a word $w_i$ is identified by its index $i \\in {1, ..., V}$, learn a vector representation for each $w_i$ by predicting the words that appear in its context. \n",
    "- Learn the following parameters of the model\n",
    "    - Suppose $V = 10,000$, $d = 300$, the number of parameters to learn are 6,000,000! \n",
    "\n",
    "$$\n",
    "\\theta = \n",
    "\\begin{bmatrix} aardvark_t\\\\\n",
    "                aback_t\\\\\n",
    "                \\dots\\\\\n",
    "                zymurgi_t\\\\\n",
    "                aardvark_c\\\\\n",
    "                aback_c\\\\                \n",
    "                \\dots\\\\\n",
    "                zymurgi_c\\\\                \n",
    "\\end{bmatrix} \\in R^{2dV}\n",
    "$$\n"
   ]
  },
  {
   "cell_type": "markdown",
   "metadata": {},
   "source": [
    "<br><br><br><br>"
   ]
  },
  {
   "cell_type": "markdown",
   "metadata": {
    "slideshow": {
     "slide_type": "skip"
    }
   },
   "source": [
    "<br><br><br><rb>"
   ]
  },
  {
   "cell_type": "markdown",
   "metadata": {},
   "source": [
    "## ❓❓ Questions for you"
   ]
  },
  {
   "cell_type": "markdown",
   "metadata": {
    "slideshow": {
     "slide_type": "slide"
    }
   },
   "source": [
    "### Exercise 5.1 Select all of the following statements which are **True** (iClicker)\n",
    "\n",
    "- (A) Word representation created by term-term co-occurrence matrix are long and sparse whereas the ones created by word2vec are short and dense. \n",
    "- (B) You could pass term-term co-occurrence matrix to `TruncatedSVD` or LSA to get short and dense representations. \n",
    "- (C) The word2vec algorithm does not require any manually labeled training data.\n",
    "- (D) When training a word2vec model, it is fine if we do poorly on the fake word prediction task because in the end we only care about the learned weights of the model.\n",
    "- (E) Given the following table (word 1, word 2) are more similar than (word 1, word 3) in terms of dot products. \n",
    "\n",
    "![](img/similarity_question.png)\n",
    "<!-- <img src=\"img/similarity_question.png\" width=\"500\" height=\"500\"> -->\n",
    "\n",
    "**V's answers: A, B, C**\n",
    "<br><br><br><br>"
   ]
  },
  {
   "cell_type": "markdown",
   "metadata": {
    "slideshow": {
     "slide_type": "slide"
    }
   },
   "source": [
    "## More word2vec"
   ]
  },
  {
   "cell_type": "markdown",
   "metadata": {},
   "source": [
    "### Skip-gram demo with toy data"
   ]
  },
  {
   "cell_type": "markdown",
   "metadata": {},
   "source": [
    "**For the purpose of your lab or quiz, you do not have to understand the code in this demo.** "
   ]
  },
  {
   "cell_type": "code",
   "execution_count": 31,
   "metadata": {},
   "outputs": [],
   "source": [
    "toy_corpus = [\n",
    "    \"drink mango juice\",\n",
    "    \"drink pineapple juice\",\n",
    "    \"drink apple juice\",\n",
    "    \"drink squeezed pineapple juice\",\n",
    "    \"drink squeezed mango juice\",\n",
    "    \"drink apple tea\",\n",
    "    \"drink mango tea\",\n",
    "    \"drink mango water\",\n",
    "    \"drink apple water\",\n",
    "    \"drink pineapple water\",\n",
    "    \"drink juice\",\n",
    "    \"drink water\",\n",
    "    \"drink tea\",\n",
    "    \"play hockey\",\n",
    "    \"play football\",\n",
    "    \"play piano\",\n",
    "    \"piano play\",\n",
    "    \"play hockey game\",\n",
    "    \"play football game\",\n",
    "]"
   ]
  },
  {
   "cell_type": "code",
   "execution_count": 32,
   "metadata": {
    "slideshow": {
     "slide_type": "slide"
    }
   },
   "outputs": [],
   "source": [
    "sents = MyPreprocessor(toy_corpus)  # memory smart generator"
   ]
  },
  {
   "cell_type": "code",
   "execution_count": 33,
   "metadata": {
    "slideshow": {
     "slide_type": "-"
    }
   },
   "outputs": [],
   "source": [
    "EMBEDDING_DIM = 10\n",
    "CONTEXT_SIZE = 2\n",
    "EPOCHS = 10"
   ]
  },
  {
   "cell_type": "code",
   "execution_count": 34,
   "metadata": {},
   "outputs": [
    {
     "name": "stdout",
     "output_type": "stream",
     "text": [
      "The number of input pairs:  94\n"
     ]
    }
   ],
   "source": [
    "from word2vec_demo import *\n",
    "\n",
    "vocab = get_vocab(sents)\n",
    "word2idx = {w: idx for (idx, w) in enumerate(vocab)}\n",
    "idx2word = {idx: w for (idx, w) in enumerate(vocab)}\n",
    "\n",
    "sents = MyPreprocessor(toy_corpus)\n",
    "idx_pairs = create_input_pairs(sents, word2idx)\n",
    "print(\"The number of input pairs: \", len(idx_pairs))"
   ]
  },
  {
   "cell_type": "code",
   "execution_count": 35,
   "metadata": {},
   "outputs": [
    {
     "data": {
      "text/plain": [
       "['drink',\n",
       " 'mango',\n",
       " 'juice',\n",
       " 'pineapple',\n",
       " 'apple',\n",
       " 'squeezed',\n",
       " 'tea',\n",
       " 'water',\n",
       " 'play',\n",
       " 'hockey',\n",
       " 'football',\n",
       " 'piano',\n",
       " 'game']"
      ]
     },
     "execution_count": 35,
     "metadata": {},
     "output_type": "execute_result"
    }
   ],
   "source": [
    "vocab"
   ]
  },
  {
   "cell_type": "code",
   "execution_count": 36,
   "metadata": {},
   "outputs": [
    {
     "data": {
      "text/plain": [
       "array([[0, 1],\n",
       "       [0, 2],\n",
       "       [1, 0],\n",
       "       [1, 2],\n",
       "       [2, 0],\n",
       "       [2, 1],\n",
       "       [0, 3],\n",
       "       [0, 2],\n",
       "       [3, 0],\n",
       "       [3, 2]])"
      ]
     },
     "execution_count": 36,
     "metadata": {},
     "output_type": "execute_result"
    }
   ],
   "source": [
    "idx_pairs[:10] # training examples"
   ]
  },
  {
   "cell_type": "code",
   "execution_count": 37,
   "metadata": {},
   "outputs": [],
   "source": [
    "model = skipgramModel(len(vocab), EMBEDDING_DIM, CONTEXT_SIZE)\n",
    "train_model(model, idx_pairs, n_epochs=10)"
   ]
  },
  {
   "cell_type": "code",
   "execution_count": 38,
   "metadata": {
    "slideshow": {
     "slide_type": "slide"
    }
   },
   "outputs": [],
   "source": [
    "from IPython.display import display"
   ]
  },
  {
   "cell_type": "code",
   "execution_count": 39,
   "metadata": {},
   "outputs": [
    {
     "data": {
      "application/javascript": [
       "(function(root) {\n",
       "  function now() {\n",
       "    return new Date();\n",
       "  }\n",
       "\n",
       "  var force = true;\n",
       "\n",
       "  if (typeof root._bokeh_onload_callbacks === \"undefined\" || force === true) {\n",
       "    root._bokeh_onload_callbacks = [];\n",
       "    root._bokeh_is_loading = undefined;\n",
       "  }\n",
       "\n",
       "  if (typeof (root._bokeh_timeout) === \"undefined\" || force === true) {\n",
       "    root._bokeh_timeout = Date.now() + 5000;\n",
       "    root._bokeh_failed_load = false;\n",
       "  }\n",
       "\n",
       "  function run_callbacks() {\n",
       "    try {\n",
       "      root._bokeh_onload_callbacks.forEach(function(callback) {\n",
       "        if (callback != null)\n",
       "          callback();\n",
       "      });\n",
       "    } finally {\n",
       "      delete root._bokeh_onload_callbacks\n",
       "    }\n",
       "    console.debug(\"Bokeh: all callbacks have finished\");\n",
       "  }\n",
       "\n",
       "  function load_libs(css_urls, js_urls, js_modules, callback) {\n",
       "    if (css_urls == null) css_urls = [];\n",
       "    if (js_urls == null) js_urls = [];\n",
       "    if (js_modules == null) js_modules = [];\n",
       "\n",
       "    root._bokeh_onload_callbacks.push(callback);\n",
       "    if (root._bokeh_is_loading > 0) {\n",
       "      console.debug(\"Bokeh: BokehJS is being loaded, scheduling callback at\", now());\n",
       "      return null;\n",
       "    }\n",
       "    if (js_urls.length === 0 && js_modules.length === 0) {\n",
       "      run_callbacks();\n",
       "      return null;\n",
       "    }\n",
       "    console.debug(\"Bokeh: BokehJS not loaded, scheduling load and callback at\", now());\n",
       "\n",
       "    function on_load() {\n",
       "      root._bokeh_is_loading--;\n",
       "      if (root._bokeh_is_loading === 0) {\n",
       "        console.debug(\"Bokeh: all BokehJS libraries/stylesheets loaded\");\n",
       "        run_callbacks()\n",
       "      }\n",
       "    }\n",
       "\n",
       "    function on_error() {\n",
       "      console.error(\"failed to load \" + url);\n",
       "    }\n",
       "\n",
       "    for (var i = 0; i < css_urls.length; i++) {\n",
       "      var url = css_urls[i];\n",
       "      const element = document.createElement(\"link\");\n",
       "      element.onload = on_load;\n",
       "      element.onerror = on_error;\n",
       "      element.rel = \"stylesheet\";\n",
       "      element.type = \"text/css\";\n",
       "      element.href = url;\n",
       "      console.debug(\"Bokeh: injecting link tag for BokehJS stylesheet: \", url);\n",
       "      document.body.appendChild(element);\n",
       "    }\n",
       "\n",
       "    var skip = [];\n",
       "    if (window.requirejs) {\n",
       "      window.requirejs.config({'packages': {}, 'paths': {'gridstack': 'https://cdn.jsdelivr.net/npm/gridstack@4.2.5/dist/gridstack-h5', 'notyf': 'https://cdn.jsdelivr.net/npm/notyf@3/notyf.min'}, 'shim': {'gridstack': {'exports': 'GridStack'}}});\n",
       "      require([\"gridstack\"], function(GridStack) {\n",
       "\twindow.GridStack = GridStack\n",
       "\ton_load()\n",
       "      })\n",
       "      require([\"notyf\"], function() {\n",
       "\ton_load()\n",
       "      })\n",
       "      root._bokeh_is_loading = css_urls.length + 2;\n",
       "    } else {\n",
       "      root._bokeh_is_loading = css_urls.length + js_urls.length + js_modules.length;\n",
       "    }    if (((window['GridStack'] !== undefined) && (!(window['GridStack'] instanceof HTMLElement))) || window.requirejs) {\n",
       "      var urls = ['https://cdn.holoviz.org/panel/0.14.2/dist/bundled/gridstack/gridstack@4.2.5/dist/gridstack-h5.js'];\n",
       "      for (var i = 0; i < urls.length; i++) {\n",
       "        skip.push(urls[i])\n",
       "      }\n",
       "    }    if (((window['Notyf'] !== undefined) && (!(window['Notyf'] instanceof HTMLElement))) || window.requirejs) {\n",
       "      var urls = ['https://cdn.holoviz.org/panel/0.14.2/dist/bundled/notificationarea/notyf@3/notyf.min.js'];\n",
       "      for (var i = 0; i < urls.length; i++) {\n",
       "        skip.push(urls[i])\n",
       "      }\n",
       "    }    for (var i = 0; i < js_urls.length; i++) {\n",
       "      var url = js_urls[i];\n",
       "      if (skip.indexOf(url) >= 0) {\n",
       "\tif (!window.requirejs) {\n",
       "\t  on_load();\n",
       "\t}\n",
       "\tcontinue;\n",
       "      }\n",
       "      var element = document.createElement('script');\n",
       "      element.onload = on_load;\n",
       "      element.onerror = on_error;\n",
       "      element.async = false;\n",
       "      element.src = url;\n",
       "      console.debug(\"Bokeh: injecting script tag for BokehJS library: \", url);\n",
       "      document.head.appendChild(element);\n",
       "    }\n",
       "    for (var i = 0; i < js_modules.length; i++) {\n",
       "      var url = js_modules[i];\n",
       "      if (skip.indexOf(url) >= 0) {\n",
       "\tif (!window.requirejs) {\n",
       "\t  on_load();\n",
       "\t}\n",
       "\tcontinue;\n",
       "      }\n",
       "      var element = document.createElement('script');\n",
       "      element.onload = on_load;\n",
       "      element.onerror = on_error;\n",
       "      element.async = false;\n",
       "      element.src = url;\n",
       "      element.type = \"module\";\n",
       "      console.debug(\"Bokeh: injecting script tag for BokehJS library: \", url);\n",
       "      document.head.appendChild(element);\n",
       "    }\n",
       "    if (!js_urls.length && !js_modules.length) {\n",
       "      on_load()\n",
       "    }\n",
       "  };\n",
       "\n",
       "  function inject_raw_css(css) {\n",
       "    const element = document.createElement(\"style\");\n",
       "    element.appendChild(document.createTextNode(css));\n",
       "    document.body.appendChild(element);\n",
       "  }\n",
       "\n",
       "  var js_urls = [\"https://cdn.bokeh.org/bokeh/release/bokeh-2.4.3.min.js\", \"https://cdn.bokeh.org/bokeh/release/bokeh-gl-2.4.3.min.js\", \"https://cdn.bokeh.org/bokeh/release/bokeh-widgets-2.4.3.min.js\", \"https://cdn.bokeh.org/bokeh/release/bokeh-tables-2.4.3.min.js\", \"https://cdn.bokeh.org/bokeh/release/bokeh-mathjax-2.4.3.min.js\", \"https://unpkg.com/@holoviz/panel@0.14.2/dist/panel.min.js\"];\n",
       "  var js_modules = [];\n",
       "  var css_urls = [\"https://cdn.holoviz.org/panel/0.14.2/dist/css/debugger.css\", \"https://cdn.holoviz.org/panel/0.14.2/dist/css/alerts.css\", \"https://cdn.holoviz.org/panel/0.14.2/dist/css/card.css\", \"https://cdn.holoviz.org/panel/0.14.2/dist/css/widgets.css\", \"https://cdn.holoviz.org/panel/0.14.2/dist/css/markdown.css\", \"https://cdn.holoviz.org/panel/0.14.2/dist/css/json.css\", \"https://cdn.holoviz.org/panel/0.14.2/dist/css/loading.css\", \"https://cdn.holoviz.org/panel/0.14.2/dist/css/dataframe.css\"];\n",
       "  var inline_js = [    function(Bokeh) {\n",
       "      inject_raw_css(\"\\n    .bk.pn-loading.arc:before {\\n      background-image: url(\\\"data:image/svg+xml;base64,PHN2ZyB4bWxucz0iaHR0cDovL3d3dy53My5vcmcvMjAwMC9zdmciIHN0eWxlPSJtYXJnaW46IGF1dG87IGJhY2tncm91bmQ6IG5vbmU7IGRpc3BsYXk6IGJsb2NrOyBzaGFwZS1yZW5kZXJpbmc6IGF1dG87IiB2aWV3Qm94PSIwIDAgMTAwIDEwMCIgcHJlc2VydmVBc3BlY3RSYXRpbz0ieE1pZFlNaWQiPiAgPGNpcmNsZSBjeD0iNTAiIGN5PSI1MCIgZmlsbD0ibm9uZSIgc3Ryb2tlPSIjYzNjM2MzIiBzdHJva2Utd2lkdGg9IjEwIiByPSIzNSIgc3Ryb2tlLWRhc2hhcnJheT0iMTY0LjkzMzYxNDMxMzQ2NDE1IDU2Ljk3Nzg3MTQzNzgyMTM4Ij4gICAgPGFuaW1hdGVUcmFuc2Zvcm0gYXR0cmlidXRlTmFtZT0idHJhbnNmb3JtIiB0eXBlPSJyb3RhdGUiIHJlcGVhdENvdW50PSJpbmRlZmluaXRlIiBkdXI9IjFzIiB2YWx1ZXM9IjAgNTAgNTA7MzYwIDUwIDUwIiBrZXlUaW1lcz0iMDsxIj48L2FuaW1hdGVUcmFuc2Zvcm0+ICA8L2NpcmNsZT48L3N2Zz4=\\\");\\n      background-size: auto calc(min(50%, 400px));\\n    }\\n    \");\n",
       "    },    function(Bokeh) {\n",
       "      Bokeh.set_log_level(\"info\");\n",
       "    },\n",
       "function(Bokeh) {} // ensure no trailing comma for IE\n",
       "  ];\n",
       "\n",
       "  function run_inline_js() {\n",
       "    if ((root.Bokeh !== undefined) || (force === true)) {\n",
       "      for (var i = 0; i < inline_js.length; i++) {\n",
       "        inline_js[i].call(root, root.Bokeh);\n",
       "      }} else if (Date.now() < root._bokeh_timeout) {\n",
       "      setTimeout(run_inline_js, 100);\n",
       "    } else if (!root._bokeh_failed_load) {\n",
       "      console.log(\"Bokeh: BokehJS failed to load within specified timeout.\");\n",
       "      root._bokeh_failed_load = true;\n",
       "    }\n",
       "  }\n",
       "\n",
       "  if (root._bokeh_is_loading === 0) {\n",
       "    console.debug(\"Bokeh: BokehJS loaded, going straight to plotting\");\n",
       "    run_inline_js();\n",
       "  } else {\n",
       "    load_libs(css_urls, js_urls, js_modules, function() {\n",
       "      console.debug(\"Bokeh: BokehJS plotting callback run at\", now());\n",
       "      run_inline_js();\n",
       "    });\n",
       "  }\n",
       "}(window));"
      ],
      "application/vnd.holoviews_load.v0+json": "(function(root) {\n  function now() {\n    return new Date();\n  }\n\n  var force = true;\n\n  if (typeof root._bokeh_onload_callbacks === \"undefined\" || force === true) {\n    root._bokeh_onload_callbacks = [];\n    root._bokeh_is_loading = undefined;\n  }\n\n  if (typeof (root._bokeh_timeout) === \"undefined\" || force === true) {\n    root._bokeh_timeout = Date.now() + 5000;\n    root._bokeh_failed_load = false;\n  }\n\n  function run_callbacks() {\n    try {\n      root._bokeh_onload_callbacks.forEach(function(callback) {\n        if (callback != null)\n          callback();\n      });\n    } finally {\n      delete root._bokeh_onload_callbacks\n    }\n    console.debug(\"Bokeh: all callbacks have finished\");\n  }\n\n  function load_libs(css_urls, js_urls, js_modules, callback) {\n    if (css_urls == null) css_urls = [];\n    if (js_urls == null) js_urls = [];\n    if (js_modules == null) js_modules = [];\n\n    root._bokeh_onload_callbacks.push(callback);\n    if (root._bokeh_is_loading > 0) {\n      console.debug(\"Bokeh: BokehJS is being loaded, scheduling callback at\", now());\n      return null;\n    }\n    if (js_urls.length === 0 && js_modules.length === 0) {\n      run_callbacks();\n      return null;\n    }\n    console.debug(\"Bokeh: BokehJS not loaded, scheduling load and callback at\", now());\n\n    function on_load() {\n      root._bokeh_is_loading--;\n      if (root._bokeh_is_loading === 0) {\n        console.debug(\"Bokeh: all BokehJS libraries/stylesheets loaded\");\n        run_callbacks()\n      }\n    }\n\n    function on_error() {\n      console.error(\"failed to load \" + url);\n    }\n\n    for (var i = 0; i < css_urls.length; i++) {\n      var url = css_urls[i];\n      const element = document.createElement(\"link\");\n      element.onload = on_load;\n      element.onerror = on_error;\n      element.rel = \"stylesheet\";\n      element.type = \"text/css\";\n      element.href = url;\n      console.debug(\"Bokeh: injecting link tag for BokehJS stylesheet: \", url);\n      document.body.appendChild(element);\n    }\n\n    var skip = [];\n    if (window.requirejs) {\n      window.requirejs.config({'packages': {}, 'paths': {'gridstack': 'https://cdn.jsdelivr.net/npm/gridstack@4.2.5/dist/gridstack-h5', 'notyf': 'https://cdn.jsdelivr.net/npm/notyf@3/notyf.min'}, 'shim': {'gridstack': {'exports': 'GridStack'}}});\n      require([\"gridstack\"], function(GridStack) {\n\twindow.GridStack = GridStack\n\ton_load()\n      })\n      require([\"notyf\"], function() {\n\ton_load()\n      })\n      root._bokeh_is_loading = css_urls.length + 2;\n    } else {\n      root._bokeh_is_loading = css_urls.length + js_urls.length + js_modules.length;\n    }    if (((window['GridStack'] !== undefined) && (!(window['GridStack'] instanceof HTMLElement))) || window.requirejs) {\n      var urls = ['https://cdn.holoviz.org/panel/0.14.2/dist/bundled/gridstack/gridstack@4.2.5/dist/gridstack-h5.js'];\n      for (var i = 0; i < urls.length; i++) {\n        skip.push(urls[i])\n      }\n    }    if (((window['Notyf'] !== undefined) && (!(window['Notyf'] instanceof HTMLElement))) || window.requirejs) {\n      var urls = ['https://cdn.holoviz.org/panel/0.14.2/dist/bundled/notificationarea/notyf@3/notyf.min.js'];\n      for (var i = 0; i < urls.length; i++) {\n        skip.push(urls[i])\n      }\n    }    for (var i = 0; i < js_urls.length; i++) {\n      var url = js_urls[i];\n      if (skip.indexOf(url) >= 0) {\n\tif (!window.requirejs) {\n\t  on_load();\n\t}\n\tcontinue;\n      }\n      var element = document.createElement('script');\n      element.onload = on_load;\n      element.onerror = on_error;\n      element.async = false;\n      element.src = url;\n      console.debug(\"Bokeh: injecting script tag for BokehJS library: \", url);\n      document.head.appendChild(element);\n    }\n    for (var i = 0; i < js_modules.length; i++) {\n      var url = js_modules[i];\n      if (skip.indexOf(url) >= 0) {\n\tif (!window.requirejs) {\n\t  on_load();\n\t}\n\tcontinue;\n      }\n      var element = document.createElement('script');\n      element.onload = on_load;\n      element.onerror = on_error;\n      element.async = false;\n      element.src = url;\n      element.type = \"module\";\n      console.debug(\"Bokeh: injecting script tag for BokehJS library: \", url);\n      document.head.appendChild(element);\n    }\n    if (!js_urls.length && !js_modules.length) {\n      on_load()\n    }\n  };\n\n  function inject_raw_css(css) {\n    const element = document.createElement(\"style\");\n    element.appendChild(document.createTextNode(css));\n    document.body.appendChild(element);\n  }\n\n  var js_urls = [\"https://cdn.bokeh.org/bokeh/release/bokeh-2.4.3.min.js\", \"https://cdn.bokeh.org/bokeh/release/bokeh-gl-2.4.3.min.js\", \"https://cdn.bokeh.org/bokeh/release/bokeh-widgets-2.4.3.min.js\", \"https://cdn.bokeh.org/bokeh/release/bokeh-tables-2.4.3.min.js\", \"https://cdn.bokeh.org/bokeh/release/bokeh-mathjax-2.4.3.min.js\", \"https://unpkg.com/@holoviz/panel@0.14.2/dist/panel.min.js\"];\n  var js_modules = [];\n  var css_urls = [\"https://cdn.holoviz.org/panel/0.14.2/dist/css/debugger.css\", \"https://cdn.holoviz.org/panel/0.14.2/dist/css/alerts.css\", \"https://cdn.holoviz.org/panel/0.14.2/dist/css/card.css\", \"https://cdn.holoviz.org/panel/0.14.2/dist/css/widgets.css\", \"https://cdn.holoviz.org/panel/0.14.2/dist/css/markdown.css\", \"https://cdn.holoviz.org/panel/0.14.2/dist/css/json.css\", \"https://cdn.holoviz.org/panel/0.14.2/dist/css/loading.css\", \"https://cdn.holoviz.org/panel/0.14.2/dist/css/dataframe.css\"];\n  var inline_js = [    function(Bokeh) {\n      inject_raw_css(\"\\n    .bk.pn-loading.arc:before {\\n      background-image: url(\\\"data:image/svg+xml;base64,PHN2ZyB4bWxucz0iaHR0cDovL3d3dy53My5vcmcvMjAwMC9zdmciIHN0eWxlPSJtYXJnaW46IGF1dG87IGJhY2tncm91bmQ6IG5vbmU7IGRpc3BsYXk6IGJsb2NrOyBzaGFwZS1yZW5kZXJpbmc6IGF1dG87IiB2aWV3Qm94PSIwIDAgMTAwIDEwMCIgcHJlc2VydmVBc3BlY3RSYXRpbz0ieE1pZFlNaWQiPiAgPGNpcmNsZSBjeD0iNTAiIGN5PSI1MCIgZmlsbD0ibm9uZSIgc3Ryb2tlPSIjYzNjM2MzIiBzdHJva2Utd2lkdGg9IjEwIiByPSIzNSIgc3Ryb2tlLWRhc2hhcnJheT0iMTY0LjkzMzYxNDMxMzQ2NDE1IDU2Ljk3Nzg3MTQzNzgyMTM4Ij4gICAgPGFuaW1hdGVUcmFuc2Zvcm0gYXR0cmlidXRlTmFtZT0idHJhbnNmb3JtIiB0eXBlPSJyb3RhdGUiIHJlcGVhdENvdW50PSJpbmRlZmluaXRlIiBkdXI9IjFzIiB2YWx1ZXM9IjAgNTAgNTA7MzYwIDUwIDUwIiBrZXlUaW1lcz0iMDsxIj48L2FuaW1hdGVUcmFuc2Zvcm0+ICA8L2NpcmNsZT48L3N2Zz4=\\\");\\n      background-size: auto calc(min(50%, 400px));\\n    }\\n    \");\n    },    function(Bokeh) {\n      Bokeh.set_log_level(\"info\");\n    },\nfunction(Bokeh) {} // ensure no trailing comma for IE\n  ];\n\n  function run_inline_js() {\n    if ((root.Bokeh !== undefined) || (force === true)) {\n      for (var i = 0; i < inline_js.length; i++) {\n        inline_js[i].call(root, root.Bokeh);\n      }} else if (Date.now() < root._bokeh_timeout) {\n      setTimeout(run_inline_js, 100);\n    } else if (!root._bokeh_failed_load) {\n      console.log(\"Bokeh: BokehJS failed to load within specified timeout.\");\n      root._bokeh_failed_load = true;\n    }\n  }\n\n  if (root._bokeh_is_loading === 0) {\n    console.debug(\"Bokeh: BokehJS loaded, going straight to plotting\");\n    run_inline_js();\n  } else {\n    load_libs(css_urls, js_urls, js_modules, function() {\n      console.debug(\"Bokeh: BokehJS plotting callback run at\", now());\n      run_inline_js();\n    });\n  }\n}(window));"
     },
     "metadata": {},
     "output_type": "display_data"
    },
    {
     "data": {
      "application/javascript": [
       "\n",
       "if ((window.PyViz === undefined) || (window.PyViz instanceof HTMLElement)) {\n",
       "  window.PyViz = {comms: {}, comm_status:{}, kernels:{}, receivers: {}, plot_index: []}\n",
       "}\n",
       "\n",
       "\n",
       "    function JupyterCommManager() {\n",
       "    }\n",
       "\n",
       "    JupyterCommManager.prototype.register_target = function(plot_id, comm_id, msg_handler) {\n",
       "      if (window.comm_manager || ((window.Jupyter !== undefined) && (Jupyter.notebook.kernel != null))) {\n",
       "        var comm_manager = window.comm_manager || Jupyter.notebook.kernel.comm_manager;\n",
       "        comm_manager.register_target(comm_id, function(comm) {\n",
       "          comm.on_msg(msg_handler);\n",
       "        });\n",
       "      } else if ((plot_id in window.PyViz.kernels) && (window.PyViz.kernels[plot_id])) {\n",
       "        window.PyViz.kernels[plot_id].registerCommTarget(comm_id, function(comm) {\n",
       "          comm.onMsg = msg_handler;\n",
       "        });\n",
       "      } else if (typeof google != 'undefined' && google.colab.kernel != null) {\n",
       "        google.colab.kernel.comms.registerTarget(comm_id, (comm) => {\n",
       "          var messages = comm.messages[Symbol.asyncIterator]();\n",
       "          function processIteratorResult(result) {\n",
       "            var message = result.value;\n",
       "            console.log(message)\n",
       "            var content = {data: message.data, comm_id};\n",
       "            var buffers = []\n",
       "            for (var buffer of message.buffers || []) {\n",
       "              buffers.push(new DataView(buffer))\n",
       "            }\n",
       "            var metadata = message.metadata || {};\n",
       "            var msg = {content, buffers, metadata}\n",
       "            msg_handler(msg);\n",
       "            return messages.next().then(processIteratorResult);\n",
       "          }\n",
       "          return messages.next().then(processIteratorResult);\n",
       "        })\n",
       "      }\n",
       "    }\n",
       "\n",
       "    JupyterCommManager.prototype.get_client_comm = function(plot_id, comm_id, msg_handler) {\n",
       "      if (comm_id in window.PyViz.comms) {\n",
       "        return window.PyViz.comms[comm_id];\n",
       "      } else if (window.comm_manager || ((window.Jupyter !== undefined) && (Jupyter.notebook.kernel != null))) {\n",
       "        var comm_manager = window.comm_manager || Jupyter.notebook.kernel.comm_manager;\n",
       "        var comm = comm_manager.new_comm(comm_id, {}, {}, {}, comm_id);\n",
       "        if (msg_handler) {\n",
       "          comm.on_msg(msg_handler);\n",
       "        }\n",
       "      } else if ((plot_id in window.PyViz.kernels) && (window.PyViz.kernels[plot_id])) {\n",
       "        var comm = window.PyViz.kernels[plot_id].connectToComm(comm_id);\n",
       "        comm.open();\n",
       "        if (msg_handler) {\n",
       "          comm.onMsg = msg_handler;\n",
       "        }\n",
       "      } else if (typeof google != 'undefined' && google.colab.kernel != null) {\n",
       "        var comm_promise = google.colab.kernel.comms.open(comm_id)\n",
       "        comm_promise.then((comm) => {\n",
       "          window.PyViz.comms[comm_id] = comm;\n",
       "          if (msg_handler) {\n",
       "            var messages = comm.messages[Symbol.asyncIterator]();\n",
       "            function processIteratorResult(result) {\n",
       "              var message = result.value;\n",
       "              var content = {data: message.data};\n",
       "              var metadata = message.metadata || {comm_id};\n",
       "              var msg = {content, metadata}\n",
       "              msg_handler(msg);\n",
       "              return messages.next().then(processIteratorResult);\n",
       "            }\n",
       "            return messages.next().then(processIteratorResult);\n",
       "          }\n",
       "        }) \n",
       "        var sendClosure = (data, metadata, buffers, disposeOnDone) => {\n",
       "          return comm_promise.then((comm) => {\n",
       "            comm.send(data, metadata, buffers, disposeOnDone);\n",
       "          });\n",
       "        };\n",
       "        var comm = {\n",
       "          send: sendClosure\n",
       "        };\n",
       "      }\n",
       "      window.PyViz.comms[comm_id] = comm;\n",
       "      return comm;\n",
       "    }\n",
       "    window.PyViz.comm_manager = new JupyterCommManager();\n",
       "    \n",
       "\n",
       "\n",
       "var JS_MIME_TYPE = 'application/javascript';\n",
       "var HTML_MIME_TYPE = 'text/html';\n",
       "var EXEC_MIME_TYPE = 'application/vnd.holoviews_exec.v0+json';\n",
       "var CLASS_NAME = 'output';\n",
       "\n",
       "/**\n",
       " * Render data to the DOM node\n",
       " */\n",
       "function render(props, node) {\n",
       "  var div = document.createElement(\"div\");\n",
       "  var script = document.createElement(\"script\");\n",
       "  node.appendChild(div);\n",
       "  node.appendChild(script);\n",
       "}\n",
       "\n",
       "/**\n",
       " * Handle when a new output is added\n",
       " */\n",
       "function handle_add_output(event, handle) {\n",
       "  var output_area = handle.output_area;\n",
       "  var output = handle.output;\n",
       "  if ((output.data == undefined) || (!output.data.hasOwnProperty(EXEC_MIME_TYPE))) {\n",
       "    return\n",
       "  }\n",
       "  var id = output.metadata[EXEC_MIME_TYPE][\"id\"];\n",
       "  var toinsert = output_area.element.find(\".\" + CLASS_NAME.split(' ')[0]);\n",
       "  if (id !== undefined) {\n",
       "    var nchildren = toinsert.length;\n",
       "    var html_node = toinsert[nchildren-1].children[0];\n",
       "    html_node.innerHTML = output.data[HTML_MIME_TYPE];\n",
       "    var scripts = [];\n",
       "    var nodelist = html_node.querySelectorAll(\"script\");\n",
       "    for (var i in nodelist) {\n",
       "      if (nodelist.hasOwnProperty(i)) {\n",
       "        scripts.push(nodelist[i])\n",
       "      }\n",
       "    }\n",
       "\n",
       "    scripts.forEach( function (oldScript) {\n",
       "      var newScript = document.createElement(\"script\");\n",
       "      var attrs = [];\n",
       "      var nodemap = oldScript.attributes;\n",
       "      for (var j in nodemap) {\n",
       "        if (nodemap.hasOwnProperty(j)) {\n",
       "          attrs.push(nodemap[j])\n",
       "        }\n",
       "      }\n",
       "      attrs.forEach(function(attr) { newScript.setAttribute(attr.name, attr.value) });\n",
       "      newScript.appendChild(document.createTextNode(oldScript.innerHTML));\n",
       "      oldScript.parentNode.replaceChild(newScript, oldScript);\n",
       "    });\n",
       "    if (JS_MIME_TYPE in output.data) {\n",
       "      toinsert[nchildren-1].children[1].textContent = output.data[JS_MIME_TYPE];\n",
       "    }\n",
       "    output_area._hv_plot_id = id;\n",
       "    if ((window.Bokeh !== undefined) && (id in Bokeh.index)) {\n",
       "      window.PyViz.plot_index[id] = Bokeh.index[id];\n",
       "    } else {\n",
       "      window.PyViz.plot_index[id] = null;\n",
       "    }\n",
       "  } else if (output.metadata[EXEC_MIME_TYPE][\"server_id\"] !== undefined) {\n",
       "    var bk_div = document.createElement(\"div\");\n",
       "    bk_div.innerHTML = output.data[HTML_MIME_TYPE];\n",
       "    var script_attrs = bk_div.children[0].attributes;\n",
       "    for (var i = 0; i < script_attrs.length; i++) {\n",
       "      toinsert[toinsert.length - 1].childNodes[1].setAttribute(script_attrs[i].name, script_attrs[i].value);\n",
       "    }\n",
       "    // store reference to server id on output_area\n",
       "    output_area._bokeh_server_id = output.metadata[EXEC_MIME_TYPE][\"server_id\"];\n",
       "  }\n",
       "}\n",
       "\n",
       "/**\n",
       " * Handle when an output is cleared or removed\n",
       " */\n",
       "function handle_clear_output(event, handle) {\n",
       "  var id = handle.cell.output_area._hv_plot_id;\n",
       "  var server_id = handle.cell.output_area._bokeh_server_id;\n",
       "  if (((id === undefined) || !(id in PyViz.plot_index)) && (server_id !== undefined)) { return; }\n",
       "  var comm = window.PyViz.comm_manager.get_client_comm(\"hv-extension-comm\", \"hv-extension-comm\", function () {});\n",
       "  if (server_id !== null) {\n",
       "    comm.send({event_type: 'server_delete', 'id': server_id});\n",
       "    return;\n",
       "  } else if (comm !== null) {\n",
       "    comm.send({event_type: 'delete', 'id': id});\n",
       "  }\n",
       "  delete PyViz.plot_index[id];\n",
       "  if ((window.Bokeh !== undefined) & (id in window.Bokeh.index)) {\n",
       "    var doc = window.Bokeh.index[id].model.document\n",
       "    doc.clear();\n",
       "    const i = window.Bokeh.documents.indexOf(doc);\n",
       "    if (i > -1) {\n",
       "      window.Bokeh.documents.splice(i, 1);\n",
       "    }\n",
       "  }\n",
       "}\n",
       "\n",
       "/**\n",
       " * Handle kernel restart event\n",
       " */\n",
       "function handle_kernel_cleanup(event, handle) {\n",
       "  delete PyViz.comms[\"hv-extension-comm\"];\n",
       "  window.PyViz.plot_index = {}\n",
       "}\n",
       "\n",
       "/**\n",
       " * Handle update_display_data messages\n",
       " */\n",
       "function handle_update_output(event, handle) {\n",
       "  handle_clear_output(event, {cell: {output_area: handle.output_area}})\n",
       "  handle_add_output(event, handle)\n",
       "}\n",
       "\n",
       "function register_renderer(events, OutputArea) {\n",
       "  function append_mime(data, metadata, element) {\n",
       "    // create a DOM node to render to\n",
       "    var toinsert = this.create_output_subarea(\n",
       "    metadata,\n",
       "    CLASS_NAME,\n",
       "    EXEC_MIME_TYPE\n",
       "    );\n",
       "    this.keyboard_manager.register_events(toinsert);\n",
       "    // Render to node\n",
       "    var props = {data: data, metadata: metadata[EXEC_MIME_TYPE]};\n",
       "    render(props, toinsert[0]);\n",
       "    element.append(toinsert);\n",
       "    return toinsert\n",
       "  }\n",
       "\n",
       "  events.on('output_added.OutputArea', handle_add_output);\n",
       "  events.on('output_updated.OutputArea', handle_update_output);\n",
       "  events.on('clear_output.CodeCell', handle_clear_output);\n",
       "  events.on('delete.Cell', handle_clear_output);\n",
       "  events.on('kernel_ready.Kernel', handle_kernel_cleanup);\n",
       "\n",
       "  OutputArea.prototype.register_mime_type(EXEC_MIME_TYPE, append_mime, {\n",
       "    safe: true,\n",
       "    index: 0\n",
       "  });\n",
       "}\n",
       "\n",
       "if (window.Jupyter !== undefined) {\n",
       "  try {\n",
       "    var events = require('base/js/events');\n",
       "    var OutputArea = require('notebook/js/outputarea').OutputArea;\n",
       "    if (OutputArea.prototype.mime_types().indexOf(EXEC_MIME_TYPE) == -1) {\n",
       "      register_renderer(events, OutputArea);\n",
       "    }\n",
       "  } catch(err) {\n",
       "  }\n",
       "}\n"
      ],
      "application/vnd.holoviews_load.v0+json": "\nif ((window.PyViz === undefined) || (window.PyViz instanceof HTMLElement)) {\n  window.PyViz = {comms: {}, comm_status:{}, kernels:{}, receivers: {}, plot_index: []}\n}\n\n\n    function JupyterCommManager() {\n    }\n\n    JupyterCommManager.prototype.register_target = function(plot_id, comm_id, msg_handler) {\n      if (window.comm_manager || ((window.Jupyter !== undefined) && (Jupyter.notebook.kernel != null))) {\n        var comm_manager = window.comm_manager || Jupyter.notebook.kernel.comm_manager;\n        comm_manager.register_target(comm_id, function(comm) {\n          comm.on_msg(msg_handler);\n        });\n      } else if ((plot_id in window.PyViz.kernels) && (window.PyViz.kernels[plot_id])) {\n        window.PyViz.kernels[plot_id].registerCommTarget(comm_id, function(comm) {\n          comm.onMsg = msg_handler;\n        });\n      } else if (typeof google != 'undefined' && google.colab.kernel != null) {\n        google.colab.kernel.comms.registerTarget(comm_id, (comm) => {\n          var messages = comm.messages[Symbol.asyncIterator]();\n          function processIteratorResult(result) {\n            var message = result.value;\n            console.log(message)\n            var content = {data: message.data, comm_id};\n            var buffers = []\n            for (var buffer of message.buffers || []) {\n              buffers.push(new DataView(buffer))\n            }\n            var metadata = message.metadata || {};\n            var msg = {content, buffers, metadata}\n            msg_handler(msg);\n            return messages.next().then(processIteratorResult);\n          }\n          return messages.next().then(processIteratorResult);\n        })\n      }\n    }\n\n    JupyterCommManager.prototype.get_client_comm = function(plot_id, comm_id, msg_handler) {\n      if (comm_id in window.PyViz.comms) {\n        return window.PyViz.comms[comm_id];\n      } else if (window.comm_manager || ((window.Jupyter !== undefined) && (Jupyter.notebook.kernel != null))) {\n        var comm_manager = window.comm_manager || Jupyter.notebook.kernel.comm_manager;\n        var comm = comm_manager.new_comm(comm_id, {}, {}, {}, comm_id);\n        if (msg_handler) {\n          comm.on_msg(msg_handler);\n        }\n      } else if ((plot_id in window.PyViz.kernels) && (window.PyViz.kernels[plot_id])) {\n        var comm = window.PyViz.kernels[plot_id].connectToComm(comm_id);\n        comm.open();\n        if (msg_handler) {\n          comm.onMsg = msg_handler;\n        }\n      } else if (typeof google != 'undefined' && google.colab.kernel != null) {\n        var comm_promise = google.colab.kernel.comms.open(comm_id)\n        comm_promise.then((comm) => {\n          window.PyViz.comms[comm_id] = comm;\n          if (msg_handler) {\n            var messages = comm.messages[Symbol.asyncIterator]();\n            function processIteratorResult(result) {\n              var message = result.value;\n              var content = {data: message.data};\n              var metadata = message.metadata || {comm_id};\n              var msg = {content, metadata}\n              msg_handler(msg);\n              return messages.next().then(processIteratorResult);\n            }\n            return messages.next().then(processIteratorResult);\n          }\n        }) \n        var sendClosure = (data, metadata, buffers, disposeOnDone) => {\n          return comm_promise.then((comm) => {\n            comm.send(data, metadata, buffers, disposeOnDone);\n          });\n        };\n        var comm = {\n          send: sendClosure\n        };\n      }\n      window.PyViz.comms[comm_id] = comm;\n      return comm;\n    }\n    window.PyViz.comm_manager = new JupyterCommManager();\n    \n\n\nvar JS_MIME_TYPE = 'application/javascript';\nvar HTML_MIME_TYPE = 'text/html';\nvar EXEC_MIME_TYPE = 'application/vnd.holoviews_exec.v0+json';\nvar CLASS_NAME = 'output';\n\n/**\n * Render data to the DOM node\n */\nfunction render(props, node) {\n  var div = document.createElement(\"div\");\n  var script = document.createElement(\"script\");\n  node.appendChild(div);\n  node.appendChild(script);\n}\n\n/**\n * Handle when a new output is added\n */\nfunction handle_add_output(event, handle) {\n  var output_area = handle.output_area;\n  var output = handle.output;\n  if ((output.data == undefined) || (!output.data.hasOwnProperty(EXEC_MIME_TYPE))) {\n    return\n  }\n  var id = output.metadata[EXEC_MIME_TYPE][\"id\"];\n  var toinsert = output_area.element.find(\".\" + CLASS_NAME.split(' ')[0]);\n  if (id !== undefined) {\n    var nchildren = toinsert.length;\n    var html_node = toinsert[nchildren-1].children[0];\n    html_node.innerHTML = output.data[HTML_MIME_TYPE];\n    var scripts = [];\n    var nodelist = html_node.querySelectorAll(\"script\");\n    for (var i in nodelist) {\n      if (nodelist.hasOwnProperty(i)) {\n        scripts.push(nodelist[i])\n      }\n    }\n\n    scripts.forEach( function (oldScript) {\n      var newScript = document.createElement(\"script\");\n      var attrs = [];\n      var nodemap = oldScript.attributes;\n      for (var j in nodemap) {\n        if (nodemap.hasOwnProperty(j)) {\n          attrs.push(nodemap[j])\n        }\n      }\n      attrs.forEach(function(attr) { newScript.setAttribute(attr.name, attr.value) });\n      newScript.appendChild(document.createTextNode(oldScript.innerHTML));\n      oldScript.parentNode.replaceChild(newScript, oldScript);\n    });\n    if (JS_MIME_TYPE in output.data) {\n      toinsert[nchildren-1].children[1].textContent = output.data[JS_MIME_TYPE];\n    }\n    output_area._hv_plot_id = id;\n    if ((window.Bokeh !== undefined) && (id in Bokeh.index)) {\n      window.PyViz.plot_index[id] = Bokeh.index[id];\n    } else {\n      window.PyViz.plot_index[id] = null;\n    }\n  } else if (output.metadata[EXEC_MIME_TYPE][\"server_id\"] !== undefined) {\n    var bk_div = document.createElement(\"div\");\n    bk_div.innerHTML = output.data[HTML_MIME_TYPE];\n    var script_attrs = bk_div.children[0].attributes;\n    for (var i = 0; i < script_attrs.length; i++) {\n      toinsert[toinsert.length - 1].childNodes[1].setAttribute(script_attrs[i].name, script_attrs[i].value);\n    }\n    // store reference to server id on output_area\n    output_area._bokeh_server_id = output.metadata[EXEC_MIME_TYPE][\"server_id\"];\n  }\n}\n\n/**\n * Handle when an output is cleared or removed\n */\nfunction handle_clear_output(event, handle) {\n  var id = handle.cell.output_area._hv_plot_id;\n  var server_id = handle.cell.output_area._bokeh_server_id;\n  if (((id === undefined) || !(id in PyViz.plot_index)) && (server_id !== undefined)) { return; }\n  var comm = window.PyViz.comm_manager.get_client_comm(\"hv-extension-comm\", \"hv-extension-comm\", function () {});\n  if (server_id !== null) {\n    comm.send({event_type: 'server_delete', 'id': server_id});\n    return;\n  } else if (comm !== null) {\n    comm.send({event_type: 'delete', 'id': id});\n  }\n  delete PyViz.plot_index[id];\n  if ((window.Bokeh !== undefined) & (id in window.Bokeh.index)) {\n    var doc = window.Bokeh.index[id].model.document\n    doc.clear();\n    const i = window.Bokeh.documents.indexOf(doc);\n    if (i > -1) {\n      window.Bokeh.documents.splice(i, 1);\n    }\n  }\n}\n\n/**\n * Handle kernel restart event\n */\nfunction handle_kernel_cleanup(event, handle) {\n  delete PyViz.comms[\"hv-extension-comm\"];\n  window.PyViz.plot_index = {}\n}\n\n/**\n * Handle update_display_data messages\n */\nfunction handle_update_output(event, handle) {\n  handle_clear_output(event, {cell: {output_area: handle.output_area}})\n  handle_add_output(event, handle)\n}\n\nfunction register_renderer(events, OutputArea) {\n  function append_mime(data, metadata, element) {\n    // create a DOM node to render to\n    var toinsert = this.create_output_subarea(\n    metadata,\n    CLASS_NAME,\n    EXEC_MIME_TYPE\n    );\n    this.keyboard_manager.register_events(toinsert);\n    // Render to node\n    var props = {data: data, metadata: metadata[EXEC_MIME_TYPE]};\n    render(props, toinsert[0]);\n    element.append(toinsert);\n    return toinsert\n  }\n\n  events.on('output_added.OutputArea', handle_add_output);\n  events.on('output_updated.OutputArea', handle_update_output);\n  events.on('clear_output.CodeCell', handle_clear_output);\n  events.on('delete.Cell', handle_clear_output);\n  events.on('kernel_ready.Kernel', handle_kernel_cleanup);\n\n  OutputArea.prototype.register_mime_type(EXEC_MIME_TYPE, append_mime, {\n    safe: true,\n    index: 0\n  });\n}\n\nif (window.Jupyter !== undefined) {\n  try {\n    var events = require('base/js/events');\n    var OutputArea = require('notebook/js/outputarea').OutputArea;\n    if (OutputArea.prototype.mime_types().indexOf(EXEC_MIME_TYPE) == -1) {\n      register_renderer(events, OutputArea);\n    }\n  } catch(err) {\n  }\n}\n"
     },
     "metadata": {},
     "output_type": "display_data"
    },
    {
     "data": {
      "text/html": [
       "<style>.bk-root, .bk-root .bk:before, .bk-root .bk:after {\n",
       "  font-family: var(--jp-ui-font-size1);\n",
       "  font-size: var(--jp-ui-font-size1);\n",
       "  color: var(--jp-ui-font-color1);\n",
       "}\n",
       "</style>"
      ]
     },
     "metadata": {},
     "output_type": "display_data"
    },
    {
     "data": {},
     "metadata": {},
     "output_type": "display_data"
    },
    {
     "data": {
      "application/vnd.holoviews_exec.v0+json": "",
      "text/html": [
       "<div id='1002'>\n",
       "  <div class=\"bk-root\" id=\"a7f02726-e605-4375-a643-e88425a3eeb6\" data-root-id=\"1002\"></div>\n",
       "</div>\n",
       "<script type=\"application/javascript\">(function(root) {\n",
       "  function embed_document(root) {\n",
       "    var docs_json = {\"0c1885fd-ca7e-41b4-855d-f7995873a461\":{\"defs\":[{\"extends\":null,\"module\":null,\"name\":\"ReactiveHTML1\",\"overrides\":[],\"properties\":[]},{\"extends\":null,\"module\":null,\"name\":\"FlexBox1\",\"overrides\":[],\"properties\":[{\"default\":\"flex-start\",\"kind\":null,\"name\":\"align_content\"},{\"default\":\"flex-start\",\"kind\":null,\"name\":\"align_items\"},{\"default\":\"row\",\"kind\":null,\"name\":\"flex_direction\"},{\"default\":\"wrap\",\"kind\":null,\"name\":\"flex_wrap\"},{\"default\":\"flex-start\",\"kind\":null,\"name\":\"justify_content\"}]},{\"extends\":null,\"module\":null,\"name\":\"GridStack1\",\"overrides\":[],\"properties\":[{\"default\":\"warn\",\"kind\":null,\"name\":\"mode\"},{\"default\":null,\"kind\":null,\"name\":\"ncols\"},{\"default\":null,\"kind\":null,\"name\":\"nrows\"},{\"default\":true,\"kind\":null,\"name\":\"allow_resize\"},{\"default\":true,\"kind\":null,\"name\":\"allow_drag\"},{\"default\":[],\"kind\":null,\"name\":\"state\"}]},{\"extends\":null,\"module\":null,\"name\":\"click1\",\"overrides\":[],\"properties\":[{\"default\":\"\",\"kind\":null,\"name\":\"terminal_output\"},{\"default\":\"\",\"kind\":null,\"name\":\"debug_name\"},{\"default\":0,\"kind\":null,\"name\":\"clears\"}]},{\"extends\":null,\"module\":null,\"name\":\"NotificationAreaBase1\",\"overrides\":[],\"properties\":[{\"default\":\"bottom-right\",\"kind\":null,\"name\":\"position\"},{\"default\":0,\"kind\":null,\"name\":\"_clear\"}]},{\"extends\":null,\"module\":null,\"name\":\"NotificationArea1\",\"overrides\":[],\"properties\":[{\"default\":[],\"kind\":null,\"name\":\"notifications\"},{\"default\":\"bottom-right\",\"kind\":null,\"name\":\"position\"},{\"default\":0,\"kind\":null,\"name\":\"_clear\"},{\"default\":[{\"background\":\"#ffc107\",\"icon\":{\"className\":\"fas fa-exclamation-triangle\",\"color\":\"white\",\"tagName\":\"i\"},\"type\":\"warning\"},{\"background\":\"#007bff\",\"icon\":{\"className\":\"fas fa-info-circle\",\"color\":\"white\",\"tagName\":\"i\"},\"type\":\"info\"}],\"kind\":null,\"name\":\"types\"}]},{\"extends\":null,\"module\":null,\"name\":\"Notification\",\"overrides\":[],\"properties\":[{\"default\":null,\"kind\":null,\"name\":\"background\"},{\"default\":3000,\"kind\":null,\"name\":\"duration\"},{\"default\":null,\"kind\":null,\"name\":\"icon\"},{\"default\":\"\",\"kind\":null,\"name\":\"message\"},{\"default\":null,\"kind\":null,\"name\":\"notification_type\"},{\"default\":false,\"kind\":null,\"name\":\"_destroyed\"}]},{\"extends\":null,\"module\":null,\"name\":\"TemplateActions1\",\"overrides\":[],\"properties\":[{\"default\":0,\"kind\":null,\"name\":\"open_modal\"},{\"default\":0,\"kind\":null,\"name\":\"close_modal\"}]},{\"extends\":null,\"module\":null,\"name\":\"MaterialTemplateActions1\",\"overrides\":[],\"properties\":[{\"default\":0,\"kind\":null,\"name\":\"open_modal\"},{\"default\":0,\"kind\":null,\"name\":\"close_modal\"}]}],\"roots\":{\"references\":[{\"attributes\":{\"end\":1000,\"margin\":[5,10,5,10],\"start\":0,\"step\":100,\"value\":0},\"id\":\"1004\",\"type\":\"Slider\"},{\"attributes\":{\"height\":576,\"margin\":[5,5,5,5],\"name\":\"interactive00102\",\"text\":\"&lt;img src=&quot;data:image/png;base64,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&quot; width=&quot;864px&quot; height=&quot;576px&quot; alt=&quot;&quot;&gt;&lt;/img&gt;\",\"width\":864},\"id\":\"1006\",\"type\":\"panel.models.markup.HTML\"},{\"attributes\":{\"children\":[{\"id\":\"1004\"}],\"margin\":[0,0,0,0],\"name\":\"Column00108\"},\"id\":\"1003\",\"type\":\"Column\"},{\"attributes\":{\"client_comm_id\":\"f68dabe3499f4434a9e591b441c7a508\",\"comm_id\":\"1c4c56197b7b4fc29097fdad07f7a59e\",\"plot_id\":\"1002\"},\"id\":\"1007\",\"type\":\"panel.models.comm_manager.CommManager\"},{\"attributes\":{\"reload\":false},\"id\":\"1008\",\"type\":\"panel.models.location.Location\"},{\"attributes\":{\"children\":[{\"id\":\"1006\"}],\"margin\":[0,0,0,0],\"name\":\"Row00107\"},\"id\":\"1005\",\"type\":\"Row\"},{\"attributes\":{\"children\":[{\"id\":\"1003\"},{\"id\":\"1005\"}],\"margin\":[0,0,0,0],\"name\":\"Column00103\"},\"id\":\"1002\",\"type\":\"Column\"}],\"root_ids\":[\"1002\",\"1007\",\"1008\"]},\"title\":\"Bokeh Application\",\"version\":\"2.4.3\"}};\n",
       "    var render_items = [{\"docid\":\"0c1885fd-ca7e-41b4-855d-f7995873a461\",\"root_ids\":[\"1002\"],\"roots\":{\"1002\":\"a7f02726-e605-4375-a643-e88425a3eeb6\"}}];\n",
       "    root.Bokeh.embed.embed_items_notebook(docs_json, render_items);\n",
       "    for (const render_item of render_items) {\n",
       "      for (const root_id of render_item.root_ids) {\n",
       "\tconst id_el = document.getElementById(root_id)\n",
       "\tif (id_el.children.length && (id_el.children[0].className === 'bk-root')) {\n",
       "\t  const root_el = id_el.children[0]\n",
       "\t  root_el.id = root_el.id + '-rendered'\n",
       "\t}\n",
       "      }\n",
       "    }\n",
       "  }\n",
       "  if (root.Bokeh !== undefined && root.Bokeh.Panel !== undefined) {\n",
       "    embed_document(root);\n",
       "  } else {\n",
       "    var attempts = 0;\n",
       "    var timer = setInterval(function(root) {\n",
       "      if (root.Bokeh !== undefined && root.Bokeh.Panel !== undefined) {\n",
       "        clearInterval(timer);\n",
       "        embed_document(root);\n",
       "      } else if (document.readyState == \"complete\") {\n",
       "        attempts++;\n",
       "        if (attempts > 200) {\n",
       "          clearInterval(timer);\n",
       "          console.log(\"Bokeh: ERROR: Unable to run BokehJS code because BokehJS library is missing\");\n",
       "        }\n",
       "      }\n",
       "    }, 25, root)\n",
       "  }\n",
       "})(window);</script>"
      ],
      "text/plain": [
       "Column\n",
       "    [0] Column\n",
       "        [0] IntSlider(end=1000, step=100)\n",
       "    [1] Row\n",
       "        [0] Matplotlib(Figure, height=576, name='interactive00102', width=864)"
      ]
     },
     "execution_count": 39,
     "metadata": {
      "application/vnd.holoviews_exec.v0+json": {
       "id": "1002"
      }
     },
     "output_type": "execute_result"
    }
   ],
   "source": [
    "import panel as pn\n",
    "from panel import widgets\n",
    "from panel.interact import interact\n",
    "import matplotlib\n",
    "\n",
    "pn.extension()\n",
    "\n",
    "def f(n_epochs):\n",
    "    fig = plt.figure(figsize=(12, 8))    \n",
    "    return plot_embeddings(fig, n_epochs, model, idx_pairs, vocab, word2idx)\n",
    "\n",
    "#interact(f, angle=widgets.IntSlider(start=0, end=182, step=1, value=0))\n",
    "interact(f, n_epochs=widgets.IntSlider(start=0, end=1000, step=100, value=0))#.embed(max_opts=200)"
   ]
  },
  {
   "cell_type": "markdown",
   "metadata": {},
   "source": [
    "<br><br><br><br>"
   ]
  },
  {
   "cell_type": "markdown",
   "metadata": {
    "slideshow": {
     "slide_type": "slide"
    }
   },
   "source": [
    "### Skip-gram before the weights are trained\n",
    "<img src=\"img/word2vec-toy-epochs0.png\" width=\"1000\" height=\"1000\">\n",
    "\n",
    "<!-- <center>\n",
    "<img src=\"img/word2vec-toy-epochs0.png\" width=\"1000\" height=\"1000\">\n",
    "</center>     -->"
   ]
  },
  {
   "cell_type": "markdown",
   "metadata": {
    "slideshow": {
     "slide_type": "slide"
    },
    "tags": []
   },
   "source": [
    "### Skip-gram after 900 epochs \n",
    "\n",
    "<img src=\"img/word2vec-toy-epochs900.png\" width=\"1000\" height=\"1000\">\n",
    "\n",
    "<!-- <center>\n",
    "<img src=\"img/word2vec-toy-epochs900.png\" width=\"1000\" height=\"1000\">\n",
    "</center>     -->"
   ]
  },
  {
   "cell_type": "markdown",
   "metadata": {
    "slideshow": {
     "slide_type": "slide"
    }
   },
   "source": [
    "### Training word2vec embeddings \n",
    "\n",
    "- [Original C code](https://code.google.com/archive/p/word2vec/) \n",
    "- [GitHub version of the code](https://github.com/tmikolov/word2vec)\n",
    "- [Gensim](https://radimrehurek.com/gensim/), an open source Python library that provides a Python interface for word2vec family of algorithms\n",
    "\n",
    "You can install it as follows: \n",
    "\n",
    "```\n",
    "> conda activate 563\n",
    "> conda install -c anaconda gensim\n",
    "```"
   ]
  },
  {
   "cell_type": "code",
   "execution_count": 40,
   "metadata": {},
   "outputs": [
    {
     "data": {
      "text/plain": [
       "[['cat', 'say', 'meow'], ['dog', 'say', 'woof']]"
      ]
     },
     "execution_count": 40,
     "metadata": {},
     "output_type": "execute_result"
    }
   ],
   "source": [
    "sentences = [[\"cat\", \"say\", \"meow\"], [\"dog\", \"say\", \"woof\"]]\n",
    "sentences"
   ]
  },
  {
   "cell_type": "markdown",
   "metadata": {},
   "source": [
    "We need a corpus to be preprocessed and stored as \n",
    "- A list of lists. \n",
    "- Each inner list corresponds to a sequence of tokens from a sentence. In other words, each sentence is tokenized and stored as a list of tokens. "
   ]
  },
  {
   "cell_type": "markdown",
   "metadata": {},
   "source": [
    "Let's look at the word vector of the word _cat_. "
   ]
  },
  {
   "cell_type": "code",
   "execution_count": 41,
   "metadata": {},
   "outputs": [],
   "source": [
    "from gensim.models import Word2Vec\n",
    "\n",
    "model = Word2Vec(sentences, vector_size=10, window=5, min_count=1) # train word2vec model"
   ]
  },
  {
   "cell_type": "code",
   "execution_count": 42,
   "metadata": {},
   "outputs": [
    {
     "data": {
      "text/plain": [
       "array([-0.0960355 ,  0.05007293, -0.08759586, -0.04391825, -0.000351  ,\n",
       "       -0.00296181, -0.0766124 ,  0.09614743,  0.04982058,  0.09233143],\n",
       "      dtype=float32)"
      ]
     },
     "execution_count": 42,
     "metadata": {},
     "output_type": "execute_result"
    }
   ],
   "source": [
    "model.wv[\"cat\"]"
   ]
  },
  {
   "cell_type": "markdown",
   "metadata": {
    "slideshow": {
     "slide_type": "slide"
    }
   },
   "source": [
    "What's the most similar word to the word _cat_? "
   ]
  },
  {
   "cell_type": "code",
   "execution_count": 43,
   "metadata": {},
   "outputs": [
    {
     "data": {
      "text/plain": [
       "[('say', -0.22418655455112457),\n",
       " ('dog', -0.3207966387271881),\n",
       " ('meow', -0.366271436214447),\n",
       " ('woof', -0.5381841659545898)]"
      ]
     },
     "execution_count": 43,
     "metadata": {},
     "output_type": "execute_result"
    }
   ],
   "source": [
    "model.wv.most_similar(\"cat\")"
   ]
  },
  {
   "cell_type": "markdown",
   "metadata": {},
   "source": [
    "Let's try it out on our small wiki corpus. "
   ]
  },
  {
   "cell_type": "code",
   "execution_count": 44,
   "metadata": {},
   "outputs": [
    {
     "data": {
      "text/plain": [
       "704"
      ]
     },
     "execution_count": 44,
     "metadata": {},
     "output_type": "execute_result"
    }
   ],
   "source": [
    "len(corpus)"
   ]
  },
  {
   "cell_type": "code",
   "execution_count": 45,
   "metadata": {},
   "outputs": [
    {
     "data": {
      "text/plain": [
       "['Machu Picchu is a 15th-century Inca citadel located in the Eastern Cordillera of southern Peru on a 2,430-meter (7,970 ft) mountain ridge.',\n",
       " 'Often referred to as the \"Lost City of the Incas\", it is the most familiar icon of the Inca Empire.',\n",
       " 'It is located in the Machupicchu District within Urubamba Province above the Sacred Valley, which is 80 kilometers (50 mi) northwest of Cusco.',\n",
       " \"The Urubamba River flows past it, cutting through the Cordillera and creating a canyon with a tropical mountain climate.For most speakers of English or Spanish, the first 'c' in Picchu is silent.\"]"
      ]
     },
     "execution_count": 45,
     "metadata": {},
     "output_type": "execute_result"
    }
   ],
   "source": [
    "corpus[:4]"
   ]
  },
  {
   "cell_type": "code",
   "execution_count": 46,
   "metadata": {},
   "outputs": [],
   "source": [
    "sents = MyPreprocessor(corpus)\n",
    "wiki_model = Word2Vec(sents, vector_size=100, window=5, min_count=2)"
   ]
  },
  {
   "cell_type": "code",
   "execution_count": 47,
   "metadata": {},
   "outputs": [
    {
     "data": {
      "text/plain": [
       "array([-0.00394472,  0.00817588,  0.0041514 ,  0.0117055 ,  0.00163259,\n",
       "       -0.01202148, -0.0008665 ,  0.01190453, -0.00473399, -0.00917544],\n",
       "      dtype=float32)"
      ]
     },
     "execution_count": 47,
     "metadata": {},
     "output_type": "execute_result"
    }
   ],
   "source": [
    "wiki_model.wv[\"tree\"][0:10]"
   ]
  },
  {
   "cell_type": "code",
   "execution_count": 48,
   "metadata": {},
   "outputs": [
    {
     "data": {
      "text/plain": [
       "[('picchu', 0.4608362913131714),\n",
       " ('inca', 0.4256758689880371),\n",
       " ('ft', 0.4102760851383209),\n",
       " ('quebec', 0.4053320288658142),\n",
       " ('canadian', 0.3863482177257538),\n",
       " ('government', 0.38236144185066223),\n",
       " ('party', 0.37928810715675354),\n",
       " ('federal', 0.3790249526500702),\n",
       " ('exercise', 0.3682748079299927),\n",
       " ('trees', 0.35351327061653137)]"
      ]
     },
     "execution_count": 48,
     "metadata": {},
     "output_type": "execute_result"
    }
   ],
   "source": [
    "wiki_model.wv.most_similar(\"tree\")"
   ]
  },
  {
   "cell_type": "markdown",
   "metadata": {},
   "source": [
    "- This is good. But if you want good and meaningful representations of words you need to train models on a large corpus such as the whole Wikipedia, which is computationally intensive. \n",
    "- So instead of training our own models, we use the **pre-trained embeddings**. These are the word embeddings people have trained embeddings on huge corpora and made them available for us to use. \n",
    "\n",
    "Let's try out Google news pre-trained word vectors. "
   ]
  },
  {
   "cell_type": "markdown",
   "metadata": {
    "slideshow": {
     "slide_type": "slide"
    }
   },
   "source": [
    "### Pre-trained embeddings\n",
    "\n",
    "- Training embeddings is computationally expensive\n",
    "- For typical corpora, the vocabulary size is greater than 100,000.  \n",
    "- If the size of embeddings is 300, the number of parameters of the model is $2 \\times 30,000,000$. \n",
    "- So people have trained embeddings on huge corpora and made them available.  "
   ]
  },
  {
   "cell_type": "markdown",
   "metadata": {
    "slideshow": {
     "slide_type": "slide"
    }
   },
   "source": [
    "A number of pre-trained word embeddings are available. The most popular ones are:  \n",
    "\n",
    "- [word2vec](https://code.google.com/archive/p/word2vec/)\n",
    "    * trained on several corpora using the word2vec algorithm \n",
    "- [wikipedia2vec](https://wikipedia2vec.github.io/wikipedia2vec/pretrained/)\n",
    "    * pretrained embeddings for 12 languages \n",
    "- [GloVe](https://nlp.stanford.edu/projects/glove/)\n",
    "    * trained using [the GloVe algorithm](https://nlp.stanford.edu/pubs/glove.pdf) \n",
    "    * published by Stanford University \n",
    "- [fastText pre-trained embeddings for 294 languages](https://fasttext.cc/docs/en/pretrained-vectors.html) \n",
    "    * trained using [the fastText algorithm](http://aclweb.org/anthology/Q17-1010)\n",
    "    * published by Facebook    "
   ]
  },
  {
   "cell_type": "markdown",
   "metadata": {},
   "source": [
    "Let's try Google News pre-trained embeddings.  \n",
    "\n",
    "- You can download pre-trained embeddings from their original source. \n",
    "- `Gensim` provides an api to conveniently load them. "
   ]
  },
  {
   "cell_type": "code",
   "execution_count": 49,
   "metadata": {},
   "outputs": [],
   "source": [
    "google_news_vectors = api.load(\"word2vec-google-news-300\")"
   ]
  },
  {
   "cell_type": "markdown",
   "metadata": {
    "slideshow": {
     "slide_type": "slide"
    }
   },
   "source": [
    "### Success of word2vec\n",
    "\n",
    "- This analogy example often comes up when people talk about word2vec, which was used by the authors of this method. \n",
    "- **MAN : KING :: WOMAN : ?**\n",
    "    - What is the word that is similar to **WOMAN** in the same sense as **KING** is similar to **MAN**?\n",
    "- Perform a simple algebraic operations with the vector representation of words.\n",
    "    $\\vec{X} = \\vec{\\text{KING}} − \\vec{\\text{MAN}} + \\vec{\\text{WOMAN}}$\n",
    "- Search in the vector space for the word closest to $\\vec{X}$ measured by cosine distance.\n",
    "\n",
    "![](img/word_analogies1.png)\n",
    "\n",
    "<!-- <center>\n",
    "<img src=\"img/word_analogies1.png\" width=\"400\" height=\"400\">\n",
    "</center>\n",
    "     -->\n",
    "(Credit: Mikolov et al. 2013)  "
   ]
  },
  {
   "cell_type": "code",
   "execution_count": 50,
   "metadata": {
    "slideshow": {
     "slide_type": "slide"
    }
   },
   "outputs": [],
   "source": [
    "def analogy(word1, word2, word3, model=google_news_vectors):\n",
    "    \"\"\"\n",
    "    Returns analogy word using the given model.\n",
    "\n",
    "    Parameters\n",
    "    --------------\n",
    "    word1 : (str)\n",
    "        word1 in the analogy relation\n",
    "    word2 : (str)\n",
    "        word2 in the analogy relation\n",
    "    word3 : (str)\n",
    "        word3 in the analogy relation\n",
    "    model :\n",
    "        word embedding model\n",
    "\n",
    "    Returns\n",
    "    ---------------\n",
    "        pd.dataframe\n",
    "    \"\"\"\n",
    "    print(\"%s : %s :: %s : ?\" % (word1, word2, word3))\n",
    "    sim_words = model.most_similar(positive=[word3, word2], negative=[word1])\n",
    "    return pd.DataFrame(sim_words, columns=[\"Analogy word\", \"Score\"])"
   ]
  },
  {
   "cell_type": "code",
   "execution_count": 51,
   "metadata": {
    "slideshow": {
     "slide_type": "slide"
    }
   },
   "outputs": [
    {
     "name": "stdout",
     "output_type": "stream",
     "text": [
      "man : king :: woman : ?\n"
     ]
    },
    {
     "data": {
      "text/html": [
       "<div>\n",
       "<style scoped>\n",
       "    .dataframe tbody tr th:only-of-type {\n",
       "        vertical-align: middle;\n",
       "    }\n",
       "\n",
       "    .dataframe tbody tr th {\n",
       "        vertical-align: top;\n",
       "    }\n",
       "\n",
       "    .dataframe thead th {\n",
       "        text-align: right;\n",
       "    }\n",
       "</style>\n",
       "<table border=\"1\" class=\"dataframe\">\n",
       "  <thead>\n",
       "    <tr style=\"text-align: right;\">\n",
       "      <th></th>\n",
       "      <th>Analogy word</th>\n",
       "      <th>Score</th>\n",
       "    </tr>\n",
       "  </thead>\n",
       "  <tbody>\n",
       "    <tr>\n",
       "      <th>0</th>\n",
       "      <td>queen</td>\n",
       "      <td>0.711819</td>\n",
       "    </tr>\n",
       "    <tr>\n",
       "      <th>1</th>\n",
       "      <td>monarch</td>\n",
       "      <td>0.618967</td>\n",
       "    </tr>\n",
       "    <tr>\n",
       "      <th>2</th>\n",
       "      <td>princess</td>\n",
       "      <td>0.590243</td>\n",
       "    </tr>\n",
       "    <tr>\n",
       "      <th>3</th>\n",
       "      <td>crown_prince</td>\n",
       "      <td>0.549946</td>\n",
       "    </tr>\n",
       "    <tr>\n",
       "      <th>4</th>\n",
       "      <td>prince</td>\n",
       "      <td>0.537732</td>\n",
       "    </tr>\n",
       "    <tr>\n",
       "      <th>5</th>\n",
       "      <td>kings</td>\n",
       "      <td>0.523684</td>\n",
       "    </tr>\n",
       "    <tr>\n",
       "      <th>6</th>\n",
       "      <td>Queen_Consort</td>\n",
       "      <td>0.523595</td>\n",
       "    </tr>\n",
       "    <tr>\n",
       "      <th>7</th>\n",
       "      <td>queens</td>\n",
       "      <td>0.518113</td>\n",
       "    </tr>\n",
       "    <tr>\n",
       "      <th>8</th>\n",
       "      <td>sultan</td>\n",
       "      <td>0.509859</td>\n",
       "    </tr>\n",
       "    <tr>\n",
       "      <th>9</th>\n",
       "      <td>monarchy</td>\n",
       "      <td>0.508741</td>\n",
       "    </tr>\n",
       "  </tbody>\n",
       "</table>\n",
       "</div>"
      ],
      "text/plain": [
       "    Analogy word     Score\n",
       "0  queen          0.711819\n",
       "1  monarch        0.618967\n",
       "2  princess       0.590243\n",
       "3  crown_prince   0.549946\n",
       "4  prince         0.537732\n",
       "5  kings          0.523684\n",
       "6  Queen_Consort  0.523595\n",
       "7  queens         0.518113\n",
       "8  sultan         0.509859\n",
       "9  monarchy       0.508741"
      ]
     },
     "execution_count": 51,
     "metadata": {},
     "output_type": "execute_result"
    }
   ],
   "source": [
    "analogy(\"man\", \"king\", \"woman\")"
   ]
  },
  {
   "cell_type": "code",
   "execution_count": 52,
   "metadata": {
    "slideshow": {
     "slide_type": "slide"
    }
   },
   "outputs": [
    {
     "name": "stdout",
     "output_type": "stream",
     "text": [
      "Montreal : Canadiens :: Vancouver : ?\n"
     ]
    },
    {
     "data": {
      "text/html": [
       "<div>\n",
       "<style scoped>\n",
       "    .dataframe tbody tr th:only-of-type {\n",
       "        vertical-align: middle;\n",
       "    }\n",
       "\n",
       "    .dataframe tbody tr th {\n",
       "        vertical-align: top;\n",
       "    }\n",
       "\n",
       "    .dataframe thead th {\n",
       "        text-align: right;\n",
       "    }\n",
       "</style>\n",
       "<table border=\"1\" class=\"dataframe\">\n",
       "  <thead>\n",
       "    <tr style=\"text-align: right;\">\n",
       "      <th></th>\n",
       "      <th>Analogy word</th>\n",
       "      <th>Score</th>\n",
       "    </tr>\n",
       "  </thead>\n",
       "  <tbody>\n",
       "    <tr>\n",
       "      <th>0</th>\n",
       "      <td>Canucks</td>\n",
       "      <td>0.821327</td>\n",
       "    </tr>\n",
       "    <tr>\n",
       "      <th>1</th>\n",
       "      <td>Vancouver_Canucks</td>\n",
       "      <td>0.750401</td>\n",
       "    </tr>\n",
       "    <tr>\n",
       "      <th>2</th>\n",
       "      <td>Calgary_Flames</td>\n",
       "      <td>0.705470</td>\n",
       "    </tr>\n",
       "    <tr>\n",
       "      <th>3</th>\n",
       "      <td>Leafs</td>\n",
       "      <td>0.695783</td>\n",
       "    </tr>\n",
       "    <tr>\n",
       "      <th>4</th>\n",
       "      <td>Maple_Leafs</td>\n",
       "      <td>0.691617</td>\n",
       "    </tr>\n",
       "    <tr>\n",
       "      <th>5</th>\n",
       "      <td>Thrashers</td>\n",
       "      <td>0.687504</td>\n",
       "    </tr>\n",
       "    <tr>\n",
       "      <th>6</th>\n",
       "      <td>Avs</td>\n",
       "      <td>0.681716</td>\n",
       "    </tr>\n",
       "    <tr>\n",
       "      <th>7</th>\n",
       "      <td>Sabres</td>\n",
       "      <td>0.665307</td>\n",
       "    </tr>\n",
       "    <tr>\n",
       "      <th>8</th>\n",
       "      <td>Blackhawks</td>\n",
       "      <td>0.664625</td>\n",
       "    </tr>\n",
       "    <tr>\n",
       "      <th>9</th>\n",
       "      <td>Habs</td>\n",
       "      <td>0.661023</td>\n",
       "    </tr>\n",
       "  </tbody>\n",
       "</table>\n",
       "</div>"
      ],
      "text/plain": [
       "        Analogy word     Score\n",
       "0  Canucks            0.821327\n",
       "1  Vancouver_Canucks  0.750401\n",
       "2  Calgary_Flames     0.705470\n",
       "3  Leafs              0.695783\n",
       "4  Maple_Leafs        0.691617\n",
       "5  Thrashers          0.687504\n",
       "6  Avs                0.681716\n",
       "7  Sabres             0.665307\n",
       "8  Blackhawks         0.664625\n",
       "9  Habs               0.661023"
      ]
     },
     "execution_count": 52,
     "metadata": {},
     "output_type": "execute_result"
    }
   ],
   "source": [
    "analogy(\"Montreal\", \"Canadiens\", \"Vancouver\")"
   ]
  },
  {
   "cell_type": "code",
   "execution_count": 53,
   "metadata": {
    "slideshow": {
     "slide_type": "-"
    }
   },
   "outputs": [
    {
     "name": "stdout",
     "output_type": "stream",
     "text": [
      "Toronto : UofT :: Vancouver : ?\n"
     ]
    },
    {
     "data": {
      "text/html": [
       "<div>\n",
       "<style scoped>\n",
       "    .dataframe tbody tr th:only-of-type {\n",
       "        vertical-align: middle;\n",
       "    }\n",
       "\n",
       "    .dataframe tbody tr th {\n",
       "        vertical-align: top;\n",
       "    }\n",
       "\n",
       "    .dataframe thead th {\n",
       "        text-align: right;\n",
       "    }\n",
       "</style>\n",
       "<table border=\"1\" class=\"dataframe\">\n",
       "  <thead>\n",
       "    <tr style=\"text-align: right;\">\n",
       "      <th></th>\n",
       "      <th>Analogy word</th>\n",
       "      <th>Score</th>\n",
       "    </tr>\n",
       "  </thead>\n",
       "  <tbody>\n",
       "    <tr>\n",
       "      <th>0</th>\n",
       "      <td>SFU</td>\n",
       "      <td>0.579245</td>\n",
       "    </tr>\n",
       "    <tr>\n",
       "      <th>1</th>\n",
       "      <td>UVic</td>\n",
       "      <td>0.576921</td>\n",
       "    </tr>\n",
       "    <tr>\n",
       "      <th>2</th>\n",
       "      <td>UBC</td>\n",
       "      <td>0.571431</td>\n",
       "    </tr>\n",
       "    <tr>\n",
       "      <th>3</th>\n",
       "      <td>Simon_Fraser</td>\n",
       "      <td>0.543464</td>\n",
       "    </tr>\n",
       "    <tr>\n",
       "      <th>4</th>\n",
       "      <td>Langara_College</td>\n",
       "      <td>0.541347</td>\n",
       "    </tr>\n",
       "    <tr>\n",
       "      <th>5</th>\n",
       "      <td>UVIC</td>\n",
       "      <td>0.520495</td>\n",
       "    </tr>\n",
       "    <tr>\n",
       "      <th>6</th>\n",
       "      <td>Grant_MacEwan</td>\n",
       "      <td>0.517273</td>\n",
       "    </tr>\n",
       "    <tr>\n",
       "      <th>7</th>\n",
       "      <td>UFV</td>\n",
       "      <td>0.514150</td>\n",
       "    </tr>\n",
       "    <tr>\n",
       "      <th>8</th>\n",
       "      <td>Ubyssey</td>\n",
       "      <td>0.510421</td>\n",
       "    </tr>\n",
       "    <tr>\n",
       "      <th>9</th>\n",
       "      <td>Kwantlen</td>\n",
       "      <td>0.503807</td>\n",
       "    </tr>\n",
       "  </tbody>\n",
       "</table>\n",
       "</div>"
      ],
      "text/plain": [
       "      Analogy word     Score\n",
       "0  SFU              0.579245\n",
       "1  UVic             0.576921\n",
       "2  UBC              0.571431\n",
       "3  Simon_Fraser     0.543464\n",
       "4  Langara_College  0.541347\n",
       "5  UVIC             0.520495\n",
       "6  Grant_MacEwan    0.517273\n",
       "7  UFV              0.514150\n",
       "8  Ubyssey          0.510421\n",
       "9  Kwantlen         0.503807"
      ]
     },
     "execution_count": 53,
     "metadata": {},
     "output_type": "execute_result"
    }
   ],
   "source": [
    "analogy(\"Toronto\", \"UofT\", \"Vancouver\")"
   ]
  },
  {
   "cell_type": "code",
   "execution_count": 54,
   "metadata": {
    "slideshow": {
     "slide_type": "slide"
    }
   },
   "outputs": [
    {
     "name": "stdout",
     "output_type": "stream",
     "text": [
      "Gauss : mathematician :: Bob_Dylan : ?\n"
     ]
    },
    {
     "data": {
      "text/html": [
       "<div>\n",
       "<style scoped>\n",
       "    .dataframe tbody tr th:only-of-type {\n",
       "        vertical-align: middle;\n",
       "    }\n",
       "\n",
       "    .dataframe tbody tr th {\n",
       "        vertical-align: top;\n",
       "    }\n",
       "\n",
       "    .dataframe thead th {\n",
       "        text-align: right;\n",
       "    }\n",
       "</style>\n",
       "<table border=\"1\" class=\"dataframe\">\n",
       "  <thead>\n",
       "    <tr style=\"text-align: right;\">\n",
       "      <th></th>\n",
       "      <th>Analogy word</th>\n",
       "      <th>Score</th>\n",
       "    </tr>\n",
       "  </thead>\n",
       "  <tbody>\n",
       "    <tr>\n",
       "      <th>0</th>\n",
       "      <td>singer_songwriter_Bob_Dylan</td>\n",
       "      <td>0.520782</td>\n",
       "    </tr>\n",
       "    <tr>\n",
       "      <th>1</th>\n",
       "      <td>poet</td>\n",
       "      <td>0.501191</td>\n",
       "    </tr>\n",
       "    <tr>\n",
       "      <th>2</th>\n",
       "      <td>Pete_Seeger</td>\n",
       "      <td>0.497143</td>\n",
       "    </tr>\n",
       "    <tr>\n",
       "      <th>3</th>\n",
       "      <td>Joan_Baez</td>\n",
       "      <td>0.492307</td>\n",
       "    </tr>\n",
       "    <tr>\n",
       "      <th>4</th>\n",
       "      <td>sitarist_Ravi_Shankar</td>\n",
       "      <td>0.491968</td>\n",
       "    </tr>\n",
       "    <tr>\n",
       "      <th>5</th>\n",
       "      <td>bluesman</td>\n",
       "      <td>0.490930</td>\n",
       "    </tr>\n",
       "    <tr>\n",
       "      <th>6</th>\n",
       "      <td>jazz_musician</td>\n",
       "      <td>0.489593</td>\n",
       "    </tr>\n",
       "    <tr>\n",
       "      <th>7</th>\n",
       "      <td>Joni_Mitchell</td>\n",
       "      <td>0.487740</td>\n",
       "    </tr>\n",
       "    <tr>\n",
       "      <th>8</th>\n",
       "      <td>Billie_Holiday</td>\n",
       "      <td>0.486664</td>\n",
       "    </tr>\n",
       "    <tr>\n",
       "      <th>9</th>\n",
       "      <td>Johnny_Cash</td>\n",
       "      <td>0.485722</td>\n",
       "    </tr>\n",
       "  </tbody>\n",
       "</table>\n",
       "</div>"
      ],
      "text/plain": [
       "                  Analogy word     Score\n",
       "0  singer_songwriter_Bob_Dylan  0.520782\n",
       "1  poet                         0.501191\n",
       "2  Pete_Seeger                  0.497143\n",
       "3  Joan_Baez                    0.492307\n",
       "4  sitarist_Ravi_Shankar        0.491968\n",
       "5  bluesman                     0.490930\n",
       "6  jazz_musician                0.489593\n",
       "7  Joni_Mitchell                0.487740\n",
       "8  Billie_Holiday               0.486664\n",
       "9  Johnny_Cash                  0.485722"
      ]
     },
     "execution_count": 54,
     "metadata": {},
     "output_type": "execute_result"
    }
   ],
   "source": [
    "analogy(\"Gauss\", \"mathematician\", \"Bob_Dylan\")"
   ]
  },
  {
   "cell_type": "code",
   "execution_count": 55,
   "metadata": {},
   "outputs": [
    {
     "name": "stdout",
     "output_type": "stream",
     "text": [
      "USA : pizza :: India : ?\n"
     ]
    },
    {
     "data": {
      "text/html": [
       "<div>\n",
       "<style scoped>\n",
       "    .dataframe tbody tr th:only-of-type {\n",
       "        vertical-align: middle;\n",
       "    }\n",
       "\n",
       "    .dataframe tbody tr th {\n",
       "        vertical-align: top;\n",
       "    }\n",
       "\n",
       "    .dataframe thead th {\n",
       "        text-align: right;\n",
       "    }\n",
       "</style>\n",
       "<table border=\"1\" class=\"dataframe\">\n",
       "  <thead>\n",
       "    <tr style=\"text-align: right;\">\n",
       "      <th></th>\n",
       "      <th>Analogy word</th>\n",
       "      <th>Score</th>\n",
       "    </tr>\n",
       "  </thead>\n",
       "  <tbody>\n",
       "    <tr>\n",
       "      <th>0</th>\n",
       "      <td>vada_pav</td>\n",
       "      <td>0.554463</td>\n",
       "    </tr>\n",
       "    <tr>\n",
       "      <th>1</th>\n",
       "      <td>jalebi</td>\n",
       "      <td>0.547090</td>\n",
       "    </tr>\n",
       "    <tr>\n",
       "      <th>2</th>\n",
       "      <td>idlis</td>\n",
       "      <td>0.540039</td>\n",
       "    </tr>\n",
       "    <tr>\n",
       "      <th>3</th>\n",
       "      <td>pav_bhaji</td>\n",
       "      <td>0.526046</td>\n",
       "    </tr>\n",
       "    <tr>\n",
       "      <th>4</th>\n",
       "      <td>dosas</td>\n",
       "      <td>0.521772</td>\n",
       "    </tr>\n",
       "    <tr>\n",
       "      <th>5</th>\n",
       "      <td>samosa</td>\n",
       "      <td>0.520700</td>\n",
       "    </tr>\n",
       "    <tr>\n",
       "      <th>6</th>\n",
       "      <td>idli</td>\n",
       "      <td>0.516858</td>\n",
       "    </tr>\n",
       "    <tr>\n",
       "      <th>7</th>\n",
       "      <td>pizzas</td>\n",
       "      <td>0.516199</td>\n",
       "    </tr>\n",
       "    <tr>\n",
       "      <th>8</th>\n",
       "      <td>tiffin</td>\n",
       "      <td>0.514347</td>\n",
       "    </tr>\n",
       "    <tr>\n",
       "      <th>9</th>\n",
       "      <td>chaat</td>\n",
       "      <td>0.508534</td>\n",
       "    </tr>\n",
       "  </tbody>\n",
       "</table>\n",
       "</div>"
      ],
      "text/plain": [
       "  Analogy word     Score\n",
       "0  vada_pav     0.554463\n",
       "1  jalebi       0.547090\n",
       "2  idlis        0.540039\n",
       "3  pav_bhaji    0.526046\n",
       "4  dosas        0.521772\n",
       "5  samosa       0.520700\n",
       "6  idli         0.516858\n",
       "7  pizzas       0.516199\n",
       "8  tiffin       0.514347\n",
       "9  chaat        0.508534"
      ]
     },
     "execution_count": 55,
     "metadata": {},
     "output_type": "execute_result"
    }
   ],
   "source": [
    "analogy(\"USA\", \"pizza\", \"India\") # Just for fun"
   ]
  },
  {
   "cell_type": "markdown",
   "metadata": {},
   "source": [
    "So you can imagine these models being useful in many meaning-related tasks. "
   ]
  },
  {
   "cell_type": "markdown",
   "metadata": {},
   "source": [
    "![](img/word2vec-country-capitals.png)\n",
    "\n",
    "(Credit: Mikolov et al. 2013)  "
   ]
  },
  {
   "cell_type": "markdown",
   "metadata": {
    "slideshow": {
     "slide_type": "slide"
    }
   },
   "source": [
    "### Examples of semantic and syntactic relationships\n",
    "\n",
    "\n",
    "<img src=\"img/word_analogies2.png\" width=\"800\" height=\"800\">\n",
    "\n",
    "(Credit: Mikolov 2013)"
   ]
  },
  {
   "cell_type": "markdown",
   "metadata": {},
   "source": [
    "### Implicit biases and stereotypes in word embeddings"
   ]
  },
  {
   "cell_type": "code",
   "execution_count": 56,
   "metadata": {
    "slideshow": {
     "slide_type": "slide"
    }
   },
   "outputs": [
    {
     "name": "stdout",
     "output_type": "stream",
     "text": [
      "man : computer_programmer :: woman : ?\n"
     ]
    },
    {
     "data": {
      "text/html": [
       "<div>\n",
       "<style scoped>\n",
       "    .dataframe tbody tr th:only-of-type {\n",
       "        vertical-align: middle;\n",
       "    }\n",
       "\n",
       "    .dataframe tbody tr th {\n",
       "        vertical-align: top;\n",
       "    }\n",
       "\n",
       "    .dataframe thead th {\n",
       "        text-align: right;\n",
       "    }\n",
       "</style>\n",
       "<table border=\"1\" class=\"dataframe\">\n",
       "  <thead>\n",
       "    <tr style=\"text-align: right;\">\n",
       "      <th></th>\n",
       "      <th>Analogy word</th>\n",
       "      <th>Score</th>\n",
       "    </tr>\n",
       "  </thead>\n",
       "  <tbody>\n",
       "    <tr>\n",
       "      <th>0</th>\n",
       "      <td>homemaker</td>\n",
       "      <td>0.562712</td>\n",
       "    </tr>\n",
       "    <tr>\n",
       "      <th>1</th>\n",
       "      <td>housewife</td>\n",
       "      <td>0.510505</td>\n",
       "    </tr>\n",
       "    <tr>\n",
       "      <th>2</th>\n",
       "      <td>graphic_designer</td>\n",
       "      <td>0.505180</td>\n",
       "    </tr>\n",
       "    <tr>\n",
       "      <th>3</th>\n",
       "      <td>schoolteacher</td>\n",
       "      <td>0.497949</td>\n",
       "    </tr>\n",
       "    <tr>\n",
       "      <th>4</th>\n",
       "      <td>businesswoman</td>\n",
       "      <td>0.493489</td>\n",
       "    </tr>\n",
       "    <tr>\n",
       "      <th>5</th>\n",
       "      <td>paralegal</td>\n",
       "      <td>0.492551</td>\n",
       "    </tr>\n",
       "    <tr>\n",
       "      <th>6</th>\n",
       "      <td>registered_nurse</td>\n",
       "      <td>0.490797</td>\n",
       "    </tr>\n",
       "    <tr>\n",
       "      <th>7</th>\n",
       "      <td>saleswoman</td>\n",
       "      <td>0.488163</td>\n",
       "    </tr>\n",
       "    <tr>\n",
       "      <th>8</th>\n",
       "      <td>electrical_engineer</td>\n",
       "      <td>0.479773</td>\n",
       "    </tr>\n",
       "    <tr>\n",
       "      <th>9</th>\n",
       "      <td>mechanical_engineer</td>\n",
       "      <td>0.475540</td>\n",
       "    </tr>\n",
       "  </tbody>\n",
       "</table>\n",
       "</div>"
      ],
      "text/plain": [
       "          Analogy word     Score\n",
       "0  homemaker            0.562712\n",
       "1  housewife            0.510505\n",
       "2  graphic_designer     0.505180\n",
       "3  schoolteacher        0.497949\n",
       "4  businesswoman        0.493489\n",
       "5  paralegal            0.492551\n",
       "6  registered_nurse     0.490797\n",
       "7  saleswoman           0.488163\n",
       "8  electrical_engineer  0.479773\n",
       "9  mechanical_engineer  0.475540"
      ]
     },
     "execution_count": 56,
     "metadata": {},
     "output_type": "execute_result"
    }
   ],
   "source": [
    "analogy(\"man\", \"computer_programmer\", \"woman\")"
   ]
  },
  {
   "cell_type": "markdown",
   "metadata": {},
   "source": [
    "![](img/eva-srsly.png)"
   ]
  },
  {
   "cell_type": "markdown",
   "metadata": {
    "slideshow": {
     "slide_type": "slide"
    }
   },
   "source": [
    "- Embeddings reflect gender stereotypes present in broader society.\n",
    "- They may also amplify these stereotypes because of their widespread usage. \n",
    "- See the paper [Man is to Computer Programmer as Woman is to ...](http://papers.nips.cc/paper/6228-man-is-to-computer-programmer-as-woman-is-to-homemaker-debiasing-word-embeddings.pdf)."
   ]
  },
  {
   "cell_type": "markdown",
   "metadata": {},
   "source": [
    "Most of the modern embeddings are de-biased for some obvious biases. "
   ]
  },
  {
   "cell_type": "markdown",
   "metadata": {
    "slideshow": {
     "slide_type": "slide"
    }
   },
   "source": [
    "### Other popular methods to get embeddings"
   ]
  },
  {
   "cell_type": "markdown",
   "metadata": {
    "slideshow": {
     "slide_type": "slide"
    }
   },
   "source": [
    "### [fastText](https://fasttext.cc/)\n",
    "\n",
    "- NLP library by Facebook research  \n",
    "- Includes an algorithm which is an extension to word2vec\n",
    "- Helps deal with unknown words elegantly\n",
    "- Breaks words into several n-gram subwords \n",
    "- Example: trigram sub-words for *berry* are *ber*, *err*, *rry*\n",
    "- Embedding(*berry*) = embedding(*ber*) + embedding(*err*) + embedding(rry)"
   ]
  },
  {
   "cell_type": "markdown",
   "metadata": {
    "slideshow": {
     "slide_type": "skip"
    }
   },
   "source": [
    "### (Optional) [GloVe: Global Vectors for Word Representation](https://nlp.stanford.edu/projects/glove/)\n",
    "- Starts with the co-occurrence matrix\n",
    "    - Co-occurrence can be interpreted as an indicator of semantic proximity of words\n",
    "- Takes advantage of global count statistics    \n",
    "- Predicts co-occurrence ratios\n",
    "- Loss based on word frequency"
   ]
  },
  {
   "cell_type": "markdown",
   "metadata": {
    "slideshow": {
     "slide_type": "-"
    }
   },
   "source": [
    "<br><br><br><br>"
   ]
  },
  {
   "cell_type": "markdown",
   "metadata": {},
   "source": [
    "## ❓❓ Questions for you"
   ]
  },
  {
   "cell_type": "markdown",
   "metadata": {},
   "source": [
    "### Exercise 5.2 Select all of the following statements which are **True** (iClicker)\n",
    "\n",
    "- (A) Suppose you learn word embeddings for a vocabulary of 20,000 words using word2vec. Then each dense word embedding associated with a word is of size 20,000 to make sure that we capture the full range of meaning of that word.\n",
    "- (B) If you try to get word vector for a word outside the vocabulary of your word2vec model, it will throw an error. \n",
    "- (C) A model trained with fastText is likely to contain representation for words even when they are not in the vocabulary. \n",
    "- (D) Suppose I have a HUGE corpus of biomedical text, which contains many domain-specific words and abbreviations. It makes sense to train our own embeddings to get word representations of the words in the corpus rather than using pre-trained Google News embeddings.  \n",
    "- (E) Suppose my corpus gets updated very often, and the new text tends to contain many unknown words. It makes sense to either train fastText or use pre-trained embeddings trained using fastText.\n",
    "\n",
    "\n",
    "**V's answers: B, C, D, E**"
   ]
  },
  {
   "cell_type": "markdown",
   "metadata": {
    "slideshow": {
     "slide_type": "-"
    }
   },
   "source": [
    "<br><br><br><br>"
   ]
  },
  {
   "cell_type": "markdown",
   "metadata": {
    "slideshow": {
     "slide_type": "slide"
    }
   },
   "source": [
    "## Final comments, summary, and reflection "
   ]
  },
  {
   "cell_type": "markdown",
   "metadata": {
    "slideshow": {
     "slide_type": "slide"
    }
   },
   "source": [
    "### Word embeddings \n",
    "\n",
    "- Word embeddings give a representation of individual words in a vector space so that \n",
    "    * Distance between words in this vector space indicate the relationship between them. \n",
    "- Word representations\n",
    "    * One-hot encoding \n",
    "        - not able to capture similarities between words \n",
    "    * Term-term co-occurrence matrix\n",
    "        - long and sparse representations\n",
    "    * word2vec\n",
    "        - short and dense representations"
   ]
  },
  {
   "cell_type": "markdown",
   "metadata": {
    "slideshow": {
     "slide_type": "slide"
    }
   },
   "source": [
    "### word2vec\n",
    "\n",
    "- word2vec is a recent alternative to LSA. \n",
    "- One of the most widely used and influential algorithms in the last decade. \n",
    "- Skipgram model predicts surrounding words (context words) given a target word. \n",
    "- We are not interested in the prediction task itself but we are interested in the learned weights which we use as word embeddings.  \n",
    "- Freely available code and pre-trained models. \n",
    "- Generally do not train these models yourself. It's very likely that there are pre-trained embedddings available for the domain of your interest. "
   ]
  },
  {
   "cell_type": "markdown",
   "metadata": {
    "slideshow": {
     "slide_type": "slide"
    }
   },
   "source": [
    "### Pre-trained embeddings \n",
    " \n",
    "- Available for many different languages in a variety of domains.  \n",
    "- Finally beware of biases and stereotypes encoded in these word embeddings! \n"
   ]
  },
  {
   "cell_type": "markdown",
   "metadata": {
    "slideshow": {
     "slide_type": "slide"
    }
   },
   "source": [
    "## Resources\n",
    "\n",
    "- [Embedding Projector](https://projector.tensorflow.org/)\n",
    "- [Word embedding workshop by Rachel Thomas](https://www.youtube.com/watch?v=25nC0n9ERq4)\n",
    "- [Distributed representations of words and phrases and their compositionality](https://papers.nips.cc/paper/5021-distributed-representations-of-words-and-phrases-and-their-compositionality.pdf)\n",
    "- [Efficient estimation of word representations in vector space](https://arxiv.org/pdf/1301.3781.pdf)\n",
    "- [Linguistic regularities in continuous space word representations](https://www.aclweb.org/anthology/N13-1090)\n",
    "- [Enriching Word Vectors with Subword Information](http://aclweb.org/anthology/Q17-1010)\n",
    "\n",
    "## Fun tools\n",
    "[wevi: word embedding visual inspector](https://ronxin.github.io/wevi/)"
   ]
  }
 ],
 "metadata": {
  "celltoolbar": "Slideshow",
  "kernelspec": {
   "display_name": "Python [conda env:563]",
   "language": "python",
   "name": "conda-env-563-py"
  },
  "language_info": {
   "codemirror_mode": {
    "name": "ipython",
    "version": 3
   },
   "file_extension": ".py",
   "mimetype": "text/x-python",
   "name": "python",
   "nbconvert_exporter": "python",
   "pygments_lexer": "ipython3",
   "version": "3.10.8"
  }
 },
 "nbformat": 4,
 "nbformat_minor": 4
}
