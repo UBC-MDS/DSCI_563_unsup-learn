{
 "cells": [
  {
   "cell_type": "markdown",
   "metadata": {
    "slideshow": {
     "slide_type": "slide"
    }
   },
   "source": [
    "![](img/563_banner.png)"
   ]
  },
  {
   "cell_type": "markdown",
   "metadata": {
    "tags": []
   },
   "source": [
    "# Course Information\n",
    "\n",
    "UBC Master of Data Science program, 2021-22\n",
    "\n",
    "Instructor: Varada Kolhatkar"
   ]
  },
  {
   "cell_type": "markdown",
   "metadata": {
    "slideshow": {
     "slide_type": "skip"
    }
   },
   "source": [
    "### Imports "
   ]
  },
  {
   "cell_type": "code",
   "execution_count": 1,
   "metadata": {
    "slideshow": {
     "slide_type": "skip"
    }
   },
   "outputs": [],
   "source": [
    "import sys\n",
    "\n",
    "import matplotlib.pyplot as plt\n",
    "import numpy as np\n",
    "import pandas as pd\n",
    "import seaborn as sns\n",
    "\n",
    "sys.path.append(\"code/.\")\n",
    "from sklearn import datasets\n",
    "from support_functions import *"
   ]
  },
  {
   "cell_type": "markdown",
   "metadata": {
    "slideshow": {
     "slide_type": "slide"
    }
   },
   "source": [
    "## Learning outcomes \n",
    "\n",
    "From this lecture, students are expected to be able to:\n",
    "\n",
    "- Explain what is unsupervised learning. \n",
    "- Explain the difference between supervised and unsupervised learning. \n",
    "- Name some example applications of unsupervised learning. \n"
   ]
  },
  {
   "cell_type": "markdown",
   "metadata": {
    "slideshow": {
     "slide_type": "slide"
    }
   },
   "source": [
    "### Types of machine learning \n",
    "\n",
    "Recall the typical learning problems we discussed in 571. \n",
    "\n",
    "- Supervised learning ([Gmail spam filtering](https://support.google.com/a/answer/2368132?hl=en))\n",
    "    - Training a model from input data and its corresponding targets to predict targets for new examples. (571, 572, 573)    \n",
    "- **Unsupervised learning** (this course) ([Google News](https://news.google.com/))\n",
    "    - Training a model to find patterns in a dataset, typically an unlabeled dataset.\n",
    "- Reinforcement learning ([AlphaGo](https://deepmind.com/research/case-studies/alphago-the-story-so-far))\n",
    "    - A family of algorithms for finding suitable actions to take in a given situation in order to maximize a reward. \n",
    "- **Recommendation systems** ([Amazon item recommendation system](https://www.cs.umd.edu/~samir/498/Amazon-Recommendations.pdf))\n",
    "    - Predict the \"rating\" or \"preference\" a user would give to an item.    "
   ]
  },
  {
   "cell_type": "markdown",
   "metadata": {
    "slideshow": {
     "slide_type": "slide"
    }
   },
   "source": [
    "### Supervised learning\n",
    "\n",
    "- Training data comprises a set of observations ($X$) and their corresponding targets ($y$). \n",
    "- We wish to find a model function $f$ that relates $X$ to $y$.\n",
    "- Then use that model function to predict the targets of new examples.\n",
    "- We have been working with this set up so far. \n",
    "\n",
    "![](img/sup-learning.png)\n",
    "\n",
    "<!-- <img src=\"img/sup-learning.png\" height=\"1000\" width=\"1000\">  -->"
   ]
  },
  {
   "cell_type": "markdown",
   "metadata": {
    "slideshow": {
     "slide_type": "slide"
    }
   },
   "source": [
    "### Unsupervised learning\n",
    "\n",
    "- Training data consists of observations ($X$) without any corresponding targets.\n",
    "- Unsupervised learning could be used to group similar things together in $X$ or to find underlying structure in the data. \n",
    "\n",
    "![](img/unsup-learning.png)\n",
    "\n",
    "<!-- <img src=\"img/unsup-learning.png\" alt=\"\" height=\"900\" width=\"900\">  -->"
   ]
  },
  {
   "cell_type": "markdown",
   "metadata": {
    "slideshow": {
     "slide_type": "slide"
    }
   },
   "source": [
    "### Can we learn without targets?"
   ]
  },
  {
   "cell_type": "markdown",
   "metadata": {
    "slideshow": {
     "slide_type": "fragment"
    }
   },
   "source": [
    "- Yes, but the learning will be focused on finding the underlying structures of the inputs themselves (rather than finding the function $f$ between input and output like we did in supervised learning models). \n",
    "\n",
    "- Examples:\n",
    "    - Clustering\n",
    "    - Dimensionality reduction"
   ]
  },
  {
   "cell_type": "markdown",
   "metadata": {
    "slideshow": {
     "slide_type": "slide"
    }
   },
   "source": [
    "### Labeled vs. Unlabeled data\n",
    "- If you have access to labeled training data, you're in the \"supervised\" setting. \n",
    "- You know what to do in that case from 571, 572, 573.  \n",
    "- Unfortunately, getting large amount of labeled training data is often time consuming and expensive.\n",
    "- Annotated data can become \"stale\" after a while in cases such as fraud detection. \n",
    "- Can you still make sense of the data even though you do not have the labels? \n",
    "- Yes! At least to a certain extent! "
   ]
  },
  {
   "cell_type": "markdown",
   "metadata": {
    "slideshow": {
     "slide_type": "slide"
    }
   },
   "source": [
    "### Example: Supervised vs unsupervised learning\n",
    "\n",
    "- In supervised learning, we are given features $X$ and target $y$. "
   ]
  },
  {
   "cell_type": "markdown",
   "metadata": {
    "slideshow": {
     "slide_type": "fragment"
    }
   },
   "source": [
    "\n",
    "<table>\n",
    "<tr style=\"background-color:white;\">\n",
    "    <td>\n",
    "        <table>\n",
    "            <tr>\n",
    "                <td colspan=\"2\" style=\"text-align:center;\"> <b>Dataset 1</b> </td>\n",
    "                <td></td>\n",
    "            </tr>\n",
    "            <tr>\n",
    "                <td>$x_1$</td>\n",
    "                <td>$y$</td>\n",
    "            </tr>\n",
    "            <tr>\n",
    "                <td> 101.0\n",
    "                <td> Sick\n",
    "            </tr>\n",
    "            <tr>\n",
    "                <td> 98.5 \n",
    "                <td> Not Sick\n",
    "            </tr>\n",
    "            <tr>\n",
    "                <td> 93.8 \n",
    "                <td> Sick\n",
    "            </tr>\n",
    "            <tr>\n",
    "                <td> 104.3\n",
    "                <td> Sick\n",
    "            </tr>\n",
    "            <tr>\n",
    "                <td> 98.6 \n",
    "                <td> Not Sick\n",
    "            </tr>\n",
    "        </table>\n",
    "    </td>\n",
    "    <td>\n",
    "       <table>\n",
    "            <tr>\n",
    "                <td colspan=\"3\" style=\"text-align:center;\"> <b>Dataset2</b> </td>\n",
    "                <td></td>\n",
    "            </tr>\n",
    "            <tr>\n",
    "                <td>$x_1$</td>\n",
    "                <td>$x_2$</td>\n",
    "                <td>$y$</td>\n",
    "            </tr>\n",
    "            <tr>\n",
    "                <td> -2.68\n",
    "                <td> 0.32 \n",
    "                <td>class 1\n",
    "            </tr>\n",
    "            <tr>\n",
    "                <td> -2.71\n",
    "                <td> -0.18\n",
    "                <td> class 1\n",
    "            </tr>\n",
    "            <tr>\n",
    "                <td> 1.28  \n",
    "                <td> 0.69    \n",
    "                <td> class 2\n",
    "            </tr>\n",
    "            <tr>\n",
    "                <td> 0.93  \n",
    "                <td> 0.32   \n",
    "                <td> class 2\n",
    "            </tr>\n",
    "            <tr>\n",
    "                <td> 1.39\n",
    "                <td> -0.28 \n",
    "                <td> class 3\n",
    "            </tr>\n",
    "        </table>\n",
    "    </td>\n",
    "</tr>\n",
    "</table>"
   ]
  },
  {
   "cell_type": "markdown",
   "metadata": {
    "slideshow": {
     "slide_type": "fragment"
    }
   },
   "source": [
    "- In unsupervised learning, we are only given features $X$. "
   ]
  },
  {
   "cell_type": "markdown",
   "metadata": {
    "slideshow": {
     "slide_type": "fragment"
    }
   },
   "source": [
    "<table>\n",
    "<tr style=\"background-color:white;\">\n",
    "    <td>\n",
    "        <table>\n",
    "            <tr>\n",
    "                <td colspan=\"2\" style=\"text-align:center;\"> <b>Dataset 1</b> </td>\n",
    "                <td></td>\n",
    "            </tr>\n",
    "            <tr>\n",
    "                <td>$x_1$</td>\n",
    "            </tr>\n",
    "            <tr>\n",
    "                <td> 101.0\n",
    "            </tr>\n",
    "            <tr>\n",
    "                <td> 98.5 \n",
    "            </tr>\n",
    "            <tr>\n",
    "                <td> 93.8 \n",
    "            </tr>\n",
    "            <tr>\n",
    "                <td> 104.3\n",
    "            </tr>\n",
    "            <tr>\n",
    "                <td> 98.6 \n",
    "            </tr>\n",
    "        </table>\n",
    "    </td>\n",
    "    <td>\n",
    "       <table>\n",
    "            <tr>\n",
    "                <td colspan=\"3\" style=\"text-align:center;\"> <b>Dataset 2</b> </td>\n",
    "                <td></td>\n",
    "            </tr>\n",
    "            <tr>\n",
    "                <td>$x_1$</td>\n",
    "                <td>$x_2$</td>\n",
    "            </tr>\n",
    "            <tr>\n",
    "                <td> -2.68\n",
    "                <td> 0.32 \n",
    "            </tr>\n",
    "            <tr>\n",
    "                <td> -2.71\n",
    "                <td> -0.18\n",
    "            </tr>\n",
    "            <tr>\n",
    "                <td> 1.28  \n",
    "                <td> 0.69    \n",
    "            </tr>\n",
    "            <tr>\n",
    "                <td> 0.93  \n",
    "                <td> 0.32   \n",
    "            </tr>\n",
    "            <tr>\n",
    "                <td> 1.39\n",
    "                <td> -0.28 \n",
    "            </tr>\n",
    "        </table>\n",
    "    </td>\n",
    "</tr>\n",
    "</table>"
   ]
  },
  {
   "cell_type": "markdown",
   "metadata": {
    "slideshow": {
     "slide_type": "slide"
    }
   },
   "source": [
    "### An example with `sklearn` toy dataset"
   ]
  },
  {
   "cell_type": "code",
   "execution_count": null,
   "metadata": {},
   "outputs": [],
   "source": [
    "## Iris dataset\n",
    "iris = datasets.load_iris()  # loading the iris dataset\n",
    "features = iris.data[:, 2:4]  # only consider two features for visualization\n",
    "labels = iris.target_names[\n",
    "    iris.target\n",
    "]  # get the targets, in this case the types of the Iris flower\n",
    "\n",
    "iris_df = pd.DataFrame(features, columns=iris.feature_names[2:])\n",
    "iris_df"
   ]
  },
  {
   "cell_type": "code",
   "execution_count": null,
   "metadata": {
    "slideshow": {
     "slide_type": "-"
    }
   },
   "outputs": [],
   "source": [
    "np.unique(labels)"
   ]
  },
  {
   "cell_type": "code",
   "execution_count": null,
   "metadata": {
    "slideshow": {
     "slide_type": "slide"
    }
   },
   "outputs": [],
   "source": [
    "iris_df[\"target\"] = labels\n",
    "plot_sup_x_unsup(iris_df, 8, 8)"
   ]
  },
  {
   "cell_type": "markdown",
   "metadata": {
    "slideshow": {
     "slide_type": "-"
    }
   },
   "source": [
    "- In case of supervised learning, we're given $X$ and $y$ (showed with different colours in the plot above). \n",
    "- In case of unsupervised learning, we're only given $X$ and the goal is to identify the underlying structure in data.  "
   ]
  },
  {
   "cell_type": "markdown",
   "metadata": {
    "slideshow": {
     "slide_type": "slide"
    }
   },
   "source": [
    "## Unsupervised learning applications"
   ]
  },
  {
   "cell_type": "markdown",
   "metadata": {
    "slideshow": {
     "slide_type": "slide"
    }
   },
   "source": [
    "### Example 1: Customer segmentation\n",
    "\n",
    "- Understand landscape of the market. \n",
    "\n",
    "![](img/customer-segmentation.png)\n",
    "<!-- <img src=\"img/customer-segmentation.png\" alt=\"\" height=\"800\" width=\"800\">  -->\n",
    "\n",
    "[source](https://www.youtube.com/watch?v=zPJtDohab-g&t=134s)"
   ]
  },
  {
   "cell_type": "markdown",
   "metadata": {
    "slideshow": {
     "slide_type": "slide"
    }
   },
   "source": [
    "### Example 2: Document clustering \n",
    "\n",
    "Grouping articles on different topics from different news sources. For example, [Google News](https://news.google.com). \n",
    "\n",
    "![](img/google_news.png)\n",
    "\n",
    "<!-- <img src=\"img/google_news.png\" alt=\"\" height=\"1200\" width=\"1200\">  -->"
   ]
  },
  {
   "cell_type": "markdown",
   "metadata": {
    "slideshow": {
     "slide_type": "slide"
    }
   },
   "source": [
    "### Example 3: Recommender systems\n",
    "\n",
    "- What should we recommend to the user, so that they buy another product?\n",
    "\n",
    "![](img/recommendation_system.png)\n",
    "<!-- <img src=\"img/recommendation_system.png\" alt=\"\" height=\"1000\" width=\"1000\">  -->"
   ]
  },
  {
   "cell_type": "markdown",
   "metadata": {
    "slideshow": {
     "slide_type": "slide"
    }
   },
   "source": [
    "#### Example 4: Examples projects from Capstone proposals \n",
    "\n",
    "Here are some projects from Capstone proposals which would involve unsupervised learning. \n",
    "\n",
    "- Creating (figurative) ecommerce shopping aisles with ML \n",
    "- Life Decision Support: Choose your best career path\n",
    "- ..."
   ]
  },
  {
   "cell_type": "markdown",
   "metadata": {},
   "source": [
    "### [Activity](https://docs.google.com/document/d/1hgkyxxvir-WddFhzuO6pRWjGnItEODbjFi-VUsIjYCk/edit?usp=sharing) (~5 mins)\n",
    "\n",
    "- Suppose you are asked to categorize the images below. What groups would you identify? \n",
    "- Write your answers in this [Google doc](https://docs.google.com/document/d/1hgkyxxvir-WddFhzuO6pRWjGnItEODbjFi-VUsIjYCk/edit?usp=sharing)."
   ]
  },
  {
   "cell_type": "markdown",
   "metadata": {},
   "source": [
    "![](img/food-clustering-activity.png)\n",
    "\n",
    "Source: Images taken from different recipe sites on the internet."
   ]
  },
  {
   "cell_type": "markdown",
   "metadata": {},
   "source": [
    "- If you want to build a machine learning model to cluster such images how would you represent such images? \n",
    "- Imagine that we also have ratings data of food items and users for a large number of users. Can you exploit the power of community to recommend certain food items to a given user they are likely to consume? "
   ]
  },
  {
   "cell_type": "markdown",
   "metadata": {},
   "source": [
    "## Course roadmap\n",
    "\n",
    "In this course we'll try to answer these questions. In particular, here is the roadmap of the course. \n",
    "\n",
    "- Week 1\n",
    "    - Clustering (How to group unlabeled data?)\n",
    "- Week 2 and week 3\n",
    "    - Dimensionality reduction (How to represent the data?)\n",
    "    - Word embeddings\n",
    "- Week 4\n",
    "    - Recommender systems (How to exploit the power of community to recommend relevant products, services, items to customers they are likely to consume?)"
   ]
  },
  {
   "cell_type": "markdown",
   "metadata": {
    "slideshow": {
     "slide_type": "slide"
    }
   },
   "source": [
    "## Framework and tools\n",
    "\n",
    "- `sklearn`\n",
    "- `PyTorch`\n",
    "\n",
    "I will be using `matplotlib`, `plotly`, `seaborn` for plotting simply because I am not very comfortable with `Altair` (hopefully next year I get a chance to learn it!). The plotting is mainly for the demonstration of the concepts and you are not expected to learn these libraries for this class. You are free to use the libraries of your choice in labs but encouraged to use `Altair`.     "
   ]
  },
  {
   "cell_type": "markdown",
   "metadata": {},
   "source": [
    "## Attributions\n",
    "\n",
    "The course material has been adapted from the material developed by amazing instructors who have taught this course before. In particular, many thanks to [Rodolfo Lourenzutti](https://www.stat.ubc.ca/users/rodolfo-lourenzutti) and [Mike Gelbart](https://www.mikegelbart.com/). "
   ]
  }
 ],
 "metadata": {
  "celltoolbar": "Slideshow",
  "kernelspec": {
   "display_name": "Python [conda env:563]",
   "language": "python",
   "name": "conda-env-563-py"
  },
  "language_info": {
   "codemirror_mode": {
    "name": "ipython",
    "version": 3
   },
   "file_extension": ".py",
   "mimetype": "text/x-python",
   "name": "python",
   "nbconvert_exporter": "python",
   "pygments_lexer": "ipython3",
   "version": "3.9.10"
  }
 },
 "nbformat": 4,
 "nbformat_minor": 4
}
